{
  "cells": [
    {
      "cell_type": "markdown",
      "metadata": {
        "id": "view-in-github",
        "colab_type": "text"
      },
      "source": [
        "<a href=\"https://colab.research.google.com/github/pahrul23/pahrul-skripsi/blob/main/SKRIPSI_LIBRARY.ipynb\" target=\"_parent\"><img src=\"https://colab.research.google.com/assets/colab-badge.svg\" alt=\"Open In Colab\"/></a>"
      ]
    },
    {
      "cell_type": "markdown",
      "metadata": {
        "id": "WVbFCPIspaam"
      },
      "source": [
        "# **LOAD** **DAN** **PREPROCESSING** **DATA**"
      ]
    },
    {
      "cell_type": "code",
      "execution_count": null,
      "metadata": {
        "colab": {
          "base_uri": "https://localhost:8080/"
        },
        "id": "29Jiecryw4rS",
        "outputId": "eb3ea3f4-9c97-4058-bc98-285b2cadd77c"
      },
      "outputs": [
        {
          "name": "stdout",
          "output_type": "stream",
          "text": [
            "Looking in indexes: https://pypi.org/simple, https://us-python.pkg.dev/colab-wheels/public/simple/\n",
            "Requirement already satisfied: nltk in /usr/local/lib/python3.9/dist-packages (3.8.1)\n",
            "Requirement already satisfied: regex>=2021.8.3 in /usr/local/lib/python3.9/dist-packages (from nltk) (2022.10.31)\n",
            "Requirement already satisfied: joblib in /usr/local/lib/python3.9/dist-packages (from nltk) (1.1.1)\n",
            "Requirement already satisfied: click in /usr/local/lib/python3.9/dist-packages (from nltk) (8.1.3)\n",
            "Requirement already satisfied: tqdm in /usr/local/lib/python3.9/dist-packages (from nltk) (4.65.0)\n",
            "Looking in indexes: https://pypi.org/simple, https://us-python.pkg.dev/colab-wheels/public/simple/\n",
            "Collecting Sastrawi\n",
            "  Downloading Sastrawi-1.0.1-py2.py3-none-any.whl (209 kB)\n",
            "\u001b[2K     \u001b[90m━━━━━━━━━━━━━━━━━━━━━━━━━━━━━━━━━━━━━━━\u001b[0m \u001b[32m209.7/209.7 KB\u001b[0m \u001b[31m8.6 MB/s\u001b[0m eta \u001b[36m0:00:00\u001b[0m\n",
            "\u001b[?25hInstalling collected packages: Sastrawi\n",
            "Successfully installed Sastrawi-1.0.1\n"
          ]
        }
      ],
      "source": [
        "!pip install nltk\n",
        "!pip install Sastrawi"
      ]
    },
    {
      "cell_type": "code",
      "execution_count": null,
      "metadata": {
        "id": "F7-mVBkWYih3"
      },
      "outputs": [],
      "source": [
        "import pandas as pd\n",
        "import numpy as np\n",
        "import matplotlib.pyplot as plt"
      ]
    },
    {
      "cell_type": "code",
      "execution_count": null,
      "metadata": {
        "id": "OyPfSzE-xn1x"
      },
      "outputs": [],
      "source": [
        "df_dataTraining = pd.read_csv('drive/MyDrive/Wira/labelV1.csv', encoding=\"ISO-8859-1\")"
      ]
    },
    {
      "cell_type": "code",
      "execution_count": null,
      "metadata": {
        "colab": {
          "base_uri": "https://localhost:8080/",
          "height": 572
        },
        "id": "M32ZoOXcxqX8",
        "outputId": "4d87a1d3-c74c-4801-8b74-7f49cfadb461"
      },
      "outputs": [
        {
          "data": {
            "text/html": [
              "\n",
              "  <div id=\"df-d8491360-a62b-4774-9f1b-59ed78db3ec4\">\n",
              "    <div class=\"colab-df-container\">\n",
              "      <div>\n",
              "<style scoped>\n",
              "    .dataframe tbody tr th:only-of-type {\n",
              "        vertical-align: middle;\n",
              "    }\n",
              "\n",
              "    .dataframe tbody tr th {\n",
              "        vertical-align: top;\n",
              "    }\n",
              "\n",
              "    .dataframe thead th {\n",
              "        text-align: right;\n",
              "    }\n",
              "</style>\n",
              "<table border=\"1\" class=\"dataframe\">\n",
              "  <thead>\n",
              "    <tr style=\"text-align: right;\">\n",
              "      <th></th>\n",
              "      <th>label</th>\n",
              "      <th>filtered</th>\n",
              "      <th>cleaned</th>\n",
              "      <th>content_tokens</th>\n",
              "      <th>normalisasi</th>\n",
              "    </tr>\n",
              "  </thead>\n",
              "  <tbody>\n",
              "    <tr>\n",
              "      <th>0</th>\n",
              "      <td>1.0</td>\n",
              "      <td>mantap</td>\n",
              "      <td>mantap</td>\n",
              "      <td>['mantap']</td>\n",
              "      <td>['mantap']</td>\n",
              "    </tr>\n",
              "    <tr>\n",
              "      <th>1</th>\n",
              "      <td>-1.0</td>\n",
              "      <td>kenapa saya ditagih hutang kan saya di tolak p...</td>\n",
              "      <td>kenapa saya tagih hutang saya tolak pinjam man...</td>\n",
              "      <td>['kenapa', 'saya', 'tagih', 'hutang', 'saya', ...</td>\n",
              "      <td>['kenapa', 'aku', 'tagih', 'hutang', 'aku', 't...</td>\n",
              "    </tr>\n",
              "    <tr>\n",
              "      <th>2</th>\n",
              "      <td>1.0</td>\n",
              "      <td>sangat bagus</td>\n",
              "      <td>sangat bagus</td>\n",
              "      <td>['sangat', 'bagus']</td>\n",
              "      <td>['sangat', 'bagus']</td>\n",
              "    </tr>\n",
              "    <tr>\n",
              "      <th>3</th>\n",
              "      <td>1.0</td>\n",
              "      <td>bagus</td>\n",
              "      <td>bagus</td>\n",
              "      <td>['bagus']</td>\n",
              "      <td>['bagus']</td>\n",
              "    </tr>\n",
              "    <tr>\n",
              "      <th>4</th>\n",
              "      <td>1.0</td>\n",
              "      <td>ini pengajuan pertama moga di acc krn lg butuh...</td>\n",
              "      <td>aju pertama moga acc lg butuh dana kembang war...</td>\n",
              "      <td>['aju', 'pertama', 'moga', 'acc', 'lg', 'butuh...</td>\n",
              "      <td>['aju', 'pertama', 'semoga', 'terima', 'lagi',...</td>\n",
              "    </tr>\n",
              "    <tr>\n",
              "      <th>...</th>\n",
              "      <td>...</td>\n",
              "      <td>...</td>\n",
              "      <td>...</td>\n",
              "      <td>...</td>\n",
              "      <td>...</td>\n",
              "    </tr>\n",
              "    <tr>\n",
              "      <th>17636</th>\n",
              "      <td>-1.0</td>\n",
              "      <td>ada kami ngentod</td>\n",
              "      <td>ada kami ngentod</td>\n",
              "      <td>['ada', 'kami', 'ngentod']</td>\n",
              "      <td>['ada', 'kami', 'ngentod']</td>\n",
              "    </tr>\n",
              "    <tr>\n",
              "      <th>17637</th>\n",
              "      <td>-1.0</td>\n",
              "      <td>waktu jatuh tempo masih hari tapi panggilan ma...</td>\n",
              "      <td>jatuh tempo masih hari tapi panggil masuk tagi...</td>\n",
              "      <td>['jatuh', 'tempo', 'masih', 'hari', 'tapi', 'p...</td>\n",
              "      <td>['jatuh', 'tempo', 'masih', 'hari', 'tapi', 'p...</td>\n",
              "    </tr>\n",
              "    <tr>\n",
              "      <th>17638</th>\n",
              "      <td>-1.0</td>\n",
              "      <td>pelayanan dan csnya buruk blum waktunya byar s...</td>\n",
              "      <td>layan csnya buruk blum waktu byar sdah tagih k...</td>\n",
              "      <td>['layan', 'csnya', 'buruk', 'blum', 'waktu', '...</td>\n",
              "      <td>['layan', 'csnya', 'buruk', 'blum', 'waktu', '...</td>\n",
              "    </tr>\n",
              "    <tr>\n",
              "      <th>17639</th>\n",
              "      <td>-1.0</td>\n",
              "      <td>aplikasi busuk baru daftar udah di tolak penga...</td>\n",
              "      <td>aplikasi busuk baru daftar udah tolak aju pinj...</td>\n",
              "      <td>['aplikasi', 'busuk', 'baru', 'daftar', 'udah'...</td>\n",
              "      <td>['aplikasi', 'busuk', 'baru', 'daftar', 'sudah...</td>\n",
              "    </tr>\n",
              "    <tr>\n",
              "      <th>17640</th>\n",
              "      <td>-1.0</td>\n",
              "      <td>hadeh apk apaan sih ga jelas</td>\n",
              "      <td>hadeh apk apa ga jelas</td>\n",
              "      <td>['hadeh', 'apk', 'apa', 'ga', 'jelas']</td>\n",
              "      <td>['aduh', 'aplikasi', 'apa', 'tidak', 'jelas']</td>\n",
              "    </tr>\n",
              "  </tbody>\n",
              "</table>\n",
              "<p>17641 rows × 5 columns</p>\n",
              "</div>\n",
              "      <button class=\"colab-df-convert\" onclick=\"convertToInteractive('df-d8491360-a62b-4774-9f1b-59ed78db3ec4')\"\n",
              "              title=\"Convert this dataframe to an interactive table.\"\n",
              "              style=\"display:none;\">\n",
              "        \n",
              "  <svg xmlns=\"http://www.w3.org/2000/svg\" height=\"24px\"viewBox=\"0 0 24 24\"\n",
              "       width=\"24px\">\n",
              "    <path d=\"M0 0h24v24H0V0z\" fill=\"none\"/>\n",
              "    <path d=\"M18.56 5.44l.94 2.06.94-2.06 2.06-.94-2.06-.94-.94-2.06-.94 2.06-2.06.94zm-11 1L8.5 8.5l.94-2.06 2.06-.94-2.06-.94L8.5 2.5l-.94 2.06-2.06.94zm10 10l.94 2.06.94-2.06 2.06-.94-2.06-.94-.94-2.06-.94 2.06-2.06.94z\"/><path d=\"M17.41 7.96l-1.37-1.37c-.4-.4-.92-.59-1.43-.59-.52 0-1.04.2-1.43.59L10.3 9.45l-7.72 7.72c-.78.78-.78 2.05 0 2.83L4 21.41c.39.39.9.59 1.41.59.51 0 1.02-.2 1.41-.59l7.78-7.78 2.81-2.81c.8-.78.8-2.07 0-2.86zM5.41 20L4 18.59l7.72-7.72 1.47 1.35L5.41 20z\"/>\n",
              "  </svg>\n",
              "      </button>\n",
              "      \n",
              "  <style>\n",
              "    .colab-df-container {\n",
              "      display:flex;\n",
              "      flex-wrap:wrap;\n",
              "      gap: 12px;\n",
              "    }\n",
              "\n",
              "    .colab-df-convert {\n",
              "      background-color: #E8F0FE;\n",
              "      border: none;\n",
              "      border-radius: 50%;\n",
              "      cursor: pointer;\n",
              "      display: none;\n",
              "      fill: #1967D2;\n",
              "      height: 32px;\n",
              "      padding: 0 0 0 0;\n",
              "      width: 32px;\n",
              "    }\n",
              "\n",
              "    .colab-df-convert:hover {\n",
              "      background-color: #E2EBFA;\n",
              "      box-shadow: 0px 1px 2px rgba(60, 64, 67, 0.3), 0px 1px 3px 1px rgba(60, 64, 67, 0.15);\n",
              "      fill: #174EA6;\n",
              "    }\n",
              "\n",
              "    [theme=dark] .colab-df-convert {\n",
              "      background-color: #3B4455;\n",
              "      fill: #D2E3FC;\n",
              "    }\n",
              "\n",
              "    [theme=dark] .colab-df-convert:hover {\n",
              "      background-color: #434B5C;\n",
              "      box-shadow: 0px 1px 3px 1px rgba(0, 0, 0, 0.15);\n",
              "      filter: drop-shadow(0px 1px 2px rgba(0, 0, 0, 0.3));\n",
              "      fill: #FFFFFF;\n",
              "    }\n",
              "  </style>\n",
              "\n",
              "      <script>\n",
              "        const buttonEl =\n",
              "          document.querySelector('#df-d8491360-a62b-4774-9f1b-59ed78db3ec4 button.colab-df-convert');\n",
              "        buttonEl.style.display =\n",
              "          google.colab.kernel.accessAllowed ? 'block' : 'none';\n",
              "\n",
              "        async function convertToInteractive(key) {\n",
              "          const element = document.querySelector('#df-d8491360-a62b-4774-9f1b-59ed78db3ec4');\n",
              "          const dataTable =\n",
              "            await google.colab.kernel.invokeFunction('convertToInteractive',\n",
              "                                                     [key], {});\n",
              "          if (!dataTable) return;\n",
              "\n",
              "          const docLinkHtml = 'Like what you see? Visit the ' +\n",
              "            '<a target=\"_blank\" href=https://colab.research.google.com/notebooks/data_table.ipynb>data table notebook</a>'\n",
              "            + ' to learn more about interactive tables.';\n",
              "          element.innerHTML = '';\n",
              "          dataTable['output_type'] = 'display_data';\n",
              "          await google.colab.output.renderOutput(dataTable, element);\n",
              "          const docLink = document.createElement('div');\n",
              "          docLink.innerHTML = docLinkHtml;\n",
              "          element.appendChild(docLink);\n",
              "        }\n",
              "      </script>\n",
              "    </div>\n",
              "  </div>\n",
              "  "
            ],
            "text/plain": [
              "       label                                           filtered  \\\n",
              "0        1.0                                             mantap   \n",
              "1       -1.0  kenapa saya ditagih hutang kan saya di tolak p...   \n",
              "2        1.0                                       sangat bagus   \n",
              "3        1.0                                              bagus   \n",
              "4        1.0  ini pengajuan pertama moga di acc krn lg butuh...   \n",
              "...      ...                                                ...   \n",
              "17636   -1.0                                   ada kami ngentod   \n",
              "17637   -1.0  waktu jatuh tempo masih hari tapi panggilan ma...   \n",
              "17638   -1.0  pelayanan dan csnya buruk blum waktunya byar s...   \n",
              "17639   -1.0  aplikasi busuk baru daftar udah di tolak penga...   \n",
              "17640   -1.0                       hadeh apk apaan sih ga jelas   \n",
              "\n",
              "                                                 cleaned  \\\n",
              "0                                                 mantap   \n",
              "1      kenapa saya tagih hutang saya tolak pinjam man...   \n",
              "2                                           sangat bagus   \n",
              "3                                                  bagus   \n",
              "4      aju pertama moga acc lg butuh dana kembang war...   \n",
              "...                                                  ...   \n",
              "17636                                   ada kami ngentod   \n",
              "17637  jatuh tempo masih hari tapi panggil masuk tagi...   \n",
              "17638  layan csnya buruk blum waktu byar sdah tagih k...   \n",
              "17639  aplikasi busuk baru daftar udah tolak aju pinj...   \n",
              "17640                             hadeh apk apa ga jelas   \n",
              "\n",
              "                                          content_tokens  \\\n",
              "0                                             ['mantap']   \n",
              "1      ['kenapa', 'saya', 'tagih', 'hutang', 'saya', ...   \n",
              "2                                    ['sangat', 'bagus']   \n",
              "3                                              ['bagus']   \n",
              "4      ['aju', 'pertama', 'moga', 'acc', 'lg', 'butuh...   \n",
              "...                                                  ...   \n",
              "17636                         ['ada', 'kami', 'ngentod']   \n",
              "17637  ['jatuh', 'tempo', 'masih', 'hari', 'tapi', 'p...   \n",
              "17638  ['layan', 'csnya', 'buruk', 'blum', 'waktu', '...   \n",
              "17639  ['aplikasi', 'busuk', 'baru', 'daftar', 'udah'...   \n",
              "17640             ['hadeh', 'apk', 'apa', 'ga', 'jelas']   \n",
              "\n",
              "                                             normalisasi  \n",
              "0                                             ['mantap']  \n",
              "1      ['kenapa', 'aku', 'tagih', 'hutang', 'aku', 't...  \n",
              "2                                    ['sangat', 'bagus']  \n",
              "3                                              ['bagus']  \n",
              "4      ['aju', 'pertama', 'semoga', 'terima', 'lagi',...  \n",
              "...                                                  ...  \n",
              "17636                         ['ada', 'kami', 'ngentod']  \n",
              "17637  ['jatuh', 'tempo', 'masih', 'hari', 'tapi', 'p...  \n",
              "17638  ['layan', 'csnya', 'buruk', 'blum', 'waktu', '...  \n",
              "17639  ['aplikasi', 'busuk', 'baru', 'daftar', 'sudah...  \n",
              "17640      ['aduh', 'aplikasi', 'apa', 'tidak', 'jelas']  \n",
              "\n",
              "[17641 rows x 5 columns]"
            ]
          },
          "execution_count": 125,
          "metadata": {},
          "output_type": "execute_result"
        }
      ],
      "source": [
        "df_dataTraining"
      ]
    },
    {
      "cell_type": "code",
      "execution_count": null,
      "metadata": {
        "colab": {
          "base_uri": "https://localhost:8080/"
        },
        "id": "aah8U5x52dY0",
        "outputId": "d0dd70c2-1154-40bb-d40c-d8e2fcbf1289"
      },
      "outputs": [
        {
          "name": "stdout",
          "output_type": "stream",
          "text": [
            " 1.0    7783\n",
            "-1.0    7736\n",
            " 0.0    2121\n",
            "Name: label, dtype: int64\n"
          ]
        }
      ],
      "source": [
        "print(df_dataTraining['label'].value_counts())\n",
        "# print(df_dataTraining.value_counts())"
      ]
    },
    {
      "cell_type": "code",
      "execution_count": null,
      "metadata": {
        "id": "a4ksd3CsjWir"
      },
      "outputs": [],
      "source": [
        "df_dataTraining['label'] = df_dataTraining['label'].replace([1], '2')\n",
        "df_dataTraining['label'] = df_dataTraining['label'].replace([-1], '1')\n",
        "df_dataTraining['label'] = df_dataTraining['label'].replace([0], '0')"
      ]
    },
    {
      "cell_type": "code",
      "execution_count": null,
      "metadata": {
        "colab": {
          "base_uri": "https://localhost:8080/"
        },
        "id": "blcNnGjljaY2",
        "outputId": "f7954821-4632-4879-a27a-f6a5c32d740b"
      },
      "outputs": [
        {
          "data": {
            "text/plain": [
              "2    7783\n",
              "1    7736\n",
              "0    2121\n",
              "Name: label, dtype: int64"
            ]
          },
          "execution_count": 128,
          "metadata": {},
          "output_type": "execute_result"
        }
      ],
      "source": [
        "df_dataTraining['label'].value_counts()"
      ]
    },
    {
      "cell_type": "code",
      "execution_count": null,
      "metadata": {
        "id": "uxVwmK5dHbpX"
      },
      "outputs": [],
      "source": [
        "#2 Untuk Positif\n",
        "#1 Untuk Negatif\n",
        "#0 Untuk Netral"
      ]
    },
    {
      "cell_type": "code",
      "execution_count": null,
      "metadata": {
        "id": "Ljq0jJ6K2WVV"
      },
      "outputs": [],
      "source": [
        "# import seaborn as sns\n",
        "# sns.countplot(df_dataTraining['label'])"
      ]
    },
    {
      "cell_type": "code",
      "execution_count": null,
      "metadata": {
        "colab": {
          "base_uri": "https://localhost:8080/",
          "height": 572
        },
        "id": "W2qWBgDxyFWB",
        "outputId": "bf04461e-a5fa-45cb-807a-ccb2cbee02c0"
      },
      "outputs": [
        {
          "data": {
            "text/html": [
              "\n",
              "  <div id=\"df-2ada4335-76bc-4410-b61f-fc6422c798b4\">\n",
              "    <div class=\"colab-df-container\">\n",
              "      <div>\n",
              "<style scoped>\n",
              "    .dataframe tbody tr th:only-of-type {\n",
              "        vertical-align: middle;\n",
              "    }\n",
              "\n",
              "    .dataframe tbody tr th {\n",
              "        vertical-align: top;\n",
              "    }\n",
              "\n",
              "    .dataframe thead th {\n",
              "        text-align: right;\n",
              "    }\n",
              "</style>\n",
              "<table border=\"1\" class=\"dataframe\">\n",
              "  <thead>\n",
              "    <tr style=\"text-align: right;\">\n",
              "      <th></th>\n",
              "      <th>label</th>\n",
              "      <th>filtered</th>\n",
              "      <th>cleaned</th>\n",
              "      <th>content_tokens</th>\n",
              "      <th>normalisasi</th>\n",
              "    </tr>\n",
              "  </thead>\n",
              "  <tbody>\n",
              "    <tr>\n",
              "      <th>0</th>\n",
              "      <td>2</td>\n",
              "      <td>mantap</td>\n",
              "      <td>mantap</td>\n",
              "      <td>['mantap']</td>\n",
              "      <td>['mantap']</td>\n",
              "    </tr>\n",
              "    <tr>\n",
              "      <th>1</th>\n",
              "      <td>1</td>\n",
              "      <td>kenapa saya ditagih hutang kan saya di tolak p...</td>\n",
              "      <td>kenapa saya tagih hutang saya tolak pinjam man...</td>\n",
              "      <td>['kenapa', 'saya', 'tagih', 'hutang', 'saya', ...</td>\n",
              "      <td>['kenapa', 'aku', 'tagih', 'hutang', 'aku', 't...</td>\n",
              "    </tr>\n",
              "    <tr>\n",
              "      <th>2</th>\n",
              "      <td>2</td>\n",
              "      <td>sangat bagus</td>\n",
              "      <td>sangat bagus</td>\n",
              "      <td>['sangat', 'bagus']</td>\n",
              "      <td>['sangat', 'bagus']</td>\n",
              "    </tr>\n",
              "    <tr>\n",
              "      <th>3</th>\n",
              "      <td>2</td>\n",
              "      <td>bagus</td>\n",
              "      <td>bagus</td>\n",
              "      <td>['bagus']</td>\n",
              "      <td>['bagus']</td>\n",
              "    </tr>\n",
              "    <tr>\n",
              "      <th>4</th>\n",
              "      <td>2</td>\n",
              "      <td>ini pengajuan pertama moga di acc krn lg butuh...</td>\n",
              "      <td>aju pertama moga acc lg butuh dana kembang war...</td>\n",
              "      <td>['aju', 'pertama', 'moga', 'acc', 'lg', 'butuh...</td>\n",
              "      <td>['aju', 'pertama', 'semoga', 'terima', 'lagi',...</td>\n",
              "    </tr>\n",
              "    <tr>\n",
              "      <th>...</th>\n",
              "      <td>...</td>\n",
              "      <td>...</td>\n",
              "      <td>...</td>\n",
              "      <td>...</td>\n",
              "      <td>...</td>\n",
              "    </tr>\n",
              "    <tr>\n",
              "      <th>17636</th>\n",
              "      <td>1</td>\n",
              "      <td>ada kami ngentod</td>\n",
              "      <td>ada kami ngentod</td>\n",
              "      <td>['ada', 'kami', 'ngentod']</td>\n",
              "      <td>['ada', 'kami', 'ngentod']</td>\n",
              "    </tr>\n",
              "    <tr>\n",
              "      <th>17637</th>\n",
              "      <td>1</td>\n",
              "      <td>waktu jatuh tempo masih hari tapi panggilan ma...</td>\n",
              "      <td>jatuh tempo masih hari tapi panggil masuk tagi...</td>\n",
              "      <td>['jatuh', 'tempo', 'masih', 'hari', 'tapi', 'p...</td>\n",
              "      <td>['jatuh', 'tempo', 'masih', 'hari', 'tapi', 'p...</td>\n",
              "    </tr>\n",
              "    <tr>\n",
              "      <th>17638</th>\n",
              "      <td>1</td>\n",
              "      <td>pelayanan dan csnya buruk blum waktunya byar s...</td>\n",
              "      <td>layan csnya buruk blum waktu byar sdah tagih k...</td>\n",
              "      <td>['layan', 'csnya', 'buruk', 'blum', 'waktu', '...</td>\n",
              "      <td>['layan', 'csnya', 'buruk', 'blum', 'waktu', '...</td>\n",
              "    </tr>\n",
              "    <tr>\n",
              "      <th>17639</th>\n",
              "      <td>1</td>\n",
              "      <td>aplikasi busuk baru daftar udah di tolak penga...</td>\n",
              "      <td>aplikasi busuk baru daftar udah tolak aju pinj...</td>\n",
              "      <td>['aplikasi', 'busuk', 'baru', 'daftar', 'udah'...</td>\n",
              "      <td>['aplikasi', 'busuk', 'baru', 'daftar', 'sudah...</td>\n",
              "    </tr>\n",
              "    <tr>\n",
              "      <th>17640</th>\n",
              "      <td>1</td>\n",
              "      <td>hadeh apk apaan sih ga jelas</td>\n",
              "      <td>hadeh apk apa ga jelas</td>\n",
              "      <td>['hadeh', 'apk', 'apa', 'ga', 'jelas']</td>\n",
              "      <td>['aduh', 'aplikasi', 'apa', 'tidak', 'jelas']</td>\n",
              "    </tr>\n",
              "  </tbody>\n",
              "</table>\n",
              "<p>17641 rows × 5 columns</p>\n",
              "</div>\n",
              "      <button class=\"colab-df-convert\" onclick=\"convertToInteractive('df-2ada4335-76bc-4410-b61f-fc6422c798b4')\"\n",
              "              title=\"Convert this dataframe to an interactive table.\"\n",
              "              style=\"display:none;\">\n",
              "        \n",
              "  <svg xmlns=\"http://www.w3.org/2000/svg\" height=\"24px\"viewBox=\"0 0 24 24\"\n",
              "       width=\"24px\">\n",
              "    <path d=\"M0 0h24v24H0V0z\" fill=\"none\"/>\n",
              "    <path d=\"M18.56 5.44l.94 2.06.94-2.06 2.06-.94-2.06-.94-.94-2.06-.94 2.06-2.06.94zm-11 1L8.5 8.5l.94-2.06 2.06-.94-2.06-.94L8.5 2.5l-.94 2.06-2.06.94zm10 10l.94 2.06.94-2.06 2.06-.94-2.06-.94-.94-2.06-.94 2.06-2.06.94z\"/><path d=\"M17.41 7.96l-1.37-1.37c-.4-.4-.92-.59-1.43-.59-.52 0-1.04.2-1.43.59L10.3 9.45l-7.72 7.72c-.78.78-.78 2.05 0 2.83L4 21.41c.39.39.9.59 1.41.59.51 0 1.02-.2 1.41-.59l7.78-7.78 2.81-2.81c.8-.78.8-2.07 0-2.86zM5.41 20L4 18.59l7.72-7.72 1.47 1.35L5.41 20z\"/>\n",
              "  </svg>\n",
              "      </button>\n",
              "      \n",
              "  <style>\n",
              "    .colab-df-container {\n",
              "      display:flex;\n",
              "      flex-wrap:wrap;\n",
              "      gap: 12px;\n",
              "    }\n",
              "\n",
              "    .colab-df-convert {\n",
              "      background-color: #E8F0FE;\n",
              "      border: none;\n",
              "      border-radius: 50%;\n",
              "      cursor: pointer;\n",
              "      display: none;\n",
              "      fill: #1967D2;\n",
              "      height: 32px;\n",
              "      padding: 0 0 0 0;\n",
              "      width: 32px;\n",
              "    }\n",
              "\n",
              "    .colab-df-convert:hover {\n",
              "      background-color: #E2EBFA;\n",
              "      box-shadow: 0px 1px 2px rgba(60, 64, 67, 0.3), 0px 1px 3px 1px rgba(60, 64, 67, 0.15);\n",
              "      fill: #174EA6;\n",
              "    }\n",
              "\n",
              "    [theme=dark] .colab-df-convert {\n",
              "      background-color: #3B4455;\n",
              "      fill: #D2E3FC;\n",
              "    }\n",
              "\n",
              "    [theme=dark] .colab-df-convert:hover {\n",
              "      background-color: #434B5C;\n",
              "      box-shadow: 0px 1px 3px 1px rgba(0, 0, 0, 0.15);\n",
              "      filter: drop-shadow(0px 1px 2px rgba(0, 0, 0, 0.3));\n",
              "      fill: #FFFFFF;\n",
              "    }\n",
              "  </style>\n",
              "\n",
              "      <script>\n",
              "        const buttonEl =\n",
              "          document.querySelector('#df-2ada4335-76bc-4410-b61f-fc6422c798b4 button.colab-df-convert');\n",
              "        buttonEl.style.display =\n",
              "          google.colab.kernel.accessAllowed ? 'block' : 'none';\n",
              "\n",
              "        async function convertToInteractive(key) {\n",
              "          const element = document.querySelector('#df-2ada4335-76bc-4410-b61f-fc6422c798b4');\n",
              "          const dataTable =\n",
              "            await google.colab.kernel.invokeFunction('convertToInteractive',\n",
              "                                                     [key], {});\n",
              "          if (!dataTable) return;\n",
              "\n",
              "          const docLinkHtml = 'Like what you see? Visit the ' +\n",
              "            '<a target=\"_blank\" href=https://colab.research.google.com/notebooks/data_table.ipynb>data table notebook</a>'\n",
              "            + ' to learn more about interactive tables.';\n",
              "          element.innerHTML = '';\n",
              "          dataTable['output_type'] = 'display_data';\n",
              "          await google.colab.output.renderOutput(dataTable, element);\n",
              "          const docLink = document.createElement('div');\n",
              "          docLink.innerHTML = docLinkHtml;\n",
              "          element.appendChild(docLink);\n",
              "        }\n",
              "      </script>\n",
              "    </div>\n",
              "  </div>\n",
              "  "
            ],
            "text/plain": [
              "      label                                           filtered  \\\n",
              "0         2                                             mantap   \n",
              "1         1  kenapa saya ditagih hutang kan saya di tolak p...   \n",
              "2         2                                       sangat bagus   \n",
              "3         2                                              bagus   \n",
              "4         2  ini pengajuan pertama moga di acc krn lg butuh...   \n",
              "...     ...                                                ...   \n",
              "17636     1                                   ada kami ngentod   \n",
              "17637     1  waktu jatuh tempo masih hari tapi panggilan ma...   \n",
              "17638     1  pelayanan dan csnya buruk blum waktunya byar s...   \n",
              "17639     1  aplikasi busuk baru daftar udah di tolak penga...   \n",
              "17640     1                       hadeh apk apaan sih ga jelas   \n",
              "\n",
              "                                                 cleaned  \\\n",
              "0                                                 mantap   \n",
              "1      kenapa saya tagih hutang saya tolak pinjam man...   \n",
              "2                                           sangat bagus   \n",
              "3                                                  bagus   \n",
              "4      aju pertama moga acc lg butuh dana kembang war...   \n",
              "...                                                  ...   \n",
              "17636                                   ada kami ngentod   \n",
              "17637  jatuh tempo masih hari tapi panggil masuk tagi...   \n",
              "17638  layan csnya buruk blum waktu byar sdah tagih k...   \n",
              "17639  aplikasi busuk baru daftar udah tolak aju pinj...   \n",
              "17640                             hadeh apk apa ga jelas   \n",
              "\n",
              "                                          content_tokens  \\\n",
              "0                                             ['mantap']   \n",
              "1      ['kenapa', 'saya', 'tagih', 'hutang', 'saya', ...   \n",
              "2                                    ['sangat', 'bagus']   \n",
              "3                                              ['bagus']   \n",
              "4      ['aju', 'pertama', 'moga', 'acc', 'lg', 'butuh...   \n",
              "...                                                  ...   \n",
              "17636                         ['ada', 'kami', 'ngentod']   \n",
              "17637  ['jatuh', 'tempo', 'masih', 'hari', 'tapi', 'p...   \n",
              "17638  ['layan', 'csnya', 'buruk', 'blum', 'waktu', '...   \n",
              "17639  ['aplikasi', 'busuk', 'baru', 'daftar', 'udah'...   \n",
              "17640             ['hadeh', 'apk', 'apa', 'ga', 'jelas']   \n",
              "\n",
              "                                             normalisasi  \n",
              "0                                             ['mantap']  \n",
              "1      ['kenapa', 'aku', 'tagih', 'hutang', 'aku', 't...  \n",
              "2                                    ['sangat', 'bagus']  \n",
              "3                                              ['bagus']  \n",
              "4      ['aju', 'pertama', 'semoga', 'terima', 'lagi',...  \n",
              "...                                                  ...  \n",
              "17636                         ['ada', 'kami', 'ngentod']  \n",
              "17637  ['jatuh', 'tempo', 'masih', 'hari', 'tapi', 'p...  \n",
              "17638  ['layan', 'csnya', 'buruk', 'blum', 'waktu', '...  \n",
              "17639  ['aplikasi', 'busuk', 'baru', 'daftar', 'sudah...  \n",
              "17640      ['aduh', 'aplikasi', 'apa', 'tidak', 'jelas']  \n",
              "\n",
              "[17641 rows x 5 columns]"
            ]
          },
          "execution_count": 129,
          "metadata": {},
          "output_type": "execute_result"
        }
      ],
      "source": [
        "df_dataTraining"
      ]
    },
    {
      "cell_type": "code",
      "execution_count": null,
      "metadata": {
        "colab": {
          "base_uri": "https://localhost:8080/"
        },
        "id": "aJDN4Mb4jga-",
        "outputId": "6bff93ed-1d2e-49f7-cf35-751b7eb3ee59"
      },
      "outputs": [
        {
          "data": {
            "text/plain": [
              "dtype('O')"
            ]
          },
          "execution_count": 130,
          "metadata": {},
          "output_type": "execute_result"
        }
      ],
      "source": [
        "df_dataTraining['label'].dtypes"
      ]
    },
    {
      "cell_type": "code",
      "execution_count": null,
      "metadata": {
        "id": "YgRdMWxclBVP"
      },
      "outputs": [],
      "source": [
        "df_dataTraining['label'] = pd.to_numeric(df_dataTraining['label'])"
      ]
    },
    {
      "cell_type": "code",
      "execution_count": null,
      "metadata": {
        "colab": {
          "base_uri": "https://localhost:8080/"
        },
        "id": "srPnuHcKlIfP",
        "outputId": "abd81183-5f0b-496c-94e6-b1350ce7fac5"
      },
      "outputs": [
        {
          "data": {
            "text/plain": [
              "dtype('float64')"
            ]
          },
          "execution_count": 132,
          "metadata": {},
          "output_type": "execute_result"
        }
      ],
      "source": [
        "df_dataTraining['label'].dtypes"
      ]
    },
    {
      "cell_type": "code",
      "execution_count": null,
      "metadata": {
        "colab": {
          "base_uri": "https://localhost:8080/"
        },
        "id": "iQi80zVUyY06",
        "outputId": "58af4cd9-61ff-4056-9a7f-76476b7920c2"
      },
      "outputs": [
        {
          "name": "stderr",
          "output_type": "stream",
          "text": [
            "[nltk_data] Downloading package stopwords to /root/nltk_data...\n",
            "[nltk_data]   Unzipping corpora/stopwords.zip.\n"
          ]
        }
      ],
      "source": [
        "import re\n",
        "import nltk\n",
        "from nltk.corpus import stopwords\n",
        "nltk.download(\"stopwords\")\n",
        "from Sastrawi.Stemmer.StemmerFactory import StemmerFactory"
      ]
    },
    {
      "cell_type": "code",
      "execution_count": null,
      "metadata": {
        "colab": {
          "base_uri": "https://localhost:8080/"
        },
        "id": "20WvOoUPMwCU",
        "outputId": "28fa3138-cd09-41f2-d362-d822c001118d"
      },
      "outputs": [
        {
          "name": "stdout",
          "output_type": "stream",
          "text": [
            "   label                                           filtered  \\\n",
            "0    2.0                                             mantap   \n",
            "1    1.0  kenapa saya ditagih hutang kan saya di tolak p...   \n",
            "2    2.0                                       sangat bagus   \n",
            "3    2.0                                              bagus   \n",
            "4    2.0  ini pengajuan pertama moga di acc krn lg butuh...   \n",
            "5    2.0                                    sangat membantu   \n",
            "6    0.0  menurut saya bagus cuma bunga creditnya agak b...   \n",
            "7    0.0                                                NaN   \n",
            "8    2.0  yth bapak ibu saya yang bernama meminta tolong...   \n",
            "9    0.0                                 semoga bisa di acc   \n",
            "\n",
            "                                             cleaned  \\\n",
            "0                                             mantap   \n",
            "1  kenapa saya tagih hutang saya tolak pinjam man...   \n",
            "2                                       sangat bagus   \n",
            "3                                              bagus   \n",
            "4  aju pertama moga acc lg butuh dana kembang war...   \n",
            "5                                       sangat bantu   \n",
            "6   turut saya bagus cuma bunga creditnya agak besar   \n",
            "7                                                NaN   \n",
            "8  bapak ibu saya nama minta tolong hapus data da...   \n",
            "9                                      moga bisa acc   \n",
            "\n",
            "                                      content_tokens  \\\n",
            "0                                         ['mantap']   \n",
            "1  ['kenapa', 'saya', 'tagih', 'hutang', 'saya', ...   \n",
            "2                                ['sangat', 'bagus']   \n",
            "3                                          ['bagus']   \n",
            "4  ['aju', 'pertama', 'moga', 'acc', 'lg', 'butuh...   \n",
            "5                                ['sangat', 'bantu']   \n",
            "6  ['turut', 'saya', 'bagus', 'cuma', 'bunga', 'c...   \n",
            "7                                                 []   \n",
            "8  ['bapak', 'ibu', 'saya', 'nama', 'minta', 'tol...   \n",
            "9                            ['moga', 'bisa', 'acc']   \n",
            "\n",
            "                                         normalisasi  \\\n",
            "0                                         ['mantap']   \n",
            "1  ['kenapa', 'aku', 'tagih', 'hutang', 'aku', 't...   \n",
            "2                                ['sangat', 'bagus']   \n",
            "3                                          ['bagus']   \n",
            "4  ['aju', 'pertama', 'semoga', 'terima', 'lagi',...   \n",
            "5                                ['sangat', 'bantu']   \n",
            "6  ['turut', 'aku', 'bagus', 'hanya', 'bunga', 'c...   \n",
            "7                                                 []   \n",
            "8  ['bapak', 'ibu', 'aku', 'nama', 'minta', 'tolo...   \n",
            "9                       ['semoga', 'bisa', 'terima']   \n",
            "\n",
            "                                            Stemming  \n",
            "0                                           [mantap]  \n",
            "1  [tagih, hutang, tolak, pinjam, bawa, hukum, to...  \n",
            "2                                            [bagus]  \n",
            "3                                            [bagus]  \n",
            "4  [aju, moga, terima, butuh, dana, kembang, waru...  \n",
            "5                                            [bantu]  \n",
            "6                          [bagus, bunga, creditnya]  \n",
            "7                                                 []  \n",
            "8  [nama, tolong, hapus, data, data, pribadi, apl...  \n",
            "9                                     [moga, terima]  \n",
            "\n",
            "                                            Stemming  label\n",
            "0                                             mantap    2.0\n",
            "1   tagih hutang tolak pinjam bawa hukum tolong h...    1.0\n",
            "2                                              bagus    2.0\n",
            "3                                              bagus    2.0\n",
            "4   aju moga terima butuh dana kembang warung kde...    2.0\n",
            "5                                              bantu    2.0\n",
            "6                              bagus bunga creditnya    0.0\n",
            "7                                                       0.0\n",
            "8   nama tolong hapus data data pribadi aplikasi ...    2.0\n",
            "9                                        moga terima    0.0\n",
            "\n"
          ]
        }
      ],
      "source": [
        "stop=set(stopwords.words(\"indonesian\"))\n",
        "stop_bow = set(stopwords.words(\"indonesian\"))\n",
        "stop_bow.discard(\"tidak\")\n",
        "factory = StemmerFactory()\n",
        "stemmer = factory.create_stemmer()\n",
        "\n",
        "text=df_dataTraining[\"normalisasi\"]\n",
        "cleaned_text_bow=[]\n",
        "cleaned_text=[]\n",
        "for line in text:\n",
        "    tags = re.compile(\"^@[a-zA-Z_]*\")\n",
        "    line = re.sub(tags,\" \",str(line))\n",
        "    hashtags = re.compile(\"#|\\*\")\n",
        "    extraCharacters = re.compile(\"[^a-zA-Z]\")\n",
        "    line = re.sub(extraCharacters,\" \",str(line))\n",
        "\n",
        "    filtered_words=[]\n",
        "    filtered_words_bow=\"\"\n",
        "    for word in line.split():\n",
        "        word=word.lower()\n",
        "        if(word not in stop):\n",
        "            word = stemmer.stem(word)\n",
        "            filtered_words.append(word)\n",
        "        if(word not in stop_bow):\n",
        "            word = stemmer.stem(word)\n",
        "            filtered_words_bow+=\" \"+word\n",
        "    cleaned_text.append(filtered_words)\n",
        "    cleaned_text_bow.append(filtered_words_bow)\n",
        "            \n",
        "data_bow = pd.DataFrame(data=cleaned_text_bow,columns=[\"Stemming\"])\n",
        "data_bow[\"label\"] = df_dataTraining[\"label\"]\n",
        "df_dataTraining[\"Stemming\"]=cleaned_text\n",
        "print(df_dataTraining.head(10))\n",
        "print()\n",
        "print(data_bow.head(10))\n",
        "print()"
      ]
    },
    {
      "cell_type": "code",
      "execution_count": null,
      "metadata": {
        "id": "KS247-QmTYfl"
      },
      "outputs": [],
      "source": [
        "# df_dataTraining.to_csv(r'drive/MyDrive/Wira/Word2Vec.csv', index = False, header = True,index_label=None)"
      ]
    },
    {
      "cell_type": "markdown",
      "metadata": {
        "id": "XS-8Yn_SudIw"
      },
      "source": [
        "**Word Embadding (Word2vec)**\n",
        "\n",
        "---\n",
        "\n"
      ]
    },
    {
      "cell_type": "code",
      "execution_count": null,
      "metadata": {
        "id": "kvPBytXjyrRl"
      },
      "outputs": [],
      "source": [
        "import gensim\n",
        "from tqdm import tqdm\n",
        "from sklearn.preprocessing import StandardScaler"
      ]
    },
    {
      "cell_type": "code",
      "execution_count": null,
      "metadata": {
        "id": "CfnHsopyysfb"
      },
      "outputs": [],
      "source": [
        "# Train on text data\n",
        "list_of_sent = df_dataTraining[\"Stemming\"]\n",
        "w2v_model = gensim.models.Word2Vec(list_of_sent, min_count=4, vector_size=200, workers=4, negative=10, seed=34) #vector_size = ukuran vector yg diinginkan, default cbow\n",
        "w2v_words = list(w2v_model.wv.index_to_key) #corpus/vocab ambil dr kata yg ada di data train \n",
        "\n",
        "# \"\"\"\n",
        "# Pertama, kode mengambil kolom \"Stemming\" dari dataframe df_dataTraining, yang berisi daftar kalimat yang telah diproses menjadi kata-kata dasar (stemmed).\n",
        "# Kemudian, model Word2Vec diinisialisasi dengan parameter min_count=4, artinya hanya kata-kata yang muncul sebanyak 4 kali atau lebih yang akan dimasukkan ke dalam kamus, size=200, \n",
        "# artinya vektor embedding yang dibuat memiliki panjang 200, workers=4, artinya pelatihan dilakukan dengan 4 thread, negative=10, artinya jumlah kata negatif yang diambil saat pelatihan adalah 10, dan seed=34, \n",
        "# artinya seed yang digunakan untuk inisialisasi model. Selanjutnya, kamus kata-kata yang ada di dalam model diambil dan disimpan dalam variabel w2v_words. \n",
        "# Kamus ini nantinya akan digunakan untuk membangun vektor representasi untuk setiap kata pada data uji dan latih.\n",
        "# \"\"\""
      ]
    },
    {
      "cell_type": "code",
      "execution_count": null,
      "metadata": {
        "id": "i6BksqOeG4yC"
      },
      "outputs": [],
      "source": [
        "# menyimpan model\n",
        "w2v_model.save(\"w2v_model.model\")"
      ]
    },
    {
      "cell_type": "code",
      "execution_count": null,
      "metadata": {
        "colab": {
          "base_uri": "https://localhost:8080/"
        },
        "id": "oJm4wTuhJAtx",
        "outputId": "853fb650-dda8-44fd-80c5-d68bee0e8c25"
      },
      "outputs": [
        {
          "data": {
            "text/plain": [
              "0                                                 [mantap]\n",
              "1        [tagih, hutang, tolak, pinjam, bawa, hukum, to...\n",
              "2                                                  [bagus]\n",
              "3                                                  [bagus]\n",
              "4        [aju, moga, terima, butuh, dana, kembang, waru...\n",
              "                               ...                        \n",
              "17636                                            [ngentod]\n",
              "17637    [jatuh, tempo, panggil, masuk, tagih, sampi, k...\n",
              "17638    [layan, csnya, buruk, blum, byar, sdah, tagih,...\n",
              "17639    [aplikasi, busuk, daftar, tolak, aju, pinjam, ...\n",
              "17640                                     [aduh, aplikasi]\n",
              "Name: Stemming, Length: 17641, dtype: object"
            ]
          },
          "execution_count": 64,
          "metadata": {},
          "output_type": "execute_result"
        }
      ],
      "source": [
        "df_dataTraining[\"Stemming\"]"
      ]
    },
    {
      "cell_type": "code",
      "execution_count": null,
      "metadata": {
        "colab": {
          "base_uri": "https://localhost:8080/"
        },
        "id": "SN4u3g1uy31y",
        "outputId": "eadb8f01-99ba-48c7-ba89-414485999277"
      },
      "outputs": [
        {
          "data": {
            "text/plain": [
              "1764"
            ]
          },
          "execution_count": 65,
          "metadata": {},
          "output_type": "execute_result"
        }
      ],
      "source": [
        "len(w2v_words)"
      ]
    },
    {
      "cell_type": "code",
      "execution_count": null,
      "metadata": {
        "colab": {
          "base_uri": "https://localhost:8080/"
        },
        "id": "2Jain_bEy7Qi",
        "outputId": "dde7691e-f414-4c0c-ab9e-a0043e9c61c0"
      },
      "outputs": [
        {
          "name": "stderr",
          "output_type": "stream",
          "text": [
            "100%|██████████| 17641/17641 [00:01<00:00, 16226.08it/s]\n"
          ]
        },
        {
          "name": "stdout",
          "output_type": "stream",
          "text": [
            "          0         1         2         3         4         5         6  \\\n",
            "0  0.342396 -0.389589  0.470020 -0.863059 -0.985634 -0.299488 -0.239083   \n",
            "1 -1.327985 -0.175099 -1.487017 -0.483551 -0.340173 -0.560382 -1.559313   \n",
            "2  0.216104 -0.426337  0.582890 -0.198371 -0.559057 -0.227799 -0.027062   \n",
            "3  0.216104 -0.426337  0.582890 -0.198371 -0.559057 -0.227799 -0.027062   \n",
            "4  0.137395  0.727792 -0.283191 -0.164068  0.466066 -0.258626  0.725946   \n",
            "5  0.124306  0.567513 -0.208390 -1.368548 -0.907389 -1.180292 -0.573782   \n",
            "6  1.169800 -1.495950  1.767413  0.608364 -0.865902  0.993045  0.370060   \n",
            "7  2.081497  2.344176  0.114518  1.269672  3.229348  2.143041  2.353612   \n",
            "8 -2.166318  0.617924 -2.950089 -1.889101 -0.812361 -1.379588 -1.822651   \n",
            "9 -0.925756  1.558034 -1.198595 -1.685528 -0.469628 -1.534950  0.785178   \n",
            "\n",
            "          7         8         9  ...       191       192       193       194  \\\n",
            "0 -1.416482  0.051724 -1.569476  ... -0.025088  1.168700  1.250729  0.945818   \n",
            "1  0.680134  1.726026  1.087906  ... -0.957604 -1.904396 -1.599424  0.788057   \n",
            "2 -1.121587 -0.253652 -0.760801  ... -0.332551  0.933522  0.658437  0.313025   \n",
            "3 -1.121587 -0.253652 -0.760801  ... -0.332551  0.933522  0.658437  0.313025   \n",
            "4  0.099070 -0.459884 -0.285761  ...  0.337842  0.276124  0.607526 -0.410581   \n",
            "5 -1.168850  0.293996 -1.698972  ...  0.001025  0.604361  1.730622  0.981314   \n",
            "6 -1.111745 -0.608976 -0.941136  ... -0.089804  1.365088  0.652113  0.185959   \n",
            "7  1.488858 -2.396519  0.186533  ...  1.839255  1.474113  0.781236 -2.728683   \n",
            "8  1.047751  2.714636  0.590944  ... -0.880146 -2.540783 -1.152085  1.786058   \n",
            "9  0.485159  0.553592 -0.608972  ...  0.510333 -0.390816  1.306422  0.759072   \n",
            "\n",
            "        195       196       197       198       199  label  \n",
            "0  0.109624  1.144852 -0.598982 -0.982936 -0.763911    2.0  \n",
            "1  1.155469 -2.086003 -1.110282  1.999616  0.812272    1.0  \n",
            "2 -0.426546  0.935061 -0.073261 -0.718469 -0.249603    2.0  \n",
            "3 -0.426546  0.935061 -0.073261 -0.718469 -0.249603    2.0  \n",
            "4  0.070653  0.530714  0.382217 -0.685439 -0.894596    2.0  \n",
            "5  0.826076  0.933296 -0.891313 -1.162720 -1.572571    2.0  \n",
            "6 -1.180846  1.413075  0.338744 -0.895053  0.398219    0.0  \n",
            "7 -1.834064  1.217411  2.837865 -1.621271 -1.574695    0.0  \n",
            "8  2.615804 -2.627779 -2.194706  2.100253 -0.086646    2.0  \n",
            "9  1.808844  0.073650 -0.832675 -0.800018 -1.754582    0.0  \n",
            "\n",
            "[10 rows x 201 columns]\n",
            "(17641, 201)\n"
          ]
        }
      ],
      "source": [
        "#Vectorize train text data\n",
        "listof_sent_vec=[]\n",
        "for sent in tqdm(list_of_sent): \n",
        "    sent_vec = np.zeros(200) \n",
        "    cnt_words =0; \n",
        "    for word in sent: \n",
        "        if word in w2v_words:\n",
        "            vec = w2v_model.wv[word]\n",
        "            sent_vec += vec\n",
        "            cnt_words += 1\n",
        "    if cnt_words != 0:\n",
        "        sent_vec /= cnt_words\n",
        "    listof_sent_vec.append(sent_vec)\n",
        "    \n",
        "Label = df_dataTraining[\"label\"]\n",
        "list_col=tuple(range(200))\n",
        "Scaler = StandardScaler()\n",
        "train_vec = Scaler.fit_transform(listof_sent_vec)\n",
        "W2v_df_dataTraining=pd.DataFrame(data=train_vec, columns=list_col)\n",
        "W2v_df_dataTraining[\"label\"] = Label\n",
        "\n",
        "print(W2v_df_dataTraining.head(10))\n",
        "print(W2v_df_dataTraining.shape)\n",
        "\n",
        "\n",
        "# \"\"\"\n",
        "# Proses vektorisasi dilakukan pada data training dengan mengubah setiap kalimat menjadi vektor berukuran 200 dimensi. Pada bagian pertama, list_of_sent berisi daftar kalimat yang sudah di-stemming dari data training. \n",
        "# Kemudian, model word2vec diinisialisasi dengan menggunakan parameter sebagai berikut:\n",
        "\n",
        "# min_count=4: kata yang muncul kurang dari 4 kali diabaikan dalam pembuatan vektor\n",
        "# size=200: ukuran vektor yang diinginkan\n",
        "# workers=4: jumlah thread yang digunakan untuk training\n",
        "# negative=10: jumlah kata yang dipilih sebagai negatif sampling\n",
        "# seed=34: seed untuk randomization\n",
        "\n",
        "# Setelah model word2vec dilatih, w2v_words menyimpan kumpulan kata-kata yang muncul di data training. Kemudian dilakukan iterasi pada setiap kalimat di list_of_sent. Untuk setiap kata di kalimat tersebut, \n",
        "# dicari vektor word2vec yang sesuai. Jika kata tidak ditemukan dalam w2v_words, maka kata tersebut diabaikan. Jika kata ditemukan, maka vektor word2vec-nya dijumlahkan pada sent_vec dan cnt_words ditambah 1. \n",
        "# Setelah iterasi selesai, sent_vec dibagi dengan cnt_words untuk mendapatkan rata-rata vektor kalimat tersebut. Selanjutnya, sent_vec dimasukkan ke dalam listof_sent_vec.\n",
        "# Terakhir, hasil vektorisasi tersebut disimpan ke dalam dataframe W2v_df_dataTraining. Kolom label menyimpan label dari setiap kalimat, sedangkan kolom-kolom lainnya menyimpan nilai vektor. \n",
        "# Sebelum disimpan, dilakukan normalisasi pada vektor menggunakan StandardScaler dari sklearn.preprocessing.\n",
        "\n",
        "\n",
        "# \"\"\""
      ]
    },
    {
      "cell_type": "markdown",
      "metadata": {
        "id": "MvIA0JI8Qyq-"
      },
      "source": [
        "# **LANGSUNG LOAD DATA HASIL PREPROCESSING**"
      ]
    },
    {
      "cell_type": "code",
      "execution_count": 1,
      "metadata": {
        "colab": {
          "base_uri": "https://localhost:8080/"
        },
        "id": "eKWNFliXWJzF",
        "outputId": "3776b09d-8174-4021-d001-3cf793bedf14"
      },
      "outputs": [
        {
          "output_type": "stream",
          "name": "stdout",
          "text": [
            "Mounted at /content/drive\n"
          ]
        }
      ],
      "source": [
        "from google.colab import drive\n",
        "drive.mount('/content/drive')"
      ]
    },
    {
      "cell_type": "code",
      "execution_count": 2,
      "metadata": {
        "id": "gTuRDKh1Q0kB"
      },
      "outputs": [],
      "source": [
        "import pandas as pd\n",
        "import numpy as np\n",
        "import matplotlib.pyplot as plt"
      ]
    },
    {
      "cell_type": "code",
      "execution_count": 3,
      "metadata": {
        "id": "JFaOpK92zPQ-"
      },
      "outputs": [],
      "source": [
        "W2v_df_dataTraining = pd.read_csv('drive/MyDrive/Wira/Word2Vec.csv', encoding=\"ISO-8859-1\")"
      ]
    },
    {
      "cell_type": "code",
      "execution_count": 4,
      "metadata": {
        "colab": {
          "base_uri": "https://localhost:8080/",
          "height": 488
        },
        "id": "g0Bbea26RSjS",
        "outputId": "4731e4ef-5012-41d7-9b84-4d2ac220759b"
      },
      "outputs": [
        {
          "output_type": "execute_result",
          "data": {
            "text/plain": [
              "              0         1         2         3         4         5         6  \\\n",
              "0      0.589647 -0.032969  1.577858 -0.261099 -0.816928  1.169729 -0.045591   \n",
              "1      0.169849 -0.948463 -1.936053  0.370609 -0.218172  0.135423  1.503564   \n",
              "2      0.049207 -0.055259  1.162899  0.103344 -0.585705  0.272081 -0.464852   \n",
              "3      0.049207 -0.055259  1.162899  0.103344 -0.585705  0.272081 -0.464852   \n",
              "4      0.284075  0.624841  0.282875 -0.772059  0.575722  0.398152 -0.181389   \n",
              "...         ...       ...       ...       ...       ...       ...       ...   \n",
              "17635  1.421210  3.128096  0.114922 -2.611097  3.436417 -1.410561 -0.976095   \n",
              "17636 -2.929913 -1.509963 -1.346306  1.939351 -0.224151 -1.337806 -1.937517   \n",
              "17637 -0.958356 -0.204796 -0.415086  0.642472  0.206285 -0.827741 -0.794551   \n",
              "17638  0.524655 -1.013381 -2.308306  0.158416 -0.202552  0.506964  2.059501   \n",
              "17639  0.759523  0.627998 -0.269104 -0.375059  0.683213 -0.262889  0.564891   \n",
              "\n",
              "              7         8         9  ...       191       192       193  \\\n",
              "0      0.105004 -1.654137  0.374675  ... -1.184555 -0.482295 -1.474492   \n",
              "1     -0.821239  0.996892 -1.880665  ...  0.341622 -0.482107  0.355359   \n",
              "2      0.505787 -0.900250  0.626195  ... -0.431760  0.167611 -0.705386   \n",
              "3      0.505787 -0.900250  0.626195  ... -0.431760  0.167611 -0.705386   \n",
              "4     -0.392350 -0.220285  0.273051  ... -0.438284 -0.567406  0.195598   \n",
              "...         ...       ...       ...  ...       ...       ...       ...   \n",
              "17635 -1.382296  0.751334  1.908477  ...  0.470704  0.420560  1.974974   \n",
              "17636  2.330764  2.523358  0.509626  ...  2.653045  2.623997  2.299301   \n",
              "17637  0.744620  0.938180  0.443751  ...  0.945847  0.975964  0.969092   \n",
              "17638 -1.338397  1.018989 -2.423215  ...  0.114741 -0.998798  0.224538   \n",
              "17639 -0.862586  0.073697 -0.056642  ...  0.178904  0.041351  0.028916   \n",
              "\n",
              "            194       195       196       197       198       199  label  \n",
              "0      1.697958  0.375751  0.555185  0.375916  0.981808 -1.704464      2  \n",
              "1     -0.834764  0.591695 -1.615025 -1.132158  0.398693  0.635384      1  \n",
              "2      1.139312  0.352743  0.562127  0.703678  0.562917 -0.809697      2  \n",
              "3      1.139312  0.352743  0.562127  0.703678  0.562917 -0.809697      2  \n",
              "4     -0.231363 -0.827963  0.422755 -0.221953 -0.709832 -0.015067      2  \n",
              "...         ...       ...       ...       ...       ...       ...    ...  \n",
              "17635 -2.383461 -3.285148  2.407402 -1.522504 -3.361125  1.637426      1  \n",
              "17636 -1.443935  1.025284 -1.089208  2.151263 -0.149006  2.373927      1  \n",
              "17637 -0.477760  0.025019 -0.080705  0.633886 -0.314003  0.856739      1  \n",
              "17638 -0.922002  0.580955 -1.963623 -1.629168  0.435039  0.590974      1  \n",
              "17639 -0.403917 -0.590287  0.353710 -0.896975 -0.327168  0.057265      1  \n",
              "\n",
              "[17640 rows x 201 columns]"
            ],
            "text/html": [
              "\n",
              "  <div id=\"df-48f2f082-dcb1-4485-8d4e-c6250b769295\">\n",
              "    <div class=\"colab-df-container\">\n",
              "      <div>\n",
              "<style scoped>\n",
              "    .dataframe tbody tr th:only-of-type {\n",
              "        vertical-align: middle;\n",
              "    }\n",
              "\n",
              "    .dataframe tbody tr th {\n",
              "        vertical-align: top;\n",
              "    }\n",
              "\n",
              "    .dataframe thead th {\n",
              "        text-align: right;\n",
              "    }\n",
              "</style>\n",
              "<table border=\"1\" class=\"dataframe\">\n",
              "  <thead>\n",
              "    <tr style=\"text-align: right;\">\n",
              "      <th></th>\n",
              "      <th>0</th>\n",
              "      <th>1</th>\n",
              "      <th>2</th>\n",
              "      <th>3</th>\n",
              "      <th>4</th>\n",
              "      <th>5</th>\n",
              "      <th>6</th>\n",
              "      <th>7</th>\n",
              "      <th>8</th>\n",
              "      <th>9</th>\n",
              "      <th>...</th>\n",
              "      <th>191</th>\n",
              "      <th>192</th>\n",
              "      <th>193</th>\n",
              "      <th>194</th>\n",
              "      <th>195</th>\n",
              "      <th>196</th>\n",
              "      <th>197</th>\n",
              "      <th>198</th>\n",
              "      <th>199</th>\n",
              "      <th>label</th>\n",
              "    </tr>\n",
              "  </thead>\n",
              "  <tbody>\n",
              "    <tr>\n",
              "      <th>0</th>\n",
              "      <td>0.589647</td>\n",
              "      <td>-0.032969</td>\n",
              "      <td>1.577858</td>\n",
              "      <td>-0.261099</td>\n",
              "      <td>-0.816928</td>\n",
              "      <td>1.169729</td>\n",
              "      <td>-0.045591</td>\n",
              "      <td>0.105004</td>\n",
              "      <td>-1.654137</td>\n",
              "      <td>0.374675</td>\n",
              "      <td>...</td>\n",
              "      <td>-1.184555</td>\n",
              "      <td>-0.482295</td>\n",
              "      <td>-1.474492</td>\n",
              "      <td>1.697958</td>\n",
              "      <td>0.375751</td>\n",
              "      <td>0.555185</td>\n",
              "      <td>0.375916</td>\n",
              "      <td>0.981808</td>\n",
              "      <td>-1.704464</td>\n",
              "      <td>2</td>\n",
              "    </tr>\n",
              "    <tr>\n",
              "      <th>1</th>\n",
              "      <td>0.169849</td>\n",
              "      <td>-0.948463</td>\n",
              "      <td>-1.936053</td>\n",
              "      <td>0.370609</td>\n",
              "      <td>-0.218172</td>\n",
              "      <td>0.135423</td>\n",
              "      <td>1.503564</td>\n",
              "      <td>-0.821239</td>\n",
              "      <td>0.996892</td>\n",
              "      <td>-1.880665</td>\n",
              "      <td>...</td>\n",
              "      <td>0.341622</td>\n",
              "      <td>-0.482107</td>\n",
              "      <td>0.355359</td>\n",
              "      <td>-0.834764</td>\n",
              "      <td>0.591695</td>\n",
              "      <td>-1.615025</td>\n",
              "      <td>-1.132158</td>\n",
              "      <td>0.398693</td>\n",
              "      <td>0.635384</td>\n",
              "      <td>1</td>\n",
              "    </tr>\n",
              "    <tr>\n",
              "      <th>2</th>\n",
              "      <td>0.049207</td>\n",
              "      <td>-0.055259</td>\n",
              "      <td>1.162899</td>\n",
              "      <td>0.103344</td>\n",
              "      <td>-0.585705</td>\n",
              "      <td>0.272081</td>\n",
              "      <td>-0.464852</td>\n",
              "      <td>0.505787</td>\n",
              "      <td>-0.900250</td>\n",
              "      <td>0.626195</td>\n",
              "      <td>...</td>\n",
              "      <td>-0.431760</td>\n",
              "      <td>0.167611</td>\n",
              "      <td>-0.705386</td>\n",
              "      <td>1.139312</td>\n",
              "      <td>0.352743</td>\n",
              "      <td>0.562127</td>\n",
              "      <td>0.703678</td>\n",
              "      <td>0.562917</td>\n",
              "      <td>-0.809697</td>\n",
              "      <td>2</td>\n",
              "    </tr>\n",
              "    <tr>\n",
              "      <th>3</th>\n",
              "      <td>0.049207</td>\n",
              "      <td>-0.055259</td>\n",
              "      <td>1.162899</td>\n",
              "      <td>0.103344</td>\n",
              "      <td>-0.585705</td>\n",
              "      <td>0.272081</td>\n",
              "      <td>-0.464852</td>\n",
              "      <td>0.505787</td>\n",
              "      <td>-0.900250</td>\n",
              "      <td>0.626195</td>\n",
              "      <td>...</td>\n",
              "      <td>-0.431760</td>\n",
              "      <td>0.167611</td>\n",
              "      <td>-0.705386</td>\n",
              "      <td>1.139312</td>\n",
              "      <td>0.352743</td>\n",
              "      <td>0.562127</td>\n",
              "      <td>0.703678</td>\n",
              "      <td>0.562917</td>\n",
              "      <td>-0.809697</td>\n",
              "      <td>2</td>\n",
              "    </tr>\n",
              "    <tr>\n",
              "      <th>4</th>\n",
              "      <td>0.284075</td>\n",
              "      <td>0.624841</td>\n",
              "      <td>0.282875</td>\n",
              "      <td>-0.772059</td>\n",
              "      <td>0.575722</td>\n",
              "      <td>0.398152</td>\n",
              "      <td>-0.181389</td>\n",
              "      <td>-0.392350</td>\n",
              "      <td>-0.220285</td>\n",
              "      <td>0.273051</td>\n",
              "      <td>...</td>\n",
              "      <td>-0.438284</td>\n",
              "      <td>-0.567406</td>\n",
              "      <td>0.195598</td>\n",
              "      <td>-0.231363</td>\n",
              "      <td>-0.827963</td>\n",
              "      <td>0.422755</td>\n",
              "      <td>-0.221953</td>\n",
              "      <td>-0.709832</td>\n",
              "      <td>-0.015067</td>\n",
              "      <td>2</td>\n",
              "    </tr>\n",
              "    <tr>\n",
              "      <th>...</th>\n",
              "      <td>...</td>\n",
              "      <td>...</td>\n",
              "      <td>...</td>\n",
              "      <td>...</td>\n",
              "      <td>...</td>\n",
              "      <td>...</td>\n",
              "      <td>...</td>\n",
              "      <td>...</td>\n",
              "      <td>...</td>\n",
              "      <td>...</td>\n",
              "      <td>...</td>\n",
              "      <td>...</td>\n",
              "      <td>...</td>\n",
              "      <td>...</td>\n",
              "      <td>...</td>\n",
              "      <td>...</td>\n",
              "      <td>...</td>\n",
              "      <td>...</td>\n",
              "      <td>...</td>\n",
              "      <td>...</td>\n",
              "      <td>...</td>\n",
              "    </tr>\n",
              "    <tr>\n",
              "      <th>17635</th>\n",
              "      <td>1.421210</td>\n",
              "      <td>3.128096</td>\n",
              "      <td>0.114922</td>\n",
              "      <td>-2.611097</td>\n",
              "      <td>3.436417</td>\n",
              "      <td>-1.410561</td>\n",
              "      <td>-0.976095</td>\n",
              "      <td>-1.382296</td>\n",
              "      <td>0.751334</td>\n",
              "      <td>1.908477</td>\n",
              "      <td>...</td>\n",
              "      <td>0.470704</td>\n",
              "      <td>0.420560</td>\n",
              "      <td>1.974974</td>\n",
              "      <td>-2.383461</td>\n",
              "      <td>-3.285148</td>\n",
              "      <td>2.407402</td>\n",
              "      <td>-1.522504</td>\n",
              "      <td>-3.361125</td>\n",
              "      <td>1.637426</td>\n",
              "      <td>1</td>\n",
              "    </tr>\n",
              "    <tr>\n",
              "      <th>17636</th>\n",
              "      <td>-2.929913</td>\n",
              "      <td>-1.509963</td>\n",
              "      <td>-1.346306</td>\n",
              "      <td>1.939351</td>\n",
              "      <td>-0.224151</td>\n",
              "      <td>-1.337806</td>\n",
              "      <td>-1.937517</td>\n",
              "      <td>2.330764</td>\n",
              "      <td>2.523358</td>\n",
              "      <td>0.509626</td>\n",
              "      <td>...</td>\n",
              "      <td>2.653045</td>\n",
              "      <td>2.623997</td>\n",
              "      <td>2.299301</td>\n",
              "      <td>-1.443935</td>\n",
              "      <td>1.025284</td>\n",
              "      <td>-1.089208</td>\n",
              "      <td>2.151263</td>\n",
              "      <td>-0.149006</td>\n",
              "      <td>2.373927</td>\n",
              "      <td>1</td>\n",
              "    </tr>\n",
              "    <tr>\n",
              "      <th>17637</th>\n",
              "      <td>-0.958356</td>\n",
              "      <td>-0.204796</td>\n",
              "      <td>-0.415086</td>\n",
              "      <td>0.642472</td>\n",
              "      <td>0.206285</td>\n",
              "      <td>-0.827741</td>\n",
              "      <td>-0.794551</td>\n",
              "      <td>0.744620</td>\n",
              "      <td>0.938180</td>\n",
              "      <td>0.443751</td>\n",
              "      <td>...</td>\n",
              "      <td>0.945847</td>\n",
              "      <td>0.975964</td>\n",
              "      <td>0.969092</td>\n",
              "      <td>-0.477760</td>\n",
              "      <td>0.025019</td>\n",
              "      <td>-0.080705</td>\n",
              "      <td>0.633886</td>\n",
              "      <td>-0.314003</td>\n",
              "      <td>0.856739</td>\n",
              "      <td>1</td>\n",
              "    </tr>\n",
              "    <tr>\n",
              "      <th>17638</th>\n",
              "      <td>0.524655</td>\n",
              "      <td>-1.013381</td>\n",
              "      <td>-2.308306</td>\n",
              "      <td>0.158416</td>\n",
              "      <td>-0.202552</td>\n",
              "      <td>0.506964</td>\n",
              "      <td>2.059501</td>\n",
              "      <td>-1.338397</td>\n",
              "      <td>1.018989</td>\n",
              "      <td>-2.423215</td>\n",
              "      <td>...</td>\n",
              "      <td>0.114741</td>\n",
              "      <td>-0.998798</td>\n",
              "      <td>0.224538</td>\n",
              "      <td>-0.922002</td>\n",
              "      <td>0.580955</td>\n",
              "      <td>-1.963623</td>\n",
              "      <td>-1.629168</td>\n",
              "      <td>0.435039</td>\n",
              "      <td>0.590974</td>\n",
              "      <td>1</td>\n",
              "    </tr>\n",
              "    <tr>\n",
              "      <th>17639</th>\n",
              "      <td>0.759523</td>\n",
              "      <td>0.627998</td>\n",
              "      <td>-0.269104</td>\n",
              "      <td>-0.375059</td>\n",
              "      <td>0.683213</td>\n",
              "      <td>-0.262889</td>\n",
              "      <td>0.564891</td>\n",
              "      <td>-0.862586</td>\n",
              "      <td>0.073697</td>\n",
              "      <td>-0.056642</td>\n",
              "      <td>...</td>\n",
              "      <td>0.178904</td>\n",
              "      <td>0.041351</td>\n",
              "      <td>0.028916</td>\n",
              "      <td>-0.403917</td>\n",
              "      <td>-0.590287</td>\n",
              "      <td>0.353710</td>\n",
              "      <td>-0.896975</td>\n",
              "      <td>-0.327168</td>\n",
              "      <td>0.057265</td>\n",
              "      <td>1</td>\n",
              "    </tr>\n",
              "  </tbody>\n",
              "</table>\n",
              "<p>17640 rows × 201 columns</p>\n",
              "</div>\n",
              "      <button class=\"colab-df-convert\" onclick=\"convertToInteractive('df-48f2f082-dcb1-4485-8d4e-c6250b769295')\"\n",
              "              title=\"Convert this dataframe to an interactive table.\"\n",
              "              style=\"display:none;\">\n",
              "        \n",
              "  <svg xmlns=\"http://www.w3.org/2000/svg\" height=\"24px\"viewBox=\"0 0 24 24\"\n",
              "       width=\"24px\">\n",
              "    <path d=\"M0 0h24v24H0V0z\" fill=\"none\"/>\n",
              "    <path d=\"M18.56 5.44l.94 2.06.94-2.06 2.06-.94-2.06-.94-.94-2.06-.94 2.06-2.06.94zm-11 1L8.5 8.5l.94-2.06 2.06-.94-2.06-.94L8.5 2.5l-.94 2.06-2.06.94zm10 10l.94 2.06.94-2.06 2.06-.94-2.06-.94-.94-2.06-.94 2.06-2.06.94z\"/><path d=\"M17.41 7.96l-1.37-1.37c-.4-.4-.92-.59-1.43-.59-.52 0-1.04.2-1.43.59L10.3 9.45l-7.72 7.72c-.78.78-.78 2.05 0 2.83L4 21.41c.39.39.9.59 1.41.59.51 0 1.02-.2 1.41-.59l7.78-7.78 2.81-2.81c.8-.78.8-2.07 0-2.86zM5.41 20L4 18.59l7.72-7.72 1.47 1.35L5.41 20z\"/>\n",
              "  </svg>\n",
              "      </button>\n",
              "      \n",
              "  <style>\n",
              "    .colab-df-container {\n",
              "      display:flex;\n",
              "      flex-wrap:wrap;\n",
              "      gap: 12px;\n",
              "    }\n",
              "\n",
              "    .colab-df-convert {\n",
              "      background-color: #E8F0FE;\n",
              "      border: none;\n",
              "      border-radius: 50%;\n",
              "      cursor: pointer;\n",
              "      display: none;\n",
              "      fill: #1967D2;\n",
              "      height: 32px;\n",
              "      padding: 0 0 0 0;\n",
              "      width: 32px;\n",
              "    }\n",
              "\n",
              "    .colab-df-convert:hover {\n",
              "      background-color: #E2EBFA;\n",
              "      box-shadow: 0px 1px 2px rgba(60, 64, 67, 0.3), 0px 1px 3px 1px rgba(60, 64, 67, 0.15);\n",
              "      fill: #174EA6;\n",
              "    }\n",
              "\n",
              "    [theme=dark] .colab-df-convert {\n",
              "      background-color: #3B4455;\n",
              "      fill: #D2E3FC;\n",
              "    }\n",
              "\n",
              "    [theme=dark] .colab-df-convert:hover {\n",
              "      background-color: #434B5C;\n",
              "      box-shadow: 0px 1px 3px 1px rgba(0, 0, 0, 0.15);\n",
              "      filter: drop-shadow(0px 1px 2px rgba(0, 0, 0, 0.3));\n",
              "      fill: #FFFFFF;\n",
              "    }\n",
              "  </style>\n",
              "\n",
              "      <script>\n",
              "        const buttonEl =\n",
              "          document.querySelector('#df-48f2f082-dcb1-4485-8d4e-c6250b769295 button.colab-df-convert');\n",
              "        buttonEl.style.display =\n",
              "          google.colab.kernel.accessAllowed ? 'block' : 'none';\n",
              "\n",
              "        async function convertToInteractive(key) {\n",
              "          const element = document.querySelector('#df-48f2f082-dcb1-4485-8d4e-c6250b769295');\n",
              "          const dataTable =\n",
              "            await google.colab.kernel.invokeFunction('convertToInteractive',\n",
              "                                                     [key], {});\n",
              "          if (!dataTable) return;\n",
              "\n",
              "          const docLinkHtml = 'Like what you see? Visit the ' +\n",
              "            '<a target=\"_blank\" href=https://colab.research.google.com/notebooks/data_table.ipynb>data table notebook</a>'\n",
              "            + ' to learn more about interactive tables.';\n",
              "          element.innerHTML = '';\n",
              "          dataTable['output_type'] = 'display_data';\n",
              "          await google.colab.output.renderOutput(dataTable, element);\n",
              "          const docLink = document.createElement('div');\n",
              "          docLink.innerHTML = docLinkHtml;\n",
              "          element.appendChild(docLink);\n",
              "        }\n",
              "      </script>\n",
              "    </div>\n",
              "  </div>\n",
              "  "
            ]
          },
          "metadata": {},
          "execution_count": 4
        }
      ],
      "source": [
        "W2v_df_dataTraining"
      ]
    },
    {
      "cell_type": "code",
      "execution_count": 5,
      "metadata": {
        "colab": {
          "base_uri": "https://localhost:8080/",
          "height": 522
        },
        "id": "IOFz72Cgzt8J",
        "outputId": "6c960838-d769-454c-bdc4-099d45e683b3"
      },
      "outputs": [
        {
          "output_type": "stream",
          "name": "stderr",
          "text": [
            "<ipython-input-5-ef2e4129967e>:4: FutureWarning: In a future version of pandas all arguments of DataFrame.any and Series.any will be keyword-only.\n",
            "  indices_to_keep = ~df.isin([np.nan, np.inf, -np.inf]).any(1)\n"
          ]
        },
        {
          "output_type": "execute_result",
          "data": {
            "text/plain": [
              "              0         1         2         3         4         5         6  \\\n",
              "0      0.589647 -0.032969  1.577858 -0.261099 -0.816928  1.169729 -0.045591   \n",
              "1      0.169849 -0.948463 -1.936053  0.370609 -0.218172  0.135423  1.503564   \n",
              "2      0.049207 -0.055259  1.162899  0.103344 -0.585705  0.272081 -0.464852   \n",
              "3      0.049207 -0.055259  1.162899  0.103344 -0.585705  0.272081 -0.464852   \n",
              "4      0.284075  0.624841  0.282875 -0.772059  0.575722  0.398152 -0.181389   \n",
              "...         ...       ...       ...       ...       ...       ...       ...   \n",
              "17635  1.421210  3.128096  0.114922 -2.611097  3.436417 -1.410561 -0.976095   \n",
              "17636 -2.929913 -1.509963 -1.346306  1.939351 -0.224151 -1.337806 -1.937517   \n",
              "17637 -0.958356 -0.204796 -0.415086  0.642472  0.206285 -0.827741 -0.794551   \n",
              "17638  0.524655 -1.013381 -2.308306  0.158416 -0.202552  0.506964  2.059501   \n",
              "17639  0.759523  0.627998 -0.269104 -0.375059  0.683213 -0.262889  0.564891   \n",
              "\n",
              "              7         8         9  ...       191       192       193  \\\n",
              "0      0.105004 -1.654137  0.374675  ... -1.184555 -0.482295 -1.474492   \n",
              "1     -0.821239  0.996892 -1.880665  ...  0.341622 -0.482107  0.355359   \n",
              "2      0.505787 -0.900250  0.626195  ... -0.431760  0.167611 -0.705386   \n",
              "3      0.505787 -0.900250  0.626195  ... -0.431760  0.167611 -0.705386   \n",
              "4     -0.392350 -0.220285  0.273051  ... -0.438284 -0.567406  0.195598   \n",
              "...         ...       ...       ...  ...       ...       ...       ...   \n",
              "17635 -1.382296  0.751334  1.908477  ...  0.470704  0.420560  1.974974   \n",
              "17636  2.330764  2.523358  0.509626  ...  2.653045  2.623997  2.299301   \n",
              "17637  0.744620  0.938180  0.443751  ...  0.945847  0.975964  0.969092   \n",
              "17638 -1.338397  1.018989 -2.423215  ...  0.114741 -0.998798  0.224538   \n",
              "17639 -0.862586  0.073697 -0.056642  ...  0.178904  0.041351  0.028916   \n",
              "\n",
              "            194       195       196       197       198       199  label  \n",
              "0      1.697958  0.375751  0.555185  0.375916  0.981808 -1.704464      2  \n",
              "1     -0.834764  0.591695 -1.615025 -1.132158  0.398693  0.635384      1  \n",
              "2      1.139312  0.352743  0.562127  0.703678  0.562917 -0.809697      2  \n",
              "3      1.139312  0.352743  0.562127  0.703678  0.562917 -0.809697      2  \n",
              "4     -0.231363 -0.827963  0.422755 -0.221953 -0.709832 -0.015067      2  \n",
              "...         ...       ...       ...       ...       ...       ...    ...  \n",
              "17635 -2.383461 -3.285148  2.407402 -1.522504 -3.361125  1.637426      1  \n",
              "17636 -1.443935  1.025284 -1.089208  2.151263 -0.149006  2.373927      1  \n",
              "17637 -0.477760  0.025019 -0.080705  0.633886 -0.314003  0.856739      1  \n",
              "17638 -0.922002  0.580955 -1.963623 -1.629168  0.435039  0.590974      1  \n",
              "17639 -0.403917 -0.590287  0.353710 -0.896975 -0.327168  0.057265      1  \n",
              "\n",
              "[17640 rows x 201 columns]"
            ],
            "text/html": [
              "\n",
              "  <div id=\"df-f8547e84-df72-4572-98ff-a2b23ec4f392\">\n",
              "    <div class=\"colab-df-container\">\n",
              "      <div>\n",
              "<style scoped>\n",
              "    .dataframe tbody tr th:only-of-type {\n",
              "        vertical-align: middle;\n",
              "    }\n",
              "\n",
              "    .dataframe tbody tr th {\n",
              "        vertical-align: top;\n",
              "    }\n",
              "\n",
              "    .dataframe thead th {\n",
              "        text-align: right;\n",
              "    }\n",
              "</style>\n",
              "<table border=\"1\" class=\"dataframe\">\n",
              "  <thead>\n",
              "    <tr style=\"text-align: right;\">\n",
              "      <th></th>\n",
              "      <th>0</th>\n",
              "      <th>1</th>\n",
              "      <th>2</th>\n",
              "      <th>3</th>\n",
              "      <th>4</th>\n",
              "      <th>5</th>\n",
              "      <th>6</th>\n",
              "      <th>7</th>\n",
              "      <th>8</th>\n",
              "      <th>9</th>\n",
              "      <th>...</th>\n",
              "      <th>191</th>\n",
              "      <th>192</th>\n",
              "      <th>193</th>\n",
              "      <th>194</th>\n",
              "      <th>195</th>\n",
              "      <th>196</th>\n",
              "      <th>197</th>\n",
              "      <th>198</th>\n",
              "      <th>199</th>\n",
              "      <th>label</th>\n",
              "    </tr>\n",
              "  </thead>\n",
              "  <tbody>\n",
              "    <tr>\n",
              "      <th>0</th>\n",
              "      <td>0.589647</td>\n",
              "      <td>-0.032969</td>\n",
              "      <td>1.577858</td>\n",
              "      <td>-0.261099</td>\n",
              "      <td>-0.816928</td>\n",
              "      <td>1.169729</td>\n",
              "      <td>-0.045591</td>\n",
              "      <td>0.105004</td>\n",
              "      <td>-1.654137</td>\n",
              "      <td>0.374675</td>\n",
              "      <td>...</td>\n",
              "      <td>-1.184555</td>\n",
              "      <td>-0.482295</td>\n",
              "      <td>-1.474492</td>\n",
              "      <td>1.697958</td>\n",
              "      <td>0.375751</td>\n",
              "      <td>0.555185</td>\n",
              "      <td>0.375916</td>\n",
              "      <td>0.981808</td>\n",
              "      <td>-1.704464</td>\n",
              "      <td>2</td>\n",
              "    </tr>\n",
              "    <tr>\n",
              "      <th>1</th>\n",
              "      <td>0.169849</td>\n",
              "      <td>-0.948463</td>\n",
              "      <td>-1.936053</td>\n",
              "      <td>0.370609</td>\n",
              "      <td>-0.218172</td>\n",
              "      <td>0.135423</td>\n",
              "      <td>1.503564</td>\n",
              "      <td>-0.821239</td>\n",
              "      <td>0.996892</td>\n",
              "      <td>-1.880665</td>\n",
              "      <td>...</td>\n",
              "      <td>0.341622</td>\n",
              "      <td>-0.482107</td>\n",
              "      <td>0.355359</td>\n",
              "      <td>-0.834764</td>\n",
              "      <td>0.591695</td>\n",
              "      <td>-1.615025</td>\n",
              "      <td>-1.132158</td>\n",
              "      <td>0.398693</td>\n",
              "      <td>0.635384</td>\n",
              "      <td>1</td>\n",
              "    </tr>\n",
              "    <tr>\n",
              "      <th>2</th>\n",
              "      <td>0.049207</td>\n",
              "      <td>-0.055259</td>\n",
              "      <td>1.162899</td>\n",
              "      <td>0.103344</td>\n",
              "      <td>-0.585705</td>\n",
              "      <td>0.272081</td>\n",
              "      <td>-0.464852</td>\n",
              "      <td>0.505787</td>\n",
              "      <td>-0.900250</td>\n",
              "      <td>0.626195</td>\n",
              "      <td>...</td>\n",
              "      <td>-0.431760</td>\n",
              "      <td>0.167611</td>\n",
              "      <td>-0.705386</td>\n",
              "      <td>1.139312</td>\n",
              "      <td>0.352743</td>\n",
              "      <td>0.562127</td>\n",
              "      <td>0.703678</td>\n",
              "      <td>0.562917</td>\n",
              "      <td>-0.809697</td>\n",
              "      <td>2</td>\n",
              "    </tr>\n",
              "    <tr>\n",
              "      <th>3</th>\n",
              "      <td>0.049207</td>\n",
              "      <td>-0.055259</td>\n",
              "      <td>1.162899</td>\n",
              "      <td>0.103344</td>\n",
              "      <td>-0.585705</td>\n",
              "      <td>0.272081</td>\n",
              "      <td>-0.464852</td>\n",
              "      <td>0.505787</td>\n",
              "      <td>-0.900250</td>\n",
              "      <td>0.626195</td>\n",
              "      <td>...</td>\n",
              "      <td>-0.431760</td>\n",
              "      <td>0.167611</td>\n",
              "      <td>-0.705386</td>\n",
              "      <td>1.139312</td>\n",
              "      <td>0.352743</td>\n",
              "      <td>0.562127</td>\n",
              "      <td>0.703678</td>\n",
              "      <td>0.562917</td>\n",
              "      <td>-0.809697</td>\n",
              "      <td>2</td>\n",
              "    </tr>\n",
              "    <tr>\n",
              "      <th>4</th>\n",
              "      <td>0.284075</td>\n",
              "      <td>0.624841</td>\n",
              "      <td>0.282875</td>\n",
              "      <td>-0.772059</td>\n",
              "      <td>0.575722</td>\n",
              "      <td>0.398152</td>\n",
              "      <td>-0.181389</td>\n",
              "      <td>-0.392350</td>\n",
              "      <td>-0.220285</td>\n",
              "      <td>0.273051</td>\n",
              "      <td>...</td>\n",
              "      <td>-0.438284</td>\n",
              "      <td>-0.567406</td>\n",
              "      <td>0.195598</td>\n",
              "      <td>-0.231363</td>\n",
              "      <td>-0.827963</td>\n",
              "      <td>0.422755</td>\n",
              "      <td>-0.221953</td>\n",
              "      <td>-0.709832</td>\n",
              "      <td>-0.015067</td>\n",
              "      <td>2</td>\n",
              "    </tr>\n",
              "    <tr>\n",
              "      <th>...</th>\n",
              "      <td>...</td>\n",
              "      <td>...</td>\n",
              "      <td>...</td>\n",
              "      <td>...</td>\n",
              "      <td>...</td>\n",
              "      <td>...</td>\n",
              "      <td>...</td>\n",
              "      <td>...</td>\n",
              "      <td>...</td>\n",
              "      <td>...</td>\n",
              "      <td>...</td>\n",
              "      <td>...</td>\n",
              "      <td>...</td>\n",
              "      <td>...</td>\n",
              "      <td>...</td>\n",
              "      <td>...</td>\n",
              "      <td>...</td>\n",
              "      <td>...</td>\n",
              "      <td>...</td>\n",
              "      <td>...</td>\n",
              "      <td>...</td>\n",
              "    </tr>\n",
              "    <tr>\n",
              "      <th>17635</th>\n",
              "      <td>1.421210</td>\n",
              "      <td>3.128096</td>\n",
              "      <td>0.114922</td>\n",
              "      <td>-2.611097</td>\n",
              "      <td>3.436417</td>\n",
              "      <td>-1.410561</td>\n",
              "      <td>-0.976095</td>\n",
              "      <td>-1.382296</td>\n",
              "      <td>0.751334</td>\n",
              "      <td>1.908477</td>\n",
              "      <td>...</td>\n",
              "      <td>0.470704</td>\n",
              "      <td>0.420560</td>\n",
              "      <td>1.974974</td>\n",
              "      <td>-2.383461</td>\n",
              "      <td>-3.285148</td>\n",
              "      <td>2.407402</td>\n",
              "      <td>-1.522504</td>\n",
              "      <td>-3.361125</td>\n",
              "      <td>1.637426</td>\n",
              "      <td>1</td>\n",
              "    </tr>\n",
              "    <tr>\n",
              "      <th>17636</th>\n",
              "      <td>-2.929913</td>\n",
              "      <td>-1.509963</td>\n",
              "      <td>-1.346306</td>\n",
              "      <td>1.939351</td>\n",
              "      <td>-0.224151</td>\n",
              "      <td>-1.337806</td>\n",
              "      <td>-1.937517</td>\n",
              "      <td>2.330764</td>\n",
              "      <td>2.523358</td>\n",
              "      <td>0.509626</td>\n",
              "      <td>...</td>\n",
              "      <td>2.653045</td>\n",
              "      <td>2.623997</td>\n",
              "      <td>2.299301</td>\n",
              "      <td>-1.443935</td>\n",
              "      <td>1.025284</td>\n",
              "      <td>-1.089208</td>\n",
              "      <td>2.151263</td>\n",
              "      <td>-0.149006</td>\n",
              "      <td>2.373927</td>\n",
              "      <td>1</td>\n",
              "    </tr>\n",
              "    <tr>\n",
              "      <th>17637</th>\n",
              "      <td>-0.958356</td>\n",
              "      <td>-0.204796</td>\n",
              "      <td>-0.415086</td>\n",
              "      <td>0.642472</td>\n",
              "      <td>0.206285</td>\n",
              "      <td>-0.827741</td>\n",
              "      <td>-0.794551</td>\n",
              "      <td>0.744620</td>\n",
              "      <td>0.938180</td>\n",
              "      <td>0.443751</td>\n",
              "      <td>...</td>\n",
              "      <td>0.945847</td>\n",
              "      <td>0.975964</td>\n",
              "      <td>0.969092</td>\n",
              "      <td>-0.477760</td>\n",
              "      <td>0.025019</td>\n",
              "      <td>-0.080705</td>\n",
              "      <td>0.633886</td>\n",
              "      <td>-0.314003</td>\n",
              "      <td>0.856739</td>\n",
              "      <td>1</td>\n",
              "    </tr>\n",
              "    <tr>\n",
              "      <th>17638</th>\n",
              "      <td>0.524655</td>\n",
              "      <td>-1.013381</td>\n",
              "      <td>-2.308306</td>\n",
              "      <td>0.158416</td>\n",
              "      <td>-0.202552</td>\n",
              "      <td>0.506964</td>\n",
              "      <td>2.059501</td>\n",
              "      <td>-1.338397</td>\n",
              "      <td>1.018989</td>\n",
              "      <td>-2.423215</td>\n",
              "      <td>...</td>\n",
              "      <td>0.114741</td>\n",
              "      <td>-0.998798</td>\n",
              "      <td>0.224538</td>\n",
              "      <td>-0.922002</td>\n",
              "      <td>0.580955</td>\n",
              "      <td>-1.963623</td>\n",
              "      <td>-1.629168</td>\n",
              "      <td>0.435039</td>\n",
              "      <td>0.590974</td>\n",
              "      <td>1</td>\n",
              "    </tr>\n",
              "    <tr>\n",
              "      <th>17639</th>\n",
              "      <td>0.759523</td>\n",
              "      <td>0.627998</td>\n",
              "      <td>-0.269104</td>\n",
              "      <td>-0.375059</td>\n",
              "      <td>0.683213</td>\n",
              "      <td>-0.262889</td>\n",
              "      <td>0.564891</td>\n",
              "      <td>-0.862586</td>\n",
              "      <td>0.073697</td>\n",
              "      <td>-0.056642</td>\n",
              "      <td>...</td>\n",
              "      <td>0.178904</td>\n",
              "      <td>0.041351</td>\n",
              "      <td>0.028916</td>\n",
              "      <td>-0.403917</td>\n",
              "      <td>-0.590287</td>\n",
              "      <td>0.353710</td>\n",
              "      <td>-0.896975</td>\n",
              "      <td>-0.327168</td>\n",
              "      <td>0.057265</td>\n",
              "      <td>1</td>\n",
              "    </tr>\n",
              "  </tbody>\n",
              "</table>\n",
              "<p>17640 rows × 201 columns</p>\n",
              "</div>\n",
              "      <button class=\"colab-df-convert\" onclick=\"convertToInteractive('df-f8547e84-df72-4572-98ff-a2b23ec4f392')\"\n",
              "              title=\"Convert this dataframe to an interactive table.\"\n",
              "              style=\"display:none;\">\n",
              "        \n",
              "  <svg xmlns=\"http://www.w3.org/2000/svg\" height=\"24px\"viewBox=\"0 0 24 24\"\n",
              "       width=\"24px\">\n",
              "    <path d=\"M0 0h24v24H0V0z\" fill=\"none\"/>\n",
              "    <path d=\"M18.56 5.44l.94 2.06.94-2.06 2.06-.94-2.06-.94-.94-2.06-.94 2.06-2.06.94zm-11 1L8.5 8.5l.94-2.06 2.06-.94-2.06-.94L8.5 2.5l-.94 2.06-2.06.94zm10 10l.94 2.06.94-2.06 2.06-.94-2.06-.94-.94-2.06-.94 2.06-2.06.94z\"/><path d=\"M17.41 7.96l-1.37-1.37c-.4-.4-.92-.59-1.43-.59-.52 0-1.04.2-1.43.59L10.3 9.45l-7.72 7.72c-.78.78-.78 2.05 0 2.83L4 21.41c.39.39.9.59 1.41.59.51 0 1.02-.2 1.41-.59l7.78-7.78 2.81-2.81c.8-.78.8-2.07 0-2.86zM5.41 20L4 18.59l7.72-7.72 1.47 1.35L5.41 20z\"/>\n",
              "  </svg>\n",
              "      </button>\n",
              "      \n",
              "  <style>\n",
              "    .colab-df-container {\n",
              "      display:flex;\n",
              "      flex-wrap:wrap;\n",
              "      gap: 12px;\n",
              "    }\n",
              "\n",
              "    .colab-df-convert {\n",
              "      background-color: #E8F0FE;\n",
              "      border: none;\n",
              "      border-radius: 50%;\n",
              "      cursor: pointer;\n",
              "      display: none;\n",
              "      fill: #1967D2;\n",
              "      height: 32px;\n",
              "      padding: 0 0 0 0;\n",
              "      width: 32px;\n",
              "    }\n",
              "\n",
              "    .colab-df-convert:hover {\n",
              "      background-color: #E2EBFA;\n",
              "      box-shadow: 0px 1px 2px rgba(60, 64, 67, 0.3), 0px 1px 3px 1px rgba(60, 64, 67, 0.15);\n",
              "      fill: #174EA6;\n",
              "    }\n",
              "\n",
              "    [theme=dark] .colab-df-convert {\n",
              "      background-color: #3B4455;\n",
              "      fill: #D2E3FC;\n",
              "    }\n",
              "\n",
              "    [theme=dark] .colab-df-convert:hover {\n",
              "      background-color: #434B5C;\n",
              "      box-shadow: 0px 1px 3px 1px rgba(0, 0, 0, 0.15);\n",
              "      filter: drop-shadow(0px 1px 2px rgba(0, 0, 0, 0.3));\n",
              "      fill: #FFFFFF;\n",
              "    }\n",
              "  </style>\n",
              "\n",
              "      <script>\n",
              "        const buttonEl =\n",
              "          document.querySelector('#df-f8547e84-df72-4572-98ff-a2b23ec4f392 button.colab-df-convert');\n",
              "        buttonEl.style.display =\n",
              "          google.colab.kernel.accessAllowed ? 'block' : 'none';\n",
              "\n",
              "        async function convertToInteractive(key) {\n",
              "          const element = document.querySelector('#df-f8547e84-df72-4572-98ff-a2b23ec4f392');\n",
              "          const dataTable =\n",
              "            await google.colab.kernel.invokeFunction('convertToInteractive',\n",
              "                                                     [key], {});\n",
              "          if (!dataTable) return;\n",
              "\n",
              "          const docLinkHtml = 'Like what you see? Visit the ' +\n",
              "            '<a target=\"_blank\" href=https://colab.research.google.com/notebooks/data_table.ipynb>data table notebook</a>'\n",
              "            + ' to learn more about interactive tables.';\n",
              "          element.innerHTML = '';\n",
              "          dataTable['output_type'] = 'display_data';\n",
              "          await google.colab.output.renderOutput(dataTable, element);\n",
              "          const docLink = document.createElement('div');\n",
              "          docLink.innerHTML = docLinkHtml;\n",
              "          element.appendChild(docLink);\n",
              "        }\n",
              "      </script>\n",
              "    </div>\n",
              "  </div>\n",
              "  "
            ]
          },
          "metadata": {},
          "execution_count": 5
        }
      ],
      "source": [
        "def clean_dataset(df):\n",
        "    assert isinstance(df, pd.DataFrame), \"df needs to be a pd.DataFrame\"\n",
        "    df.dropna(inplace=True)\n",
        "    indices_to_keep = ~df.isin([np.nan, np.inf, -np.inf]).any(1)\n",
        "    return df[indices_to_keep].astype(np.float64)\n",
        "\n",
        "clean_dataset(W2v_df_dataTraining)\n",
        "W2v_df_dataTraining"
      ]
    },
    {
      "cell_type": "code",
      "execution_count": 6,
      "metadata": {
        "colab": {
          "base_uri": "https://localhost:8080/"
        },
        "id": "BLF9FU_Ezdl5",
        "outputId": "8565ff09-01a8-4fbb-bcfd-ab5ddf1a70fb"
      },
      "outputs": [
        {
          "output_type": "execute_result",
          "data": {
            "text/plain": [
              "array([[ 0.5896474 , -0.0329686 ,  1.57785791, ...,  0.37591602,\n",
              "         0.98180843, -1.70446447],\n",
              "       [ 0.16984885, -0.94846334, -1.93605267, ..., -1.13215766,\n",
              "         0.39869305,  0.635384  ],\n",
              "       [ 0.04920737, -0.05525941,  1.16289923, ...,  0.70367819,\n",
              "         0.56291684, -0.80969728],\n",
              "       ...,\n",
              "       [-0.95835596, -0.2047959 , -0.41508558, ...,  0.63388551,\n",
              "        -0.31400326,  0.85673897],\n",
              "       [ 0.5246552 , -1.01338077, -2.30830572, ..., -1.62916827,\n",
              "         0.43503892,  0.59097428],\n",
              "       [ 0.75952328,  0.62799785, -0.26910375, ..., -0.89697514,\n",
              "        -0.32716766,  0.057265  ]])"
            ]
          },
          "metadata": {},
          "execution_count": 6
        }
      ],
      "source": [
        "X = W2v_df_dataTraining.drop(\"label\",axis=1).to_numpy()\n",
        "X"
      ]
    },
    {
      "cell_type": "code",
      "execution_count": 7,
      "metadata": {
        "id": "ZJn8W3dtCDmh"
      },
      "outputs": [],
      "source": [
        "y = W2v_df_dataTraining['label'].to_numpy()\n",
        "X = W2v_df_dataTraining.drop(\"label\",axis=1).to_numpy()"
      ]
    },
    {
      "cell_type": "code",
      "execution_count": 8,
      "metadata": {
        "id": "PTV3AdcX0uHR"
      },
      "outputs": [],
      "source": [
        "W2v_df_dataTraining['label'] = pd.to_numeric(W2v_df_dataTraining['label'])"
      ]
    },
    {
      "cell_type": "code",
      "execution_count": 9,
      "metadata": {
        "colab": {
          "base_uri": "https://localhost:8080/"
        },
        "id": "bj6DfTMsz7jA",
        "outputId": "1c73817d-2f44-44ec-c567-b25f45b8522c"
      },
      "outputs": [
        {
          "output_type": "execute_result",
          "data": {
            "text/plain": [
              "array([2, 1, 2, 2, 2])"
            ]
          },
          "metadata": {},
          "execution_count": 9
        }
      ],
      "source": [
        "y = W2v_df_dataTraining[\"label\"].to_numpy()\n",
        "y[0:5]"
      ]
    },
    {
      "cell_type": "code",
      "execution_count": 10,
      "metadata": {
        "id": "34gqCMJ5-NGt"
      },
      "outputs": [],
      "source": [
        "# W2v_df_dataTraining.to_csv(r'drive/MyDrive/Wira/Word2Vec.csv', index = False, header = True,index_label=None)"
      ]
    },
    {
      "cell_type": "code",
      "execution_count": 11,
      "metadata": {
        "id": "z32XsB8sNOCP"
      },
      "outputs": [],
      "source": [
        "from sklearn.model_selection import train_test_split\n",
        "X_train, X_test, y_train, y_test = train_test_split(X, y,test_size = 0.2, stratify=y, random_state=30)"
      ]
    },
    {
      "cell_type": "code",
      "execution_count": 12,
      "metadata": {
        "colab": {
          "base_uri": "https://localhost:8080/"
        },
        "id": "RxmuAAPyzETH",
        "outputId": "53ef2fc1-739f-41a2-e106-ee347c0fea49"
      },
      "outputs": [
        {
          "output_type": "stream",
          "name": "stdout",
          "text": [
            "(14112, 200)\n",
            "(14112,)\n",
            "(3528, 200)\n",
            "(3528,)\n"
          ]
        }
      ],
      "source": [
        "print(X_train.shape)\n",
        "print(y_train.shape)\n",
        "print(X_test.shape)\n",
        "print(y_test.shape)"
      ]
    },
    {
      "cell_type": "markdown",
      "metadata": {
        "id": "7GeHCF5Ky93x"
      },
      "source": [
        "# **RANDOM** **FOREST**"
      ]
    },
    {
      "cell_type": "code",
      "source": [
        "from sklearn.ensemble import RandomForestClassifier\n",
        "from sklearn.metrics import accuracy_score, classification_report, confusion_matrix"
      ],
      "metadata": {
        "id": "MFKgeeBYKFjy"
      },
      "execution_count": 20,
      "outputs": []
    },
    {
      "cell_type": "code",
      "source": [
        "# Train Random Forest classifier\n",
        "clf = RandomForestClassifier(n_estimators=100, random_state=42)\n",
        "clf.fit(X_train, y_train)\n",
        "\n",
        "# Predict sentiment for test data\n",
        "y_pred = clf.predict(X_test)"
      ],
      "metadata": {
        "id": "0c3sFqVZKJtJ"
      },
      "execution_count": 21,
      "outputs": []
    },
    {
      "cell_type": "code",
      "source": [
        "# Evaluate accuracy of classifier\n",
        "accuracy = accuracy_score(y_test, y_pred)\n",
        "print(\"Accuracy:\", accuracy)\n",
        "\n",
        "# Print classification report\n",
        "print(\"Classification Report:\")\n",
        "print(classification_report(y_test, y_pred))\n",
        "\n",
        "# Print confusion matrix\n",
        "print(\"Confusion Matrix:\")\n",
        "print(confusion_matrix(y_test, y_pred))"
      ],
      "metadata": {
        "colab": {
          "base_uri": "https://localhost:8080/"
        },
        "id": "u-O1msXEKTgn",
        "outputId": "bd6844ce-371c-4305-bcc0-0e28ef5fbc95"
      },
      "execution_count": 22,
      "outputs": [
        {
          "output_type": "stream",
          "name": "stdout",
          "text": [
            "Accuracy: 0.8078231292517006\n",
            "Classification Report:\n",
            "              precision    recall  f1-score   support\n",
            "\n",
            "           0       0.59      0.31      0.40       424\n",
            "           1       0.84      0.88      0.86      1547\n",
            "           2       0.81      0.87      0.84      1557\n",
            "\n",
            "    accuracy                           0.81      3528\n",
            "   macro avg       0.74      0.69      0.70      3528\n",
            "weighted avg       0.79      0.81      0.80      3528\n",
            "\n",
            "Confusion Matrix:\n",
            "[[ 130  114  180]\n",
            " [  38 1368  141]\n",
            " [  53  152 1352]]\n"
          ]
        }
      ]
    },
    {
      "cell_type": "markdown",
      "metadata": {
        "id": "JJULK14jzBwb"
      },
      "source": [
        "# **XGBOOST**"
      ]
    },
    {
      "cell_type": "code",
      "source": [
        "import xgboost as xgb"
      ],
      "metadata": {
        "id": "whZ5kgXxKouv"
      },
      "execution_count": 23,
      "outputs": []
    },
    {
      "cell_type": "code",
      "source": [
        "# Train XGBoost classifier\n",
        "dtrain = xgb.DMatrix(X_train, label=y_train)\n",
        "dtest = xgb.DMatrix(X_test, label=y_test)\n",
        "param = {\n",
        "    'max_depth': 6,\n",
        "    'eta': 0.3,\n",
        "    'objective': 'multi:softmax',\n",
        "    'num_class': len(set(y_train)) + 1\n",
        "}\n",
        "num_round = 100\n",
        "bst = xgb.train(param, dtrain, num_round)\n",
        "\n",
        "# Predict sentiment for test data\n",
        "y_pred = bst.predict(dtest)"
      ],
      "metadata": {
        "id": "I2ZMICAAKtVo"
      },
      "execution_count": 24,
      "outputs": []
    },
    {
      "cell_type": "code",
      "source": [
        "# Evaluate accuracy of classifier\n",
        "accuracy = accuracy_score(y_test, y_pred)\n",
        "print(\"Accuracy:\", accuracy)\n",
        "\n",
        "# Print classification report\n",
        "print(\"Classification Report:\")\n",
        "print(classification_report(y_test, y_pred))\n",
        "\n",
        "# Print confusion matrix\n",
        "print(\"Confusion Matrix:\")\n",
        "print(confusion_matrix(y_test, y_pred))"
      ],
      "metadata": {
        "colab": {
          "base_uri": "https://localhost:8080/"
        },
        "id": "Lb4xBppDKx5C",
        "outputId": "d22fc2f6-84ac-4056-ec63-12f79b680c33"
      },
      "execution_count": 26,
      "outputs": [
        {
          "output_type": "stream",
          "name": "stdout",
          "text": [
            "Accuracy: 0.8038548752834467\n",
            "Classification Report:\n",
            "              precision    recall  f1-score   support\n",
            "\n",
            "           0       0.57      0.31      0.40       424\n",
            "           1       0.84      0.88      0.86      1547\n",
            "           2       0.80      0.87      0.84      1557\n",
            "\n",
            "    accuracy                           0.80      3528\n",
            "   macro avg       0.74      0.68      0.70      3528\n",
            "weighted avg       0.79      0.80      0.79      3528\n",
            "\n",
            "Confusion Matrix:\n",
            "[[ 130  119  175]\n",
            " [  40 1354  153]\n",
            " [  60  145 1352]]\n"
          ]
        }
      ]
    },
    {
      "cell_type": "markdown",
      "metadata": {
        "id": "vaY9VqEDzHCi"
      },
      "source": [
        "# **SVM**"
      ]
    },
    {
      "cell_type": "code",
      "source": [
        "from sklearn import svm\n",
        "from sklearn.metrics import accuracy_score"
      ],
      "metadata": {
        "id": "rvSgCIHVH9kq"
      },
      "execution_count": 13,
      "outputs": []
    },
    {
      "cell_type": "code",
      "source": [
        "# Train SVM classifier\n",
        "clf = svm.SVC(kernel='linear', C=1, decision_function_shape='ovr')\n",
        "clf.fit(X_train, y_train)\n",
        "\n",
        "# Predict sentiment for test data\n",
        "y_pred = clf.predict(X_test)"
      ],
      "metadata": {
        "id": "4zk6PWPLJMm8"
      },
      "execution_count": 14,
      "outputs": []
    },
    {
      "cell_type": "code",
      "source": [
        "y_pred"
      ],
      "metadata": {
        "colab": {
          "base_uri": "https://localhost:8080/"
        },
        "id": "kNUE-l9aJfZi",
        "outputId": "94593c0e-bf3a-4ffd-821e-15286c3f3d61"
      },
      "execution_count": 15,
      "outputs": [
        {
          "output_type": "execute_result",
          "data": {
            "text/plain": [
              "array([2, 2, 2, ..., 2, 1, 2])"
            ]
          },
          "metadata": {},
          "execution_count": 15
        }
      ]
    },
    {
      "cell_type": "code",
      "source": [
        "# Evaluate accuracy of classifier\n",
        "accuracy = accuracy_score(y_test, y_pred)\n",
        "print(\"Accuracy:\", accuracy)"
      ],
      "metadata": {
        "colab": {
          "base_uri": "https://localhost:8080/"
        },
        "id": "H12L2tjzJh0o",
        "outputId": "e4dc04f7-cc6b-4e1b-df67-a62024fa40a7"
      },
      "execution_count": 16,
      "outputs": [
        {
          "output_type": "stream",
          "name": "stdout",
          "text": [
            "Accuracy: 0.8234126984126984\n"
          ]
        }
      ]
    },
    {
      "cell_type": "code",
      "source": [
        "from sklearn.metrics import classification_report, confusion_matrix\n",
        "\n",
        "# Print classification report\n",
        "print(\"Classification Report:\")\n",
        "print(classification_report(y_test, y_pred))\n",
        "\n",
        "# Print confusion matrix\n",
        "print(\"Confusion Matrix:\")\n",
        "print(confusion_matrix(y_test, y_pred))"
      ],
      "metadata": {
        "colab": {
          "base_uri": "https://localhost:8080/"
        },
        "id": "NkcPrqEGJqqg",
        "outputId": "9a376a93-5296-4ad9-f04f-65d855ed8f7c"
      },
      "execution_count": 19,
      "outputs": [
        {
          "output_type": "stream",
          "name": "stdout",
          "text": [
            "Classification Report:\n",
            "              precision    recall  f1-score   support\n",
            "\n",
            "           0       0.69      0.29      0.41       424\n",
            "           1       0.85      0.90      0.87      1547\n",
            "           2       0.81      0.90      0.85      1557\n",
            "\n",
            "    accuracy                           0.82      3528\n",
            "   macro avg       0.78      0.69      0.71      3528\n",
            "weighted avg       0.81      0.82      0.81      3528\n",
            "\n",
            "Confusion Matrix:\n",
            "[[ 122  116  186]\n",
            " [  22 1388  137]\n",
            " [  32  130 1395]]\n"
          ]
        }
      ]
    }
  ],
  "metadata": {
    "colab": {
      "collapsed_sections": [
        "WVbFCPIspaam"
      ],
      "provenance": [],
      "toc_visible": true,
      "include_colab_link": true
    },
    "kernelspec": {
      "display_name": "Python 3",
      "name": "python3"
    },
    "language_info": {
      "name": "python"
    }
  },
  "nbformat": 4,
  "nbformat_minor": 0
}