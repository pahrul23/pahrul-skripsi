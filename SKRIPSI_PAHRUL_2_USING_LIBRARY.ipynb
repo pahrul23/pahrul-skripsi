{
  "cells": [
    {
      "cell_type": "markdown",
      "metadata": {
        "id": "view-in-github",
        "colab_type": "text"
      },
      "source": [
        "<a href=\"https://colab.research.google.com/github/pahrul23/pahrul-skripsi/blob/main/SKRIPSI_PAHRUL_2_USING_LIBRARY.ipynb\" target=\"_parent\"><img src=\"https://colab.research.google.com/assets/colab-badge.svg\" alt=\"Open In Colab\"/></a>"
      ]
    },
    {
      "cell_type": "markdown",
      "metadata": {
        "id": "WVbFCPIspaam"
      },
      "source": [
        "# **LOAD** **DAN** **PREPROCESSING** **DATA**"
      ]
    },
    {
      "cell_type": "code",
      "source": [
        "from google.colab import drive\n",
        "drive.mount('/content/drive')"
      ],
      "metadata": {
        "colab": {
          "base_uri": "https://localhost:8080/"
        },
        "id": "Bi5rhNAd4cmH",
        "outputId": "21392fe4-3ced-4c7c-d924-be9bcd71931d"
      },
      "execution_count": 1,
      "outputs": [
        {
          "output_type": "stream",
          "name": "stdout",
          "text": [
            "Mounted at /content/drive\n"
          ]
        }
      ]
    },
    {
      "cell_type": "code",
      "execution_count": null,
      "metadata": {
        "colab": {
          "base_uri": "https://localhost:8080/"
        },
        "id": "29Jiecryw4rS",
        "outputId": "2a51bc81-c06e-4a66-eb88-458b5e92e1fe"
      },
      "outputs": [
        {
          "output_type": "stream",
          "name": "stdout",
          "text": [
            "Looking in indexes: https://pypi.org/simple, https://us-python.pkg.dev/colab-wheels/public/simple/\n",
            "Requirement already satisfied: nltk in /usr/local/lib/python3.9/dist-packages (3.7)\n",
            "Requirement already satisfied: joblib in /usr/local/lib/python3.9/dist-packages (from nltk) (1.2.0)\n",
            "Requirement already satisfied: tqdm in /usr/local/lib/python3.9/dist-packages (from nltk) (4.65.0)\n",
            "Requirement already satisfied: click in /usr/local/lib/python3.9/dist-packages (from nltk) (8.1.3)\n",
            "Requirement already satisfied: regex>=2021.8.3 in /usr/local/lib/python3.9/dist-packages (from nltk) (2022.6.2)\n",
            "Looking in indexes: https://pypi.org/simple, https://us-python.pkg.dev/colab-wheels/public/simple/\n",
            "Requirement already satisfied: Sastrawi in /usr/local/lib/python3.9/dist-packages (1.0.1)\n"
          ]
        }
      ],
      "source": [
        "!pip install nltk\n",
        "!pip install Sastrawi"
      ]
    },
    {
      "cell_type": "code",
      "execution_count": null,
      "metadata": {
        "id": "F7-mVBkWYih3"
      },
      "outputs": [],
      "source": [
        "\n",
        "# Import essential libraries\n",
        "import os\n",
        "import joblib\n",
        "import numpy as np\n",
        "import pandas as pd\n",
        "import warnings\n",
        "import matplotlib\n",
        "import matplotlib.pyplot as plt\n",
        "from matplotlib import ticker\n",
        "import seaborn as sns\n",
        "from sklearn.model_selection import train_test_split\n",
        "import os\n",
        "from numpy.random import rand\n",
        "from sklearn.model_selection import train_test_split\n",
        "import matplotlib.pyplot as plt\n",
        "import random\n",
        "from random import randrange\n",
        "import time\n",
        "from sklearn.preprocessing import StandardScaler\n",
        "from sklearn.metrics import mean_squared_error\n",
        "from sklearn.model_selection import StratifiedKFold\n",
        "from sklearn import svm\n",
        "import xgboost as xg\n",
        "from sklearn.metrics import accuracy_score, precision_score, recall_score\n",
        "from sklearn.preprocessing import StandardScaler\n",
        "from sklearn.svm import SVC\n",
        "from sklearn.metrics import confusion_matrix\n",
        "from sklearn.metrics import precision_score, recall_score, f1_score, accuracy_score\n",
        "import matplotlib.pyplot as plt\n",
        "     "
      ]
    },
    {
      "cell_type": "code",
      "execution_count": null,
      "metadata": {
        "id": "OyPfSzE-xn1x"
      },
      "outputs": [],
      "source": [
        "W2v_df_dataTraining = pd.read_csv('drive/MyDrive/Wira/Word2Vec.csv', encoding=\"ISO-8859-1\")"
      ]
    },
    {
      "cell_type": "code",
      "execution_count": null,
      "metadata": {
        "colab": {
          "base_uri": "https://localhost:8080/",
          "height": 488
        },
        "id": "M32ZoOXcxqX8",
        "outputId": "2a49d659-e736-4d5e-d043-c5533d1b87a3"
      },
      "outputs": [
        {
          "output_type": "execute_result",
          "data": {
            "text/plain": [
              "              0         1         2         3         4         5         6  \\\n",
              "0      0.589647 -0.032969  1.577858 -0.261099 -0.816928  1.169729 -0.045591   \n",
              "1      0.169849 -0.948463 -1.936053  0.370609 -0.218172  0.135423  1.503564   \n",
              "2      0.049207 -0.055259  1.162899  0.103344 -0.585705  0.272081 -0.464852   \n",
              "3      0.049207 -0.055259  1.162899  0.103344 -0.585705  0.272081 -0.464852   \n",
              "4      0.284075  0.624841  0.282875 -0.772059  0.575722  0.398152 -0.181389   \n",
              "...         ...       ...       ...       ...       ...       ...       ...   \n",
              "17635  1.421210  3.128096  0.114922 -2.611097  3.436417 -1.410561 -0.976095   \n",
              "17636 -2.929913 -1.509963 -1.346306  1.939351 -0.224151 -1.337806 -1.937517   \n",
              "17637 -0.958356 -0.204796 -0.415086  0.642472  0.206285 -0.827741 -0.794551   \n",
              "17638  0.524655 -1.013381 -2.308306  0.158416 -0.202552  0.506964  2.059501   \n",
              "17639  0.759523  0.627998 -0.269104 -0.375059  0.683213 -0.262889  0.564891   \n",
              "\n",
              "              7         8         9  ...       191       192       193  \\\n",
              "0      0.105004 -1.654137  0.374675  ... -1.184555 -0.482295 -1.474492   \n",
              "1     -0.821239  0.996892 -1.880665  ...  0.341622 -0.482107  0.355359   \n",
              "2      0.505787 -0.900250  0.626195  ... -0.431760  0.167611 -0.705386   \n",
              "3      0.505787 -0.900250  0.626195  ... -0.431760  0.167611 -0.705386   \n",
              "4     -0.392350 -0.220285  0.273051  ... -0.438284 -0.567406  0.195598   \n",
              "...         ...       ...       ...  ...       ...       ...       ...   \n",
              "17635 -1.382296  0.751334  1.908477  ...  0.470704  0.420560  1.974974   \n",
              "17636  2.330764  2.523358  0.509626  ...  2.653045  2.623997  2.299301   \n",
              "17637  0.744620  0.938180  0.443751  ...  0.945847  0.975964  0.969092   \n",
              "17638 -1.338397  1.018989 -2.423215  ...  0.114741 -0.998798  0.224538   \n",
              "17639 -0.862586  0.073697 -0.056642  ...  0.178904  0.041351  0.028916   \n",
              "\n",
              "            194       195       196       197       198       199  label  \n",
              "0      1.697958  0.375751  0.555185  0.375916  0.981808 -1.704464      2  \n",
              "1     -0.834764  0.591695 -1.615025 -1.132158  0.398693  0.635384      1  \n",
              "2      1.139312  0.352743  0.562127  0.703678  0.562917 -0.809697      2  \n",
              "3      1.139312  0.352743  0.562127  0.703678  0.562917 -0.809697      2  \n",
              "4     -0.231363 -0.827963  0.422755 -0.221953 -0.709832 -0.015067      2  \n",
              "...         ...       ...       ...       ...       ...       ...    ...  \n",
              "17635 -2.383461 -3.285148  2.407402 -1.522504 -3.361125  1.637426      1  \n",
              "17636 -1.443935  1.025284 -1.089208  2.151263 -0.149006  2.373927      1  \n",
              "17637 -0.477760  0.025019 -0.080705  0.633886 -0.314003  0.856739      1  \n",
              "17638 -0.922002  0.580955 -1.963623 -1.629168  0.435039  0.590974      1  \n",
              "17639 -0.403917 -0.590287  0.353710 -0.896975 -0.327168  0.057265      1  \n",
              "\n",
              "[17640 rows x 201 columns]"
            ],
            "text/html": [
              "\n",
              "  <div id=\"df-59e2cd63-407e-4275-a043-a88fe53a0478\">\n",
              "    <div class=\"colab-df-container\">\n",
              "      <div>\n",
              "<style scoped>\n",
              "    .dataframe tbody tr th:only-of-type {\n",
              "        vertical-align: middle;\n",
              "    }\n",
              "\n",
              "    .dataframe tbody tr th {\n",
              "        vertical-align: top;\n",
              "    }\n",
              "\n",
              "    .dataframe thead th {\n",
              "        text-align: right;\n",
              "    }\n",
              "</style>\n",
              "<table border=\"1\" class=\"dataframe\">\n",
              "  <thead>\n",
              "    <tr style=\"text-align: right;\">\n",
              "      <th></th>\n",
              "      <th>0</th>\n",
              "      <th>1</th>\n",
              "      <th>2</th>\n",
              "      <th>3</th>\n",
              "      <th>4</th>\n",
              "      <th>5</th>\n",
              "      <th>6</th>\n",
              "      <th>7</th>\n",
              "      <th>8</th>\n",
              "      <th>9</th>\n",
              "      <th>...</th>\n",
              "      <th>191</th>\n",
              "      <th>192</th>\n",
              "      <th>193</th>\n",
              "      <th>194</th>\n",
              "      <th>195</th>\n",
              "      <th>196</th>\n",
              "      <th>197</th>\n",
              "      <th>198</th>\n",
              "      <th>199</th>\n",
              "      <th>label</th>\n",
              "    </tr>\n",
              "  </thead>\n",
              "  <tbody>\n",
              "    <tr>\n",
              "      <th>0</th>\n",
              "      <td>0.589647</td>\n",
              "      <td>-0.032969</td>\n",
              "      <td>1.577858</td>\n",
              "      <td>-0.261099</td>\n",
              "      <td>-0.816928</td>\n",
              "      <td>1.169729</td>\n",
              "      <td>-0.045591</td>\n",
              "      <td>0.105004</td>\n",
              "      <td>-1.654137</td>\n",
              "      <td>0.374675</td>\n",
              "      <td>...</td>\n",
              "      <td>-1.184555</td>\n",
              "      <td>-0.482295</td>\n",
              "      <td>-1.474492</td>\n",
              "      <td>1.697958</td>\n",
              "      <td>0.375751</td>\n",
              "      <td>0.555185</td>\n",
              "      <td>0.375916</td>\n",
              "      <td>0.981808</td>\n",
              "      <td>-1.704464</td>\n",
              "      <td>2</td>\n",
              "    </tr>\n",
              "    <tr>\n",
              "      <th>1</th>\n",
              "      <td>0.169849</td>\n",
              "      <td>-0.948463</td>\n",
              "      <td>-1.936053</td>\n",
              "      <td>0.370609</td>\n",
              "      <td>-0.218172</td>\n",
              "      <td>0.135423</td>\n",
              "      <td>1.503564</td>\n",
              "      <td>-0.821239</td>\n",
              "      <td>0.996892</td>\n",
              "      <td>-1.880665</td>\n",
              "      <td>...</td>\n",
              "      <td>0.341622</td>\n",
              "      <td>-0.482107</td>\n",
              "      <td>0.355359</td>\n",
              "      <td>-0.834764</td>\n",
              "      <td>0.591695</td>\n",
              "      <td>-1.615025</td>\n",
              "      <td>-1.132158</td>\n",
              "      <td>0.398693</td>\n",
              "      <td>0.635384</td>\n",
              "      <td>1</td>\n",
              "    </tr>\n",
              "    <tr>\n",
              "      <th>2</th>\n",
              "      <td>0.049207</td>\n",
              "      <td>-0.055259</td>\n",
              "      <td>1.162899</td>\n",
              "      <td>0.103344</td>\n",
              "      <td>-0.585705</td>\n",
              "      <td>0.272081</td>\n",
              "      <td>-0.464852</td>\n",
              "      <td>0.505787</td>\n",
              "      <td>-0.900250</td>\n",
              "      <td>0.626195</td>\n",
              "      <td>...</td>\n",
              "      <td>-0.431760</td>\n",
              "      <td>0.167611</td>\n",
              "      <td>-0.705386</td>\n",
              "      <td>1.139312</td>\n",
              "      <td>0.352743</td>\n",
              "      <td>0.562127</td>\n",
              "      <td>0.703678</td>\n",
              "      <td>0.562917</td>\n",
              "      <td>-0.809697</td>\n",
              "      <td>2</td>\n",
              "    </tr>\n",
              "    <tr>\n",
              "      <th>3</th>\n",
              "      <td>0.049207</td>\n",
              "      <td>-0.055259</td>\n",
              "      <td>1.162899</td>\n",
              "      <td>0.103344</td>\n",
              "      <td>-0.585705</td>\n",
              "      <td>0.272081</td>\n",
              "      <td>-0.464852</td>\n",
              "      <td>0.505787</td>\n",
              "      <td>-0.900250</td>\n",
              "      <td>0.626195</td>\n",
              "      <td>...</td>\n",
              "      <td>-0.431760</td>\n",
              "      <td>0.167611</td>\n",
              "      <td>-0.705386</td>\n",
              "      <td>1.139312</td>\n",
              "      <td>0.352743</td>\n",
              "      <td>0.562127</td>\n",
              "      <td>0.703678</td>\n",
              "      <td>0.562917</td>\n",
              "      <td>-0.809697</td>\n",
              "      <td>2</td>\n",
              "    </tr>\n",
              "    <tr>\n",
              "      <th>4</th>\n",
              "      <td>0.284075</td>\n",
              "      <td>0.624841</td>\n",
              "      <td>0.282875</td>\n",
              "      <td>-0.772059</td>\n",
              "      <td>0.575722</td>\n",
              "      <td>0.398152</td>\n",
              "      <td>-0.181389</td>\n",
              "      <td>-0.392350</td>\n",
              "      <td>-0.220285</td>\n",
              "      <td>0.273051</td>\n",
              "      <td>...</td>\n",
              "      <td>-0.438284</td>\n",
              "      <td>-0.567406</td>\n",
              "      <td>0.195598</td>\n",
              "      <td>-0.231363</td>\n",
              "      <td>-0.827963</td>\n",
              "      <td>0.422755</td>\n",
              "      <td>-0.221953</td>\n",
              "      <td>-0.709832</td>\n",
              "      <td>-0.015067</td>\n",
              "      <td>2</td>\n",
              "    </tr>\n",
              "    <tr>\n",
              "      <th>...</th>\n",
              "      <td>...</td>\n",
              "      <td>...</td>\n",
              "      <td>...</td>\n",
              "      <td>...</td>\n",
              "      <td>...</td>\n",
              "      <td>...</td>\n",
              "      <td>...</td>\n",
              "      <td>...</td>\n",
              "      <td>...</td>\n",
              "      <td>...</td>\n",
              "      <td>...</td>\n",
              "      <td>...</td>\n",
              "      <td>...</td>\n",
              "      <td>...</td>\n",
              "      <td>...</td>\n",
              "      <td>...</td>\n",
              "      <td>...</td>\n",
              "      <td>...</td>\n",
              "      <td>...</td>\n",
              "      <td>...</td>\n",
              "      <td>...</td>\n",
              "    </tr>\n",
              "    <tr>\n",
              "      <th>17635</th>\n",
              "      <td>1.421210</td>\n",
              "      <td>3.128096</td>\n",
              "      <td>0.114922</td>\n",
              "      <td>-2.611097</td>\n",
              "      <td>3.436417</td>\n",
              "      <td>-1.410561</td>\n",
              "      <td>-0.976095</td>\n",
              "      <td>-1.382296</td>\n",
              "      <td>0.751334</td>\n",
              "      <td>1.908477</td>\n",
              "      <td>...</td>\n",
              "      <td>0.470704</td>\n",
              "      <td>0.420560</td>\n",
              "      <td>1.974974</td>\n",
              "      <td>-2.383461</td>\n",
              "      <td>-3.285148</td>\n",
              "      <td>2.407402</td>\n",
              "      <td>-1.522504</td>\n",
              "      <td>-3.361125</td>\n",
              "      <td>1.637426</td>\n",
              "      <td>1</td>\n",
              "    </tr>\n",
              "    <tr>\n",
              "      <th>17636</th>\n",
              "      <td>-2.929913</td>\n",
              "      <td>-1.509963</td>\n",
              "      <td>-1.346306</td>\n",
              "      <td>1.939351</td>\n",
              "      <td>-0.224151</td>\n",
              "      <td>-1.337806</td>\n",
              "      <td>-1.937517</td>\n",
              "      <td>2.330764</td>\n",
              "      <td>2.523358</td>\n",
              "      <td>0.509626</td>\n",
              "      <td>...</td>\n",
              "      <td>2.653045</td>\n",
              "      <td>2.623997</td>\n",
              "      <td>2.299301</td>\n",
              "      <td>-1.443935</td>\n",
              "      <td>1.025284</td>\n",
              "      <td>-1.089208</td>\n",
              "      <td>2.151263</td>\n",
              "      <td>-0.149006</td>\n",
              "      <td>2.373927</td>\n",
              "      <td>1</td>\n",
              "    </tr>\n",
              "    <tr>\n",
              "      <th>17637</th>\n",
              "      <td>-0.958356</td>\n",
              "      <td>-0.204796</td>\n",
              "      <td>-0.415086</td>\n",
              "      <td>0.642472</td>\n",
              "      <td>0.206285</td>\n",
              "      <td>-0.827741</td>\n",
              "      <td>-0.794551</td>\n",
              "      <td>0.744620</td>\n",
              "      <td>0.938180</td>\n",
              "      <td>0.443751</td>\n",
              "      <td>...</td>\n",
              "      <td>0.945847</td>\n",
              "      <td>0.975964</td>\n",
              "      <td>0.969092</td>\n",
              "      <td>-0.477760</td>\n",
              "      <td>0.025019</td>\n",
              "      <td>-0.080705</td>\n",
              "      <td>0.633886</td>\n",
              "      <td>-0.314003</td>\n",
              "      <td>0.856739</td>\n",
              "      <td>1</td>\n",
              "    </tr>\n",
              "    <tr>\n",
              "      <th>17638</th>\n",
              "      <td>0.524655</td>\n",
              "      <td>-1.013381</td>\n",
              "      <td>-2.308306</td>\n",
              "      <td>0.158416</td>\n",
              "      <td>-0.202552</td>\n",
              "      <td>0.506964</td>\n",
              "      <td>2.059501</td>\n",
              "      <td>-1.338397</td>\n",
              "      <td>1.018989</td>\n",
              "      <td>-2.423215</td>\n",
              "      <td>...</td>\n",
              "      <td>0.114741</td>\n",
              "      <td>-0.998798</td>\n",
              "      <td>0.224538</td>\n",
              "      <td>-0.922002</td>\n",
              "      <td>0.580955</td>\n",
              "      <td>-1.963623</td>\n",
              "      <td>-1.629168</td>\n",
              "      <td>0.435039</td>\n",
              "      <td>0.590974</td>\n",
              "      <td>1</td>\n",
              "    </tr>\n",
              "    <tr>\n",
              "      <th>17639</th>\n",
              "      <td>0.759523</td>\n",
              "      <td>0.627998</td>\n",
              "      <td>-0.269104</td>\n",
              "      <td>-0.375059</td>\n",
              "      <td>0.683213</td>\n",
              "      <td>-0.262889</td>\n",
              "      <td>0.564891</td>\n",
              "      <td>-0.862586</td>\n",
              "      <td>0.073697</td>\n",
              "      <td>-0.056642</td>\n",
              "      <td>...</td>\n",
              "      <td>0.178904</td>\n",
              "      <td>0.041351</td>\n",
              "      <td>0.028916</td>\n",
              "      <td>-0.403917</td>\n",
              "      <td>-0.590287</td>\n",
              "      <td>0.353710</td>\n",
              "      <td>-0.896975</td>\n",
              "      <td>-0.327168</td>\n",
              "      <td>0.057265</td>\n",
              "      <td>1</td>\n",
              "    </tr>\n",
              "  </tbody>\n",
              "</table>\n",
              "<p>17640 rows × 201 columns</p>\n",
              "</div>\n",
              "      <button class=\"colab-df-convert\" onclick=\"convertToInteractive('df-59e2cd63-407e-4275-a043-a88fe53a0478')\"\n",
              "              title=\"Convert this dataframe to an interactive table.\"\n",
              "              style=\"display:none;\">\n",
              "        \n",
              "  <svg xmlns=\"http://www.w3.org/2000/svg\" height=\"24px\"viewBox=\"0 0 24 24\"\n",
              "       width=\"24px\">\n",
              "    <path d=\"M0 0h24v24H0V0z\" fill=\"none\"/>\n",
              "    <path d=\"M18.56 5.44l.94 2.06.94-2.06 2.06-.94-2.06-.94-.94-2.06-.94 2.06-2.06.94zm-11 1L8.5 8.5l.94-2.06 2.06-.94-2.06-.94L8.5 2.5l-.94 2.06-2.06.94zm10 10l.94 2.06.94-2.06 2.06-.94-2.06-.94-.94-2.06-.94 2.06-2.06.94z\"/><path d=\"M17.41 7.96l-1.37-1.37c-.4-.4-.92-.59-1.43-.59-.52 0-1.04.2-1.43.59L10.3 9.45l-7.72 7.72c-.78.78-.78 2.05 0 2.83L4 21.41c.39.39.9.59 1.41.59.51 0 1.02-.2 1.41-.59l7.78-7.78 2.81-2.81c.8-.78.8-2.07 0-2.86zM5.41 20L4 18.59l7.72-7.72 1.47 1.35L5.41 20z\"/>\n",
              "  </svg>\n",
              "      </button>\n",
              "      \n",
              "  <style>\n",
              "    .colab-df-container {\n",
              "      display:flex;\n",
              "      flex-wrap:wrap;\n",
              "      gap: 12px;\n",
              "    }\n",
              "\n",
              "    .colab-df-convert {\n",
              "      background-color: #E8F0FE;\n",
              "      border: none;\n",
              "      border-radius: 50%;\n",
              "      cursor: pointer;\n",
              "      display: none;\n",
              "      fill: #1967D2;\n",
              "      height: 32px;\n",
              "      padding: 0 0 0 0;\n",
              "      width: 32px;\n",
              "    }\n",
              "\n",
              "    .colab-df-convert:hover {\n",
              "      background-color: #E2EBFA;\n",
              "      box-shadow: 0px 1px 2px rgba(60, 64, 67, 0.3), 0px 1px 3px 1px rgba(60, 64, 67, 0.15);\n",
              "      fill: #174EA6;\n",
              "    }\n",
              "\n",
              "    [theme=dark] .colab-df-convert {\n",
              "      background-color: #3B4455;\n",
              "      fill: #D2E3FC;\n",
              "    }\n",
              "\n",
              "    [theme=dark] .colab-df-convert:hover {\n",
              "      background-color: #434B5C;\n",
              "      box-shadow: 0px 1px 3px 1px rgba(0, 0, 0, 0.15);\n",
              "      filter: drop-shadow(0px 1px 2px rgba(0, 0, 0, 0.3));\n",
              "      fill: #FFFFFF;\n",
              "    }\n",
              "  </style>\n",
              "\n",
              "      <script>\n",
              "        const buttonEl =\n",
              "          document.querySelector('#df-59e2cd63-407e-4275-a043-a88fe53a0478 button.colab-df-convert');\n",
              "        buttonEl.style.display =\n",
              "          google.colab.kernel.accessAllowed ? 'block' : 'none';\n",
              "\n",
              "        async function convertToInteractive(key) {\n",
              "          const element = document.querySelector('#df-59e2cd63-407e-4275-a043-a88fe53a0478');\n",
              "          const dataTable =\n",
              "            await google.colab.kernel.invokeFunction('convertToInteractive',\n",
              "                                                     [key], {});\n",
              "          if (!dataTable) return;\n",
              "\n",
              "          const docLinkHtml = 'Like what you see? Visit the ' +\n",
              "            '<a target=\"_blank\" href=https://colab.research.google.com/notebooks/data_table.ipynb>data table notebook</a>'\n",
              "            + ' to learn more about interactive tables.';\n",
              "          element.innerHTML = '';\n",
              "          dataTable['output_type'] = 'display_data';\n",
              "          await google.colab.output.renderOutput(dataTable, element);\n",
              "          const docLink = document.createElement('div');\n",
              "          docLink.innerHTML = docLinkHtml;\n",
              "          element.appendChild(docLink);\n",
              "        }\n",
              "      </script>\n",
              "    </div>\n",
              "  </div>\n",
              "  "
            ]
          },
          "metadata": {},
          "execution_count": 53
        }
      ],
      "source": [
        "W2v_df_dataTraining "
      ]
    },
    {
      "cell_type": "code",
      "execution_count": null,
      "metadata": {
        "colab": {
          "base_uri": "https://localhost:8080/"
        },
        "id": "aah8U5x52dY0",
        "outputId": "e582577f-14ed-472e-dba3-07960c5bf61a"
      },
      "outputs": [
        {
          "output_type": "stream",
          "name": "stdout",
          "text": [
            " 1.0    7783\n",
            "-1.0    7736\n",
            " 0.0    2121\n",
            "Name: label, dtype: int64\n"
          ]
        }
      ],
      "source": [
        "print(df_dataTraining['label'].value_counts())\n",
        "# print(df_dataTraining.value_counts())"
      ]
    },
    {
      "cell_type": "code",
      "execution_count": null,
      "metadata": {
        "id": "a4ksd3CsjWir"
      },
      "outputs": [],
      "source": [
        "df_dataTraining['label'] = df_dataTraining['label'].replace([1], '1')\n",
        "df_dataTraining['label'] = df_dataTraining['label'].replace([-1], '-1')\n",
        "df_dataTraining['label'] = df_dataTraining['label'].replace([0], '0')"
      ]
    },
    {
      "cell_type": "code",
      "execution_count": null,
      "metadata": {
        "colab": {
          "base_uri": "https://localhost:8080/"
        },
        "id": "blcNnGjljaY2",
        "outputId": "3dea760c-1b17-46d7-ade9-a8c2ee589012"
      },
      "outputs": [
        {
          "output_type": "execute_result",
          "data": {
            "text/plain": [
              "2    7783\n",
              "1    7736\n",
              "0    2121\n",
              "Name: label, dtype: int64"
            ]
          },
          "metadata": {},
          "execution_count": 54
        }
      ],
      "source": [
        "W2v_df_dataTraining['label'].value_counts()"
      ]
    },
    {
      "cell_type": "code",
      "execution_count": null,
      "metadata": {
        "colab": {
          "base_uri": "https://localhost:8080/",
          "height": 351
        },
        "id": "Ljq0jJ6K2WVV",
        "outputId": "58ce27d0-115a-454b-dabb-2c2aef3eb4d3"
      },
      "outputs": [
        {
          "output_type": "stream",
          "name": "stderr",
          "text": [
            "/usr/local/lib/python3.9/dist-packages/seaborn/_decorators.py:36: FutureWarning: Pass the following variable as a keyword arg: x. From version 0.12, the only valid positional argument will be `data`, and passing other arguments without an explicit keyword will result in an error or misinterpretation.\n",
            "  warnings.warn(\n"
          ]
        },
        {
          "output_type": "execute_result",
          "data": {
            "text/plain": [
              "<AxesSubplot:xlabel='label', ylabel='count'>"
            ]
          },
          "metadata": {},
          "execution_count": 8
        },
        {
          "output_type": "display_data",
          "data": {
            "text/plain": [
              "<Figure size 432x288 with 1 Axes>"
            ],
            "image/png": "[encoded data removed]"
          },
          "metadata": {
            "needs_background": "light"
          }
        }
      ],
      "source": [
        "import seaborn as sns\n",
        "sns.countplot(df_dataTraining['label'])"
      ]
    },
    {
      "cell_type": "code",
      "execution_count": null,
      "metadata": {
        "colab": {
          "base_uri": "https://localhost:8080/",
          "height": 572
        },
        "id": "W2qWBgDxyFWB",
        "outputId": "870d910b-cfd9-406b-9b88-d25c9d71042a"
      },
      "outputs": [
        {
          "output_type": "execute_result",
          "data": {
            "text/plain": [
              "      label                                           filtered  \\\n",
              "0         1                                             mantap   \n",
              "1        -1  kenapa saya ditagih hutang kan saya di tolak p...   \n",
              "2         1                                       sangat bagus   \n",
              "3         1                                              bagus   \n",
              "4         1  ini pengajuan pertama moga di acc krn lg butuh...   \n",
              "...     ...                                                ...   \n",
              "17636    -1                                   ada kami ngentod   \n",
              "17637    -1  waktu jatuh tempo masih hari tapi panggilan ma...   \n",
              "17638    -1  pelayanan dan csnya buruk blum waktunya byar s...   \n",
              "17639    -1  aplikasi busuk baru daftar udah di tolak penga...   \n",
              "17640    -1                       hadeh apk apaan sih ga jelas   \n",
              "\n",
              "                                                 cleaned  \\\n",
              "0                                                 mantap   \n",
              "1      kenapa saya tagih hutang saya tolak pinjam man...   \n",
              "2                                           sangat bagus   \n",
              "3                                                  bagus   \n",
              "4      aju pertama moga acc lg butuh dana kembang war...   \n",
              "...                                                  ...   \n",
              "17636                                   ada kami ngentod   \n",
              "17637  jatuh tempo masih hari tapi panggil masuk tagi...   \n",
              "17638  layan csnya buruk blum waktu byar sdah tagih k...   \n",
              "17639  aplikasi busuk baru daftar udah tolak aju pinj...   \n",
              "17640                             hadeh apk apa ga jelas   \n",
              "\n",
              "                                          content_tokens  \\\n",
              "0                                             ['mantap']   \n",
              "1      ['kenapa', 'saya', 'tagih', 'hutang', 'saya', ...   \n",
              "2                                    ['sangat', 'bagus']   \n",
              "3                                              ['bagus']   \n",
              "4      ['aju', 'pertama', 'moga', 'acc', 'lg', 'butuh...   \n",
              "...                                                  ...   \n",
              "17636                         ['ada', 'kami', 'ngentod']   \n",
              "17637  ['jatuh', 'tempo', 'masih', 'hari', 'tapi', 'p...   \n",
              "17638  ['layan', 'csnya', 'buruk', 'blum', 'waktu', '...   \n",
              "17639  ['aplikasi', 'busuk', 'baru', 'daftar', 'udah'...   \n",
              "17640             ['hadeh', 'apk', 'apa', 'ga', 'jelas']   \n",
              "\n",
              "                                             normalisasi  \n",
              "0                                             ['mantap']  \n",
              "1      ['kenapa', 'aku', 'tagih', 'hutang', 'aku', 't...  \n",
              "2                                    ['sangat', 'bagus']  \n",
              "3                                              ['bagus']  \n",
              "4      ['aju', 'pertama', 'semoga', 'terima', 'lagi',...  \n",
              "...                                                  ...  \n",
              "17636                         ['ada', 'kami', 'ngentod']  \n",
              "17637  ['jatuh', 'tempo', 'masih', 'hari', 'tapi', 'p...  \n",
              "17638  ['layan', 'csnya', 'buruk', 'blum', 'waktu', '...  \n",
              "17639  ['aplikasi', 'busuk', 'baru', 'daftar', 'sudah...  \n",
              "17640      ['aduh', 'aplikasi', 'apa', 'tidak', 'jelas']  \n",
              "\n",
              "[17641 rows x 5 columns]"
            ],
            "text/html": [
              "\n",
              "  <div id=\"df-1c53f9b1-8b45-40ba-b2e4-2916e9ce7712\">\n",
              "    <div class=\"colab-df-container\">\n",
              "      <div>\n",
              "<style scoped>\n",
              "    .dataframe tbody tr th:only-of-type {\n",
              "        vertical-align: middle;\n",
              "    }\n",
              "\n",
              "    .dataframe tbody tr th {\n",
              "        vertical-align: top;\n",
              "    }\n",
              "\n",
              "    .dataframe thead th {\n",
              "        text-align: right;\n",
              "    }\n",
              "</style>\n",
              "<table border=\"1\" class=\"dataframe\">\n",
              "  <thead>\n",
              "    <tr style=\"text-align: right;\">\n",
              "      <th></th>\n",
              "      <th>label</th>\n",
              "      <th>filtered</th>\n",
              "      <th>cleaned</th>\n",
              "      <th>content_tokens</th>\n",
              "      <th>normalisasi</th>\n",
              "    </tr>\n",
              "  </thead>\n",
              "  <tbody>\n",
              "    <tr>\n",
              "      <th>0</th>\n",
              "      <td>1</td>\n",
              "      <td>mantap</td>\n",
              "      <td>mantap</td>\n",
              "      <td>['mantap']</td>\n",
              "      <td>['mantap']</td>\n",
              "    </tr>\n",
              "    <tr>\n",
              "      <th>1</th>\n",
              "      <td>-1</td>\n",
              "      <td>kenapa saya ditagih hutang kan saya di tolak p...</td>\n",
              "      <td>kenapa saya tagih hutang saya tolak pinjam man...</td>\n",
              "      <td>['kenapa', 'saya', 'tagih', 'hutang', 'saya', ...</td>\n",
              "      <td>['kenapa', 'aku', 'tagih', 'hutang', 'aku', 't...</td>\n",
              "    </tr>\n",
              "    <tr>\n",
              "      <th>2</th>\n",
              "      <td>1</td>\n",
              "      <td>sangat bagus</td>\n",
              "      <td>sangat bagus</td>\n",
              "      <td>['sangat', 'bagus']</td>\n",
              "      <td>['sangat', 'bagus']</td>\n",
              "    </tr>\n",
              "    <tr>\n",
              "      <th>3</th>\n",
              "      <td>1</td>\n",
              "      <td>bagus</td>\n",
              "      <td>bagus</td>\n",
              "      <td>['bagus']</td>\n",
              "      <td>['bagus']</td>\n",
              "    </tr>\n",
              "    <tr>\n",
              "      <th>4</th>\n",
              "      <td>1</td>\n",
              "      <td>ini pengajuan pertama moga di acc krn lg butuh...</td>\n",
              "      <td>aju pertama moga acc lg butuh dana kembang war...</td>\n",
              "      <td>['aju', 'pertama', 'moga', 'acc', 'lg', 'butuh...</td>\n",
              "      <td>['aju', 'pertama', 'semoga', 'terima', 'lagi',...</td>\n",
              "    </tr>\n",
              "    <tr>\n",
              "      <th>...</th>\n",
              "      <td>...</td>\n",
              "      <td>...</td>\n",
              "      <td>...</td>\n",
              "      <td>...</td>\n",
              "      <td>...</td>\n",
              "    </tr>\n",
              "    <tr>\n",
              "      <th>17636</th>\n",
              "      <td>-1</td>\n",
              "      <td>ada kami ngentod</td>\n",
              "      <td>ada kami ngentod</td>\n",
              "      <td>['ada', 'kami', 'ngentod']</td>\n",
              "      <td>['ada', 'kami', 'ngentod']</td>\n",
              "    </tr>\n",
              "    <tr>\n",
              "      <th>17637</th>\n",
              "      <td>-1</td>\n",
              "      <td>waktu jatuh tempo masih hari tapi panggilan ma...</td>\n",
              "      <td>jatuh tempo masih hari tapi panggil masuk tagi...</td>\n",
              "      <td>['jatuh', 'tempo', 'masih', 'hari', 'tapi', 'p...</td>\n",
              "      <td>['jatuh', 'tempo', 'masih', 'hari', 'tapi', 'p...</td>\n",
              "    </tr>\n",
              "    <tr>\n",
              "      <th>17638</th>\n",
              "      <td>-1</td>\n",
              "      <td>pelayanan dan csnya buruk blum waktunya byar s...</td>\n",
              "      <td>layan csnya buruk blum waktu byar sdah tagih k...</td>\n",
              "      <td>['layan', 'csnya', 'buruk', 'blum', 'waktu', '...</td>\n",
              "      <td>['layan', 'csnya', 'buruk', 'blum', 'waktu', '...</td>\n",
              "    </tr>\n",
              "    <tr>\n",
              "      <th>17639</th>\n",
              "      <td>-1</td>\n",
              "      <td>aplikasi busuk baru daftar udah di tolak penga...</td>\n",
              "      <td>aplikasi busuk baru daftar udah tolak aju pinj...</td>\n",
              "      <td>['aplikasi', 'busuk', 'baru', 'daftar', 'udah'...</td>\n",
              "      <td>['aplikasi', 'busuk', 'baru', 'daftar', 'sudah...</td>\n",
              "    </tr>\n",
              "    <tr>\n",
              "      <th>17640</th>\n",
              "      <td>-1</td>\n",
              "      <td>hadeh apk apaan sih ga jelas</td>\n",
              "      <td>hadeh apk apa ga jelas</td>\n",
              "      <td>['hadeh', 'apk', 'apa', 'ga', 'jelas']</td>\n",
              "      <td>['aduh', 'aplikasi', 'apa', 'tidak', 'jelas']</td>\n",
              "    </tr>\n",
              "  </tbody>\n",
              "</table>\n",
              "<p>17641 rows × 5 columns</p>\n",
              "</div>\n",
              "      <button class=\"colab-df-convert\" onclick=\"convertToInteractive('df-1c53f9b1-8b45-40ba-b2e4-2916e9ce7712')\"\n",
              "              title=\"Convert this dataframe to an interactive table.\"\n",
              "              style=\"display:none;\">\n",
              "        \n",
              "  <svg xmlns=\"http://www.w3.org/2000/svg\" height=\"24px\"viewBox=\"0 0 24 24\"\n",
              "       width=\"24px\">\n",
              "    <path d=\"M0 0h24v24H0V0z\" fill=\"none\"/>\n",
              "    <path d=\"M18.56 5.44l.94 2.06.94-2.06 2.06-.94-2.06-.94-.94-2.06-.94 2.06-2.06.94zm-11 1L8.5 8.5l.94-2.06 2.06-.94-2.06-.94L8.5 2.5l-.94 2.06-2.06.94zm10 10l.94 2.06.94-2.06 2.06-.94-2.06-.94-.94-2.06-.94 2.06-2.06.94z\"/><path d=\"M17.41 7.96l-1.37-1.37c-.4-.4-.92-.59-1.43-.59-.52 0-1.04.2-1.43.59L10.3 9.45l-7.72 7.72c-.78.78-.78 2.05 0 2.83L4 21.41c.39.39.9.59 1.41.59.51 0 1.02-.2 1.41-.59l7.78-7.78 2.81-2.81c.8-.78.8-2.07 0-2.86zM5.41 20L4 18.59l7.72-7.72 1.47 1.35L5.41 20z\"/>\n",
              "  </svg>\n",
              "      </button>\n",
              "      \n",
              "  <style>\n",
              "    .colab-df-container {\n",
              "      display:flex;\n",
              "      flex-wrap:wrap;\n",
              "      gap: 12px;\n",
              "    }\n",
              "\n",
              "    .colab-df-convert {\n",
              "      background-color: #E8F0FE;\n",
              "      border: none;\n",
              "      border-radius: 50%;\n",
              "      cursor: pointer;\n",
              "      display: none;\n",
              "      fill: #1967D2;\n",
              "      height: 32px;\n",
              "      padding: 0 0 0 0;\n",
              "      width: 32px;\n",
              "    }\n",
              "\n",
              "    .colab-df-convert:hover {\n",
              "      background-color: #E2EBFA;\n",
              "      box-shadow: 0px 1px 2px rgba(60, 64, 67, 0.3), 0px 1px 3px 1px rgba(60, 64, 67, 0.15);\n",
              "      fill: #174EA6;\n",
              "    }\n",
              "\n",
              "    [theme=dark] .colab-df-convert {\n",
              "      background-color: #3B4455;\n",
              "      fill: #D2E3FC;\n",
              "    }\n",
              "\n",
              "    [theme=dark] .colab-df-convert:hover {\n",
              "      background-color: #434B5C;\n",
              "      box-shadow: 0px 1px 3px 1px rgba(0, 0, 0, 0.15);\n",
              "      filter: drop-shadow(0px 1px 2px rgba(0, 0, 0, 0.3));\n",
              "      fill: #FFFFFF;\n",
              "    }\n",
              "  </style>\n",
              "\n",
              "      <script>\n",
              "        const buttonEl =\n",
              "          document.querySelector('#df-1c53f9b1-8b45-40ba-b2e4-2916e9ce7712 button.colab-df-convert');\n",
              "        buttonEl.style.display =\n",
              "          google.colab.kernel.accessAllowed ? 'block' : 'none';\n",
              "\n",
              "        async function convertToInteractive(key) {\n",
              "          const element = document.querySelector('#df-1c53f9b1-8b45-40ba-b2e4-2916e9ce7712');\n",
              "          const dataTable =\n",
              "            await google.colab.kernel.invokeFunction('convertToInteractive',\n",
              "                                                     [key], {});\n",
              "          if (!dataTable) return;\n",
              "\n",
              "          const docLinkHtml = 'Like what you see? Visit the ' +\n",
              "            '<a target=\"_blank\" href=https://colab.research.google.com/notebooks/data_table.ipynb>data table notebook</a>'\n",
              "            + ' to learn more about interactive tables.';\n",
              "          element.innerHTML = '';\n",
              "          dataTable['output_type'] = 'display_data';\n",
              "          await google.colab.output.renderOutput(dataTable, element);\n",
              "          const docLink = document.createElement('div');\n",
              "          docLink.innerHTML = docLinkHtml;\n",
              "          element.appendChild(docLink);\n",
              "        }\n",
              "      </script>\n",
              "    </div>\n",
              "  </div>\n",
              "  "
            ]
          },
          "metadata": {},
          "execution_count": 9
        }
      ],
      "source": [
        "df_dataTraining"
      ]
    },
    {
      "cell_type": "code",
      "execution_count": null,
      "metadata": {
        "colab": {
          "base_uri": "https://localhost:8080/"
        },
        "id": "aJDN4Mb4jga-",
        "outputId": "f8482b92-5d5a-43c2-e4c2-e74a74245ff7"
      },
      "outputs": [
        {
          "output_type": "execute_result",
          "data": {
            "text/plain": [
              "dtype('O')"
            ]
          },
          "metadata": {},
          "execution_count": 10
        }
      ],
      "source": [
        "df_dataTraining['label'].dtypes"
      ]
    },
    {
      "cell_type": "code",
      "execution_count": null,
      "metadata": {
        "id": "YgRdMWxclBVP"
      },
      "outputs": [],
      "source": [
        "df_dataTraining['label'] = pd.to_numeric(df_dataTraining['label'])"
      ]
    },
    {
      "cell_type": "code",
      "execution_count": null,
      "metadata": {
        "colab": {
          "base_uri": "https://localhost:8080/"
        },
        "id": "srPnuHcKlIfP",
        "outputId": "a0a7ec0e-311e-44a2-fac2-84b6d26cca57"
      },
      "outputs": [
        {
          "output_type": "execute_result",
          "data": {
            "text/plain": [
              "dtype('float64')"
            ]
          },
          "metadata": {},
          "execution_count": 12
        }
      ],
      "source": [
        "df_dataTraining['label'].dtypes"
      ]
    },
    {
      "cell_type": "code",
      "execution_count": null,
      "metadata": {
        "colab": {
          "base_uri": "https://localhost:8080/"
        },
        "id": "iQi80zVUyY06",
        "outputId": "6d899365-a5d9-4e31-8282-96710eb448da"
      },
      "outputs": [
        {
          "output_type": "stream",
          "name": "stderr",
          "text": [
            "[nltk_data] Downloading package stopwords to /root/nltk_data...\n",
            "[nltk_data]   Package stopwords is already up-to-date!\n"
          ]
        }
      ],
      "source": [
        "import re\n",
        "import nltk\n",
        "from nltk.corpus import stopwords\n",
        "nltk.download(\"stopwords\")\n",
        "from Sastrawi.Stemmer.StemmerFactory import StemmerFactory"
      ]
    },
    {
      "cell_type": "code",
      "execution_count": null,
      "metadata": {
        "colab": {
          "base_uri": "https://localhost:8080/"
        },
        "id": "20WvOoUPMwCU",
        "outputId": "da1205af-50e9-4178-d09c-94ba8d1afff2"
      },
      "outputs": [
        {
          "output_type": "stream",
          "name": "stdout",
          "text": [
            "   label                                           filtered  \\\n",
            "0    1.0                                             mantap   \n",
            "1   -1.0  kenapa saya ditagih hutang kan saya di tolak p...   \n",
            "2    1.0                                       sangat bagus   \n",
            "3    1.0                                              bagus   \n",
            "4    1.0  ini pengajuan pertama moga di acc krn lg butuh...   \n",
            "5    1.0                                    sangat membantu   \n",
            "6    0.0  menurut saya bagus cuma bunga creditnya agak b...   \n",
            "7    0.0                                                NaN   \n",
            "8    1.0  yth bapak ibu saya yang bernama meminta tolong...   \n",
            "9    0.0                                 semoga bisa di acc   \n",
            "\n",
            "                                             cleaned  \\\n",
            "0                                             mantap   \n",
            "1  kenapa saya tagih hutang saya tolak pinjam man...   \n",
            "2                                       sangat bagus   \n",
            "3                                              bagus   \n",
            "4  aju pertama moga acc lg butuh dana kembang war...   \n",
            "5                                       sangat bantu   \n",
            "6   turut saya bagus cuma bunga creditnya agak besar   \n",
            "7                                                NaN   \n",
            "8  bapak ibu saya nama minta tolong hapus data da...   \n",
            "9                                      moga bisa acc   \n",
            "\n",
            "                                      content_tokens  \\\n",
            "0                                         ['mantap']   \n",
            "1  ['kenapa', 'saya', 'tagih', 'hutang', 'saya', ...   \n",
            "2                                ['sangat', 'bagus']   \n",
            "3                                          ['bagus']   \n",
            "4  ['aju', 'pertama', 'moga', 'acc', 'lg', 'butuh...   \n",
            "5                                ['sangat', 'bantu']   \n",
            "6  ['turut', 'saya', 'bagus', 'cuma', 'bunga', 'c...   \n",
            "7                                                 []   \n",
            "8  ['bapak', 'ibu', 'saya', 'nama', 'minta', 'tol...   \n",
            "9                            ['moga', 'bisa', 'acc']   \n",
            "\n",
            "                                         normalisasi  \\\n",
            "0                                         ['mantap']   \n",
            "1  ['kenapa', 'aku', 'tagih', 'hutang', 'aku', 't...   \n",
            "2                                ['sangat', 'bagus']   \n",
            "3                                          ['bagus']   \n",
            "4  ['aju', 'pertama', 'semoga', 'terima', 'lagi',...   \n",
            "5                                ['sangat', 'bantu']   \n",
            "6  ['turut', 'aku', 'bagus', 'hanya', 'bunga', 'c...   \n",
            "7                                                 []   \n",
            "8  ['bapak', 'ibu', 'aku', 'nama', 'minta', 'tolo...   \n",
            "9                       ['semoga', 'bisa', 'terima']   \n",
            "\n",
            "                                            Stemming  \n",
            "0                                           [mantap]  \n",
            "1  [tagih, hutang, tolak, pinjam, bawa, hukum, to...  \n",
            "2                                            [bagus]  \n",
            "3                                            [bagus]  \n",
            "4  [aju, moga, terima, butuh, dana, kembang, waru...  \n",
            "5                                            [bantu]  \n",
            "6                          [bagus, bunga, creditnya]  \n",
            "7                                                 []  \n",
            "8  [nama, tolong, hapus, data, data, pribadi, apl...  \n",
            "9                                     [moga, terima]  \n",
            "\n",
            "                                            Stemming  label\n",
            "0                                             mantap    1.0\n",
            "1   tagih hutang tolak pinjam bawa hukum tolong h...   -1.0\n",
            "2                                              bagus    1.0\n",
            "3                                              bagus    1.0\n",
            "4   aju moga terima butuh dana kembang warung kde...    1.0\n",
            "5                                              bantu    1.0\n",
            "6                              bagus bunga creditnya    0.0\n",
            "7                                                       0.0\n",
            "8   nama tolong hapus data data pribadi aplikasi ...    1.0\n",
            "9                                        moga terima    0.0\n",
            "\n"
          ]
        }
      ],
      "source": [
        "stop=set(stopwords.words(\"indonesian\"))\n",
        "stop_bow = set(stopwords.words(\"indonesian\"))\n",
        "stop_bow.discard(\"tidak\")\n",
        "factory = StemmerFactory()\n",
        "stemmer = factory.create_stemmer()\n",
        "\n",
        "text=df_dataTraining[\"normalisasi\"]\n",
        "cleaned_text_bow=[]\n",
        "cleaned_text=[]\n",
        "for line in text:\n",
        "    tags = re.compile(\"^@[a-zA-Z_]*\")\n",
        "    line = re.sub(tags,\" \",str(line))\n",
        "    hashtags = re.compile(\"#|\\*\")\n",
        "    extraCharacters = re.compile(\"[^a-zA-Z]\")\n",
        "    line = re.sub(extraCharacters,\" \",str(line))\n",
        "\n",
        "    filtered_words=[]\n",
        "    filtered_words_bow=\"\"\n",
        "    for word in line.split():\n",
        "        word=word.lower()\n",
        "        if(word not in stop):\n",
        "            word = stemmer.stem(word)\n",
        "            filtered_words.append(word)\n",
        "        if(word not in stop_bow):\n",
        "            word = stemmer.stem(word)\n",
        "            filtered_words_bow+=\" \"+word\n",
        "    cleaned_text.append(filtered_words)\n",
        "    cleaned_text_bow.append(filtered_words_bow)\n",
        "            \n",
        "data_bow = pd.DataFrame(data=cleaned_text_bow,columns=[\"Stemming\"])\n",
        "data_bow[\"label\"] = df_dataTraining[\"label\"]\n",
        "df_dataTraining[\"Stemming\"]=cleaned_text\n",
        "print(df_dataTraining.head(10))\n",
        "print()\n",
        "print(data_bow.head(10))\n",
        "print()"
      ]
    },
    {
      "cell_type": "code",
      "execution_count": null,
      "metadata": {
        "id": "KS247-QmTYfl"
      },
      "outputs": [],
      "source": [
        "# df_dataTraining.to_csv(r'dataBersih.csv', index = False, header = True,index_label=None)"
      ]
    },
    {
      "cell_type": "markdown",
      "metadata": {
        "id": "XS-8Yn_SudIw"
      },
      "source": [
        "**Word Embadding (Word2vec)**\n",
        "\n",
        "---\n",
        "\n"
      ]
    },
    {
      "cell_type": "code",
      "execution_count": null,
      "metadata": {
        "id": "kvPBytXjyrRl"
      },
      "outputs": [],
      "source": [
        "import gensim\n",
        "from tqdm import tqdm\n",
        "from sklearn.preprocessing import StandardScaler"
      ]
    },
    {
      "cell_type": "code",
      "execution_count": null,
      "metadata": {
        "id": "CfnHsopyysfb"
      },
      "outputs": [],
      "source": [
        "#Train on text data\n",
        "list_of_sent = df_dataTraining[\"Stemming\"]\n",
        "w2v_model=gensim.models.Word2Vec(list_of_sent,min_count=4,size=100, workers=4, negative=10, seed=34, ) #size = ukuran vector yg diinginkan, default cbow\n",
        "w2v_words=list(w2v_model.wv.vocab) #corpus/vocab ambil dr kata yg ada di data train \n",
        "\n",
        "# \"\"\"\n",
        "# Pertama, kode mengambil kolom \"Stemming\" dari dataframe df_dataTraining, yang berisi daftar kalimat yang telah diproses menjadi kata-kata dasar (stemmed).\n",
        "# Kemudian, model Word2Vec diinisialisasi dengan parameter min_count=4, artinya hanya kata-kata yang muncul sebanyak 4 kali atau lebih yang akan dimasukkan ke dalam kamus, size=200, \n",
        "# artinya vektor embedding yang dibuat memiliki panjang 200, workers=4, artinya pelatihan dilakukan dengan 4 thread, negative=10, artinya jumlah kata negatif yang diambil saat pelatihan adalah 10, dan seed=34, \n",
        "# artinya seed yang digunakan untuk inisialisasi model. Selanjutnya, kamus kata-kata yang ada di dalam model diambil dan disimpan dalam variabel w2v_words. \n",
        "# Kamus ini nantinya akan digunakan untuk membangun vektor representasi untuk setiap kata pada data uji dan latih.\n",
        "# \"\"\""
      ]
    },
    {
      "cell_type": "code",
      "execution_count": null,
      "metadata": {
        "colab": {
          "base_uri": "https://localhost:8080/"
        },
        "id": "oJm4wTuhJAtx",
        "outputId": "7d7cc7e4-5df7-4444-abb6-6c16608e216e"
      },
      "outputs": [
        {
          "output_type": "execute_result",
          "data": {
            "text/plain": [
              "0                                                 [mantap]\n",
              "1        [tagih, hutang, tolak, pinjam, bawa, hukum, to...\n",
              "2                                                  [bagus]\n",
              "3                                                  [bagus]\n",
              "4        [aju, moga, terima, butuh, dana, kembang, waru...\n",
              "                               ...                        \n",
              "17636                                            [ngentod]\n",
              "17637    [jatuh, tempo, panggil, masuk, tagih, sampi, k...\n",
              "17638    [layan, csnya, buruk, blum, byar, sdah, tagih,...\n",
              "17639    [aplikasi, busuk, daftar, tolak, aju, pinjam, ...\n",
              "17640                                     [aduh, aplikasi]\n",
              "Name: Stemming, Length: 17641, dtype: object"
            ]
          },
          "metadata": {},
          "execution_count": 19
        }
      ],
      "source": [
        "df_dataTraining[\"Stemming\"]"
      ]
    },
    {
      "cell_type": "code",
      "execution_count": null,
      "metadata": {
        "colab": {
          "base_uri": "https://localhost:8080/"
        },
        "id": "SN4u3g1uy31y",
        "outputId": "154f87e6-48fc-4a82-f0f4-b0795d911bc9"
      },
      "outputs": [
        {
          "output_type": "execute_result",
          "data": {
            "text/plain": [
              "1764"
            ]
          },
          "metadata": {},
          "execution_count": 20
        }
      ],
      "source": [
        "len(w2v_words)"
      ]
    },
    {
      "cell_type": "code",
      "execution_count": null,
      "metadata": {
        "colab": {
          "base_uri": "https://localhost:8080/"
        },
        "id": "2Jain_bEy7Qi",
        "outputId": "754dd3f4-caed-483a-af1c-da1ab1535b65"
      },
      "outputs": [
        {
          "output_type": "stream",
          "name": "stderr",
          "text": [
            "100%|██████████| 17641/17641 [00:01<00:00, 14111.91it/s]\n"
          ]
        },
        {
          "output_type": "stream",
          "name": "stdout",
          "text": [
            "          0         1         2         3         4         5         6  \\\n",
            "0  1.386350  0.543070 -0.208264 -1.282521 -1.584287  1.451881  1.451755   \n",
            "1 -1.987948 -1.943660  1.130757  0.483201  0.853930 -1.577448 -1.032614   \n",
            "2  1.196236  0.814241 -0.244028 -0.847755 -0.843585  1.282615  0.865358   \n",
            "3  1.196236  0.814241 -0.244028 -0.847755 -0.843585  1.282615  0.865358   \n",
            "4  0.535491  0.430614 -0.506928  0.269241 -0.447260 -0.280867 -0.092584   \n",
            "5  1.159904  0.100479 -0.308509 -0.710279 -1.775806  0.917035  1.648252   \n",
            "6  1.440666  1.389994 -0.128970 -1.257697 -0.306796  2.230602  0.782796   \n",
            "7  0.983943  1.967330 -3.002776  2.910669  0.648408 -1.262217 -1.709042   \n",
            "8 -2.288860 -2.935826  1.354322  0.436600 -0.134778 -2.348362 -0.583821   \n",
            "9  0.432657 -0.343318  0.362512 -0.517169 -1.782358 -0.576370  1.028986   \n",
            "\n",
            "          7         8         9  ...        91        92        93        94  \\\n",
            "0  0.172629  0.834155 -0.436572  ... -1.699044 -1.093529 -1.780097  1.790542   \n",
            "1  1.648644 -1.162950 -0.515278  ...  0.514420  2.041443  0.848504 -1.036661   \n",
            "2 -0.339461  1.075128  0.234267  ... -0.887839 -0.978041 -1.042106  1.099178   \n",
            "3 -0.339461  1.075128  0.234267  ... -0.887839 -0.978041 -1.042106  1.099178   \n",
            "4 -0.488154 -0.184654 -0.577869  ...  0.168679 -0.634246 -0.058563  0.046326   \n",
            "5  0.567031  0.123147 -1.156024  ... -1.908436 -0.713994 -1.758274  1.655139   \n",
            "6 -0.685180  1.410789  1.384587  ... -1.295422 -1.204520 -1.159975  1.342120   \n",
            "7 -2.673062 -1.528475 -1.126286  ...  1.405421 -1.252991  1.061828 -1.361697   \n",
            "8  2.517251 -2.196844 -1.889682  ... -0.057006  2.401085  0.321970 -0.552621   \n",
            "9  0.471149 -0.396294 -1.136063  ... -0.537806 -0.645795 -0.657538  0.811182   \n",
            "\n",
            "         95        96        97        98        99  label  \n",
            "0 -1.069311 -0.518484 -1.322219  0.396088 -0.963099    1.0  \n",
            "1  1.256382 -0.574470  0.114700  1.375417  1.694573   -1.0  \n",
            "2 -0.456437 -0.251617 -0.646192 -0.288440 -0.683980    1.0  \n",
            "3 -0.456437 -0.251617 -0.646192 -0.288440 -0.683980    1.0  \n",
            "4 -0.318109  0.023910  0.388024 -0.185627 -0.167970    1.0  \n",
            "5 -1.325281 -0.795685 -1.475284  1.042167 -0.722298    1.0  \n",
            "6 -0.848058  0.125784 -0.948696 -0.800995 -1.384749    0.0  \n",
            "7 -1.549186  2.605640  2.939861 -1.745452 -1.512443    0.0  \n",
            "8  1.150610 -1.383459 -0.387853  2.751279  2.007140    1.0  \n",
            "9 -0.365186 -1.438979 -0.892407  0.928224  0.156823    0.0  \n",
            "\n",
            "[10 rows x 101 columns]\n",
            "(17641, 101)\n"
          ]
        }
      ],
      "source": [
        "#Vectorize train text data\n",
        "listof_sent_vec=[]\n",
        "for sent in tqdm(list_of_sent): \n",
        "    sent_vec = np.zeros(100) \n",
        "    cnt_words =0; \n",
        "    for word in sent: \n",
        "        if word in w2v_words:\n",
        "            vec = w2v_model.wv[word]\n",
        "            sent_vec += vec\n",
        "            cnt_words += 1\n",
        "    if cnt_words != 0:\n",
        "        sent_vec /= cnt_words\n",
        "    listof_sent_vec.append(sent_vec)\n",
        "    \n",
        "Label = df_dataTraining[\"label\"]\n",
        "list_col=tuple(range(100))\n",
        "Scaler = StandardScaler()\n",
        "train_vec = Scaler.fit_transform(listof_sent_vec)\n",
        "W2v_df_dataTraining=pd.DataFrame(data=train_vec, columns=list_col)\n",
        "W2v_df_dataTraining[\"label\"] = Label\n",
        "\n",
        "print(W2v_df_dataTraining.head(10))\n",
        "print(W2v_df_dataTraining.shape)\n",
        "\n",
        "\n",
        "# \"\"\"\n",
        "# Proses vektorisasi dilakukan pada data training dengan mengubah setiap kalimat menjadi vektor berukuran 200 dimensi. Pada bagian pertama, list_of_sent berisi daftar kalimat yang sudah di-stemming dari data training. \n",
        "# Kemudian, model word2vec diinisialisasi dengan menggunakan parameter sebagai berikut:\n",
        "\n",
        "# min_count=4: kata yang muncul kurang dari 4 kali diabaikan dalam pembuatan vektor\n",
        "# size=200: ukuran vektor yang diinginkan\n",
        "# workers=4: jumlah thread yang digunakan untuk training\n",
        "# negative=10: jumlah kata yang dipilih sebagai negatif sampling\n",
        "# seed=34: seed untuk randomization\n",
        "\n",
        "# Setelah model word2vec dilatih, w2v_words menyimpan kumpulan kata-kata yang muncul di data training. Kemudian dilakukan iterasi pada setiap kalimat di list_of_sent. Untuk setiap kata di kalimat tersebut, \n",
        "# dicari vektor word2vec yang sesuai. Jika kata tidak ditemukan dalam w2v_words, maka kata tersebut diabaikan. Jika kata ditemukan, maka vektor word2vec-nya dijumlahkan pada sent_vec dan cnt_words ditambah 1. \n",
        "# Setelah iterasi selesai, sent_vec dibagi dengan cnt_words untuk mendapatkan rata-rata vektor kalimat tersebut. Selanjutnya, sent_vec dimasukkan ke dalam listof_sent_vec.\n",
        "# Terakhir, hasil vektorisasi tersebut disimpan ke dalam dataframe W2v_df_dataTraining. Kolom label menyimpan label dari setiap kalimat, sedangkan kolom-kolom lainnya menyimpan nilai vektor. \n",
        "# Sebelum disimpan, dilakukan normalisasi pada vektor menggunakan StandardScaler dari sklearn.preprocessing.\n",
        "\n",
        "\n",
        "# \"\"\""
      ]
    },
    {
      "cell_type": "code",
      "source": [
        "import pandas as pd\n",
        "import numpy as np\n",
        "import matplotlib.pyplot as plt"
      ],
      "metadata": {
        "id": "sbLABUWT41yE"
      },
      "execution_count": 3,
      "outputs": []
    },
    {
      "cell_type": "code",
      "source": [
        "W2v_df_dataTraining = pd.read_csv('drive/MyDrive/Wira/Word2Vec.csv', encoding=\"ISO-8859-1\")"
      ],
      "metadata": {
        "id": "4o6re9GO4ynp"
      },
      "execution_count": 28,
      "outputs": []
    },
    {
      "cell_type": "code",
      "execution_count": 29,
      "metadata": {
        "colab": {
          "base_uri": "https://localhost:8080/",
          "height": 488
        },
        "id": "JFaOpK92zPQ-",
        "outputId": "c0692d49-3dd4-490c-e311-11a9ea7410f5"
      },
      "outputs": [
        {
          "output_type": "execute_result",
          "data": {
            "text/plain": [
              "              0         1         2         3         4         5         6  \\\n",
              "0      0.589647 -0.032969  1.577858 -0.261099 -0.816928  1.169729 -0.045591   \n",
              "1      0.169849 -0.948463 -1.936053  0.370609 -0.218172  0.135423  1.503564   \n",
              "2      0.049207 -0.055259  1.162899  0.103344 -0.585705  0.272081 -0.464852   \n",
              "3      0.049207 -0.055259  1.162899  0.103344 -0.585705  0.272081 -0.464852   \n",
              "4      0.284075  0.624841  0.282875 -0.772059  0.575722  0.398152 -0.181389   \n",
              "...         ...       ...       ...       ...       ...       ...       ...   \n",
              "17635  1.421210  3.128096  0.114922 -2.611097  3.436417 -1.410561 -0.976095   \n",
              "17636 -2.929913 -1.509963 -1.346306  1.939351 -0.224151 -1.337806 -1.937517   \n",
              "17637 -0.958356 -0.204796 -0.415086  0.642472  0.206285 -0.827741 -0.794551   \n",
              "17638  0.524655 -1.013381 -2.308306  0.158416 -0.202552  0.506964  2.059501   \n",
              "17639  0.759523  0.627998 -0.269104 -0.375059  0.683213 -0.262889  0.564891   \n",
              "\n",
              "              7         8         9  ...       191       192       193  \\\n",
              "0      0.105004 -1.654137  0.374675  ... -1.184555 -0.482295 -1.474492   \n",
              "1     -0.821239  0.996892 -1.880665  ...  0.341622 -0.482107  0.355359   \n",
              "2      0.505787 -0.900250  0.626195  ... -0.431760  0.167611 -0.705386   \n",
              "3      0.505787 -0.900250  0.626195  ... -0.431760  0.167611 -0.705386   \n",
              "4     -0.392350 -0.220285  0.273051  ... -0.438284 -0.567406  0.195598   \n",
              "...         ...       ...       ...  ...       ...       ...       ...   \n",
              "17635 -1.382296  0.751334  1.908477  ...  0.470704  0.420560  1.974974   \n",
              "17636  2.330764  2.523358  0.509626  ...  2.653045  2.623997  2.299301   \n",
              "17637  0.744620  0.938180  0.443751  ...  0.945847  0.975964  0.969092   \n",
              "17638 -1.338397  1.018989 -2.423215  ...  0.114741 -0.998798  0.224538   \n",
              "17639 -0.862586  0.073697 -0.056642  ...  0.178904  0.041351  0.028916   \n",
              "\n",
              "            194       195       196       197       198       199  label  \n",
              "0      1.697958  0.375751  0.555185  0.375916  0.981808 -1.704464      2  \n",
              "1     -0.834764  0.591695 -1.615025 -1.132158  0.398693  0.635384      1  \n",
              "2      1.139312  0.352743  0.562127  0.703678  0.562917 -0.809697      2  \n",
              "3      1.139312  0.352743  0.562127  0.703678  0.562917 -0.809697      2  \n",
              "4     -0.231363 -0.827963  0.422755 -0.221953 -0.709832 -0.015067      2  \n",
              "...         ...       ...       ...       ...       ...       ...    ...  \n",
              "17635 -2.383461 -3.285148  2.407402 -1.522504 -3.361125  1.637426      1  \n",
              "17636 -1.443935  1.025284 -1.089208  2.151263 -0.149006  2.373927      1  \n",
              "17637 -0.477760  0.025019 -0.080705  0.633886 -0.314003  0.856739      1  \n",
              "17638 -0.922002  0.580955 -1.963623 -1.629168  0.435039  0.590974      1  \n",
              "17639 -0.403917 -0.590287  0.353710 -0.896975 -0.327168  0.057265      1  \n",
              "\n",
              "[17640 rows x 201 columns]"
            ],
            "text/html": [
              "\n",
              "  <div id=\"df-c4753111-c93c-4eea-8ab2-6219497bb8f0\">\n",
              "    <div class=\"colab-df-container\">\n",
              "      <div>\n",
              "<style scoped>\n",
              "    .dataframe tbody tr th:only-of-type {\n",
              "        vertical-align: middle;\n",
              "    }\n",
              "\n",
              "    .dataframe tbody tr th {\n",
              "        vertical-align: top;\n",
              "    }\n",
              "\n",
              "    .dataframe thead th {\n",
              "        text-align: right;\n",
              "    }\n",
              "</style>\n",
              "<table border=\"1\" class=\"dataframe\">\n",
              "  <thead>\n",
              "    <tr style=\"text-align: right;\">\n",
              "      <th></th>\n",
              "      <th>0</th>\n",
              "      <th>1</th>\n",
              "      <th>2</th>\n",
              "      <th>3</th>\n",
              "      <th>4</th>\n",
              "      <th>5</th>\n",
              "      <th>6</th>\n",
              "      <th>7</th>\n",
              "      <th>8</th>\n",
              "      <th>9</th>\n",
              "      <th>...</th>\n",
              "      <th>191</th>\n",
              "      <th>192</th>\n",
              "      <th>193</th>\n",
              "      <th>194</th>\n",
              "      <th>195</th>\n",
              "      <th>196</th>\n",
              "      <th>197</th>\n",
              "      <th>198</th>\n",
              "      <th>199</th>\n",
              "      <th>label</th>\n",
              "    </tr>\n",
              "  </thead>\n",
              "  <tbody>\n",
              "    <tr>\n",
              "      <th>0</th>\n",
              "      <td>0.589647</td>\n",
              "      <td>-0.032969</td>\n",
              "      <td>1.577858</td>\n",
              "      <td>-0.261099</td>\n",
              "      <td>-0.816928</td>\n",
              "      <td>1.169729</td>\n",
              "      <td>-0.045591</td>\n",
              "      <td>0.105004</td>\n",
              "      <td>-1.654137</td>\n",
              "      <td>0.374675</td>\n",
              "      <td>...</td>\n",
              "      <td>-1.184555</td>\n",
              "      <td>-0.482295</td>\n",
              "      <td>-1.474492</td>\n",
              "      <td>1.697958</td>\n",
              "      <td>0.375751</td>\n",
              "      <td>0.555185</td>\n",
              "      <td>0.375916</td>\n",
              "      <td>0.981808</td>\n",
              "      <td>-1.704464</td>\n",
              "      <td>2</td>\n",
              "    </tr>\n",
              "    <tr>\n",
              "      <th>1</th>\n",
              "      <td>0.169849</td>\n",
              "      <td>-0.948463</td>\n",
              "      <td>-1.936053</td>\n",
              "      <td>0.370609</td>\n",
              "      <td>-0.218172</td>\n",
              "      <td>0.135423</td>\n",
              "      <td>1.503564</td>\n",
              "      <td>-0.821239</td>\n",
              "      <td>0.996892</td>\n",
              "      <td>-1.880665</td>\n",
              "      <td>...</td>\n",
              "      <td>0.341622</td>\n",
              "      <td>-0.482107</td>\n",
              "      <td>0.355359</td>\n",
              "      <td>-0.834764</td>\n",
              "      <td>0.591695</td>\n",
              "      <td>-1.615025</td>\n",
              "      <td>-1.132158</td>\n",
              "      <td>0.398693</td>\n",
              "      <td>0.635384</td>\n",
              "      <td>1</td>\n",
              "    </tr>\n",
              "    <tr>\n",
              "      <th>2</th>\n",
              "      <td>0.049207</td>\n",
              "      <td>-0.055259</td>\n",
              "      <td>1.162899</td>\n",
              "      <td>0.103344</td>\n",
              "      <td>-0.585705</td>\n",
              "      <td>0.272081</td>\n",
              "      <td>-0.464852</td>\n",
              "      <td>0.505787</td>\n",
              "      <td>-0.900250</td>\n",
              "      <td>0.626195</td>\n",
              "      <td>...</td>\n",
              "      <td>-0.431760</td>\n",
              "      <td>0.167611</td>\n",
              "      <td>-0.705386</td>\n",
              "      <td>1.139312</td>\n",
              "      <td>0.352743</td>\n",
              "      <td>0.562127</td>\n",
              "      <td>0.703678</td>\n",
              "      <td>0.562917</td>\n",
              "      <td>-0.809697</td>\n",
              "      <td>2</td>\n",
              "    </tr>\n",
              "    <tr>\n",
              "      <th>3</th>\n",
              "      <td>0.049207</td>\n",
              "      <td>-0.055259</td>\n",
              "      <td>1.162899</td>\n",
              "      <td>0.103344</td>\n",
              "      <td>-0.585705</td>\n",
              "      <td>0.272081</td>\n",
              "      <td>-0.464852</td>\n",
              "      <td>0.505787</td>\n",
              "      <td>-0.900250</td>\n",
              "      <td>0.626195</td>\n",
              "      <td>...</td>\n",
              "      <td>-0.431760</td>\n",
              "      <td>0.167611</td>\n",
              "      <td>-0.705386</td>\n",
              "      <td>1.139312</td>\n",
              "      <td>0.352743</td>\n",
              "      <td>0.562127</td>\n",
              "      <td>0.703678</td>\n",
              "      <td>0.562917</td>\n",
              "      <td>-0.809697</td>\n",
              "      <td>2</td>\n",
              "    </tr>\n",
              "    <tr>\n",
              "      <th>4</th>\n",
              "      <td>0.284075</td>\n",
              "      <td>0.624841</td>\n",
              "      <td>0.282875</td>\n",
              "      <td>-0.772059</td>\n",
              "      <td>0.575722</td>\n",
              "      <td>0.398152</td>\n",
              "      <td>-0.181389</td>\n",
              "      <td>-0.392350</td>\n",
              "      <td>-0.220285</td>\n",
              "      <td>0.273051</td>\n",
              "      <td>...</td>\n",
              "      <td>-0.438284</td>\n",
              "      <td>-0.567406</td>\n",
              "      <td>0.195598</td>\n",
              "      <td>-0.231363</td>\n",
              "      <td>-0.827963</td>\n",
              "      <td>0.422755</td>\n",
              "      <td>-0.221953</td>\n",
              "      <td>-0.709832</td>\n",
              "      <td>-0.015067</td>\n",
              "      <td>2</td>\n",
              "    </tr>\n",
              "    <tr>\n",
              "      <th>...</th>\n",
              "      <td>...</td>\n",
              "      <td>...</td>\n",
              "      <td>...</td>\n",
              "      <td>...</td>\n",
              "      <td>...</td>\n",
              "      <td>...</td>\n",
              "      <td>...</td>\n",
              "      <td>...</td>\n",
              "      <td>...</td>\n",
              "      <td>...</td>\n",
              "      <td>...</td>\n",
              "      <td>...</td>\n",
              "      <td>...</td>\n",
              "      <td>...</td>\n",
              "      <td>...</td>\n",
              "      <td>...</td>\n",
              "      <td>...</td>\n",
              "      <td>...</td>\n",
              "      <td>...</td>\n",
              "      <td>...</td>\n",
              "      <td>...</td>\n",
              "    </tr>\n",
              "    <tr>\n",
              "      <th>17635</th>\n",
              "      <td>1.421210</td>\n",
              "      <td>3.128096</td>\n",
              "      <td>0.114922</td>\n",
              "      <td>-2.611097</td>\n",
              "      <td>3.436417</td>\n",
              "      <td>-1.410561</td>\n",
              "      <td>-0.976095</td>\n",
              "      <td>-1.382296</td>\n",
              "      <td>0.751334</td>\n",
              "      <td>1.908477</td>\n",
              "      <td>...</td>\n",
              "      <td>0.470704</td>\n",
              "      <td>0.420560</td>\n",
              "      <td>1.974974</td>\n",
              "      <td>-2.383461</td>\n",
              "      <td>-3.285148</td>\n",
              "      <td>2.407402</td>\n",
              "      <td>-1.522504</td>\n",
              "      <td>-3.361125</td>\n",
              "      <td>1.637426</td>\n",
              "      <td>1</td>\n",
              "    </tr>\n",
              "    <tr>\n",
              "      <th>17636</th>\n",
              "      <td>-2.929913</td>\n",
              "      <td>-1.509963</td>\n",
              "      <td>-1.346306</td>\n",
              "      <td>1.939351</td>\n",
              "      <td>-0.224151</td>\n",
              "      <td>-1.337806</td>\n",
              "      <td>-1.937517</td>\n",
              "      <td>2.330764</td>\n",
              "      <td>2.523358</td>\n",
              "      <td>0.509626</td>\n",
              "      <td>...</td>\n",
              "      <td>2.653045</td>\n",
              "      <td>2.623997</td>\n",
              "      <td>2.299301</td>\n",
              "      <td>-1.443935</td>\n",
              "      <td>1.025284</td>\n",
              "      <td>-1.089208</td>\n",
              "      <td>2.151263</td>\n",
              "      <td>-0.149006</td>\n",
              "      <td>2.373927</td>\n",
              "      <td>1</td>\n",
              "    </tr>\n",
              "    <tr>\n",
              "      <th>17637</th>\n",
              "      <td>-0.958356</td>\n",
              "      <td>-0.204796</td>\n",
              "      <td>-0.415086</td>\n",
              "      <td>0.642472</td>\n",
              "      <td>0.206285</td>\n",
              "      <td>-0.827741</td>\n",
              "      <td>-0.794551</td>\n",
              "      <td>0.744620</td>\n",
              "      <td>0.938180</td>\n",
              "      <td>0.443751</td>\n",
              "      <td>...</td>\n",
              "      <td>0.945847</td>\n",
              "      <td>0.975964</td>\n",
              "      <td>0.969092</td>\n",
              "      <td>-0.477760</td>\n",
              "      <td>0.025019</td>\n",
              "      <td>-0.080705</td>\n",
              "      <td>0.633886</td>\n",
              "      <td>-0.314003</td>\n",
              "      <td>0.856739</td>\n",
              "      <td>1</td>\n",
              "    </tr>\n",
              "    <tr>\n",
              "      <th>17638</th>\n",
              "      <td>0.524655</td>\n",
              "      <td>-1.013381</td>\n",
              "      <td>-2.308306</td>\n",
              "      <td>0.158416</td>\n",
              "      <td>-0.202552</td>\n",
              "      <td>0.506964</td>\n",
              "      <td>2.059501</td>\n",
              "      <td>-1.338397</td>\n",
              "      <td>1.018989</td>\n",
              "      <td>-2.423215</td>\n",
              "      <td>...</td>\n",
              "      <td>0.114741</td>\n",
              "      <td>-0.998798</td>\n",
              "      <td>0.224538</td>\n",
              "      <td>-0.922002</td>\n",
              "      <td>0.580955</td>\n",
              "      <td>-1.963623</td>\n",
              "      <td>-1.629168</td>\n",
              "      <td>0.435039</td>\n",
              "      <td>0.590974</td>\n",
              "      <td>1</td>\n",
              "    </tr>\n",
              "    <tr>\n",
              "      <th>17639</th>\n",
              "      <td>0.759523</td>\n",
              "      <td>0.627998</td>\n",
              "      <td>-0.269104</td>\n",
              "      <td>-0.375059</td>\n",
              "      <td>0.683213</td>\n",
              "      <td>-0.262889</td>\n",
              "      <td>0.564891</td>\n",
              "      <td>-0.862586</td>\n",
              "      <td>0.073697</td>\n",
              "      <td>-0.056642</td>\n",
              "      <td>...</td>\n",
              "      <td>0.178904</td>\n",
              "      <td>0.041351</td>\n",
              "      <td>0.028916</td>\n",
              "      <td>-0.403917</td>\n",
              "      <td>-0.590287</td>\n",
              "      <td>0.353710</td>\n",
              "      <td>-0.896975</td>\n",
              "      <td>-0.327168</td>\n",
              "      <td>0.057265</td>\n",
              "      <td>1</td>\n",
              "    </tr>\n",
              "  </tbody>\n",
              "</table>\n",
              "<p>17640 rows × 201 columns</p>\n",
              "</div>\n",
              "      <button class=\"colab-df-convert\" onclick=\"convertToInteractive('df-c4753111-c93c-4eea-8ab2-6219497bb8f0')\"\n",
              "              title=\"Convert this dataframe to an interactive table.\"\n",
              "              style=\"display:none;\">\n",
              "        \n",
              "  <svg xmlns=\"http://www.w3.org/2000/svg\" height=\"24px\"viewBox=\"0 0 24 24\"\n",
              "       width=\"24px\">\n",
              "    <path d=\"M0 0h24v24H0V0z\" fill=\"none\"/>\n",
              "    <path d=\"M18.56 5.44l.94 2.06.94-2.06 2.06-.94-2.06-.94-.94-2.06-.94 2.06-2.06.94zm-11 1L8.5 8.5l.94-2.06 2.06-.94-2.06-.94L8.5 2.5l-.94 2.06-2.06.94zm10 10l.94 2.06.94-2.06 2.06-.94-2.06-.94-.94-2.06-.94 2.06-2.06.94z\"/><path d=\"M17.41 7.96l-1.37-1.37c-.4-.4-.92-.59-1.43-.59-.52 0-1.04.2-1.43.59L10.3 9.45l-7.72 7.72c-.78.78-.78 2.05 0 2.83L4 21.41c.39.39.9.59 1.41.59.51 0 1.02-.2 1.41-.59l7.78-7.78 2.81-2.81c.8-.78.8-2.07 0-2.86zM5.41 20L4 18.59l7.72-7.72 1.47 1.35L5.41 20z\"/>\n",
              "  </svg>\n",
              "      </button>\n",
              "      \n",
              "  <style>\n",
              "    .colab-df-container {\n",
              "      display:flex;\n",
              "      flex-wrap:wrap;\n",
              "      gap: 12px;\n",
              "    }\n",
              "\n",
              "    .colab-df-convert {\n",
              "      background-color: #E8F0FE;\n",
              "      border: none;\n",
              "      border-radius: 50%;\n",
              "      cursor: pointer;\n",
              "      display: none;\n",
              "      fill: #1967D2;\n",
              "      height: 32px;\n",
              "      padding: 0 0 0 0;\n",
              "      width: 32px;\n",
              "    }\n",
              "\n",
              "    .colab-df-convert:hover {\n",
              "      background-color: #E2EBFA;\n",
              "      box-shadow: 0px 1px 2px rgba(60, 64, 67, 0.3), 0px 1px 3px 1px rgba(60, 64, 67, 0.15);\n",
              "      fill: #174EA6;\n",
              "    }\n",
              "\n",
              "    [theme=dark] .colab-df-convert {\n",
              "      background-color: #3B4455;\n",
              "      fill: #D2E3FC;\n",
              "    }\n",
              "\n",
              "    [theme=dark] .colab-df-convert:hover {\n",
              "      background-color: #434B5C;\n",
              "      box-shadow: 0px 1px 3px 1px rgba(0, 0, 0, 0.15);\n",
              "      filter: drop-shadow(0px 1px 2px rgba(0, 0, 0, 0.3));\n",
              "      fill: #FFFFFF;\n",
              "    }\n",
              "  </style>\n",
              "\n",
              "      <script>\n",
              "        const buttonEl =\n",
              "          document.querySelector('#df-c4753111-c93c-4eea-8ab2-6219497bb8f0 button.colab-df-convert');\n",
              "        buttonEl.style.display =\n",
              "          google.colab.kernel.accessAllowed ? 'block' : 'none';\n",
              "\n",
              "        async function convertToInteractive(key) {\n",
              "          const element = document.querySelector('#df-c4753111-c93c-4eea-8ab2-6219497bb8f0');\n",
              "          const dataTable =\n",
              "            await google.colab.kernel.invokeFunction('convertToInteractive',\n",
              "                                                     [key], {});\n",
              "          if (!dataTable) return;\n",
              "\n",
              "          const docLinkHtml = 'Like what you see? Visit the ' +\n",
              "            '<a target=\"_blank\" href=https://colab.research.google.com/notebooks/data_table.ipynb>data table notebook</a>'\n",
              "            + ' to learn more about interactive tables.';\n",
              "          element.innerHTML = '';\n",
              "          dataTable['output_type'] = 'display_data';\n",
              "          await google.colab.output.renderOutput(dataTable, element);\n",
              "          const docLink = document.createElement('div');\n",
              "          docLink.innerHTML = docLinkHtml;\n",
              "          element.appendChild(docLink);\n",
              "        }\n",
              "      </script>\n",
              "    </div>\n",
              "  </div>\n",
              "  "
            ]
          },
          "metadata": {},
          "execution_count": 29
        }
      ],
      "source": [
        "W2v_df_dataTraining"
      ]
    },
    {
      "cell_type": "code",
      "execution_count": 30,
      "metadata": {
        "colab": {
          "base_uri": "https://localhost:8080/",
          "height": 488
        },
        "id": "IOFz72Cgzt8J",
        "outputId": "78da8d12-bba0-4460-b93d-23066b5057dc"
      },
      "outputs": [
        {
          "output_type": "execute_result",
          "data": {
            "text/plain": [
              "              0         1         2         3         4         5         6  \\\n",
              "0      0.589647 -0.032969  1.577858 -0.261099 -0.816928  1.169729 -0.045591   \n",
              "1      0.169849 -0.948463 -1.936053  0.370609 -0.218172  0.135423  1.503564   \n",
              "2      0.049207 -0.055259  1.162899  0.103344 -0.585705  0.272081 -0.464852   \n",
              "3      0.049207 -0.055259  1.162899  0.103344 -0.585705  0.272081 -0.464852   \n",
              "4      0.284075  0.624841  0.282875 -0.772059  0.575722  0.398152 -0.181389   \n",
              "...         ...       ...       ...       ...       ...       ...       ...   \n",
              "17635  1.421210  3.128096  0.114922 -2.611097  3.436417 -1.410561 -0.976095   \n",
              "17636 -2.929913 -1.509963 -1.346306  1.939351 -0.224151 -1.337806 -1.937517   \n",
              "17637 -0.958356 -0.204796 -0.415086  0.642472  0.206285 -0.827741 -0.794551   \n",
              "17638  0.524655 -1.013381 -2.308306  0.158416 -0.202552  0.506964  2.059501   \n",
              "17639  0.759523  0.627998 -0.269104 -0.375059  0.683213 -0.262889  0.564891   \n",
              "\n",
              "              7         8         9  ...       191       192       193  \\\n",
              "0      0.105004 -1.654137  0.374675  ... -1.184555 -0.482295 -1.474492   \n",
              "1     -0.821239  0.996892 -1.880665  ...  0.341622 -0.482107  0.355359   \n",
              "2      0.505787 -0.900250  0.626195  ... -0.431760  0.167611 -0.705386   \n",
              "3      0.505787 -0.900250  0.626195  ... -0.431760  0.167611 -0.705386   \n",
              "4     -0.392350 -0.220285  0.273051  ... -0.438284 -0.567406  0.195598   \n",
              "...         ...       ...       ...  ...       ...       ...       ...   \n",
              "17635 -1.382296  0.751334  1.908477  ...  0.470704  0.420560  1.974974   \n",
              "17636  2.330764  2.523358  0.509626  ...  2.653045  2.623997  2.299301   \n",
              "17637  0.744620  0.938180  0.443751  ...  0.945847  0.975964  0.969092   \n",
              "17638 -1.338397  1.018989 -2.423215  ...  0.114741 -0.998798  0.224538   \n",
              "17639 -0.862586  0.073697 -0.056642  ...  0.178904  0.041351  0.028916   \n",
              "\n",
              "            194       195       196       197       198       199  label  \n",
              "0      1.697958  0.375751  0.555185  0.375916  0.981808 -1.704464      2  \n",
              "1     -0.834764  0.591695 -1.615025 -1.132158  0.398693  0.635384      1  \n",
              "2      1.139312  0.352743  0.562127  0.703678  0.562917 -0.809697      2  \n",
              "3      1.139312  0.352743  0.562127  0.703678  0.562917 -0.809697      2  \n",
              "4     -0.231363 -0.827963  0.422755 -0.221953 -0.709832 -0.015067      2  \n",
              "...         ...       ...       ...       ...       ...       ...    ...  \n",
              "17635 -2.383461 -3.285148  2.407402 -1.522504 -3.361125  1.637426      1  \n",
              "17636 -1.443935  1.025284 -1.089208  2.151263 -0.149006  2.373927      1  \n",
              "17637 -0.477760  0.025019 -0.080705  0.633886 -0.314003  0.856739      1  \n",
              "17638 -0.922002  0.580955 -1.963623 -1.629168  0.435039  0.590974      1  \n",
              "17639 -0.403917 -0.590287  0.353710 -0.896975 -0.327168  0.057265      1  \n",
              "\n",
              "[17640 rows x 201 columns]"
            ],
            "text/html": [
              "\n",
              "  <div id=\"df-3f9889ae-002d-4f55-a6a8-8743eec5a4fd\">\n",
              "    <div class=\"colab-df-container\">\n",
              "      <div>\n",
              "<style scoped>\n",
              "    .dataframe tbody tr th:only-of-type {\n",
              "        vertical-align: middle;\n",
              "    }\n",
              "\n",
              "    .dataframe tbody tr th {\n",
              "        vertical-align: top;\n",
              "    }\n",
              "\n",
              "    .dataframe thead th {\n",
              "        text-align: right;\n",
              "    }\n",
              "</style>\n",
              "<table border=\"1\" class=\"dataframe\">\n",
              "  <thead>\n",
              "    <tr style=\"text-align: right;\">\n",
              "      <th></th>\n",
              "      <th>0</th>\n",
              "      <th>1</th>\n",
              "      <th>2</th>\n",
              "      <th>3</th>\n",
              "      <th>4</th>\n",
              "      <th>5</th>\n",
              "      <th>6</th>\n",
              "      <th>7</th>\n",
              "      <th>8</th>\n",
              "      <th>9</th>\n",
              "      <th>...</th>\n",
              "      <th>191</th>\n",
              "      <th>192</th>\n",
              "      <th>193</th>\n",
              "      <th>194</th>\n",
              "      <th>195</th>\n",
              "      <th>196</th>\n",
              "      <th>197</th>\n",
              "      <th>198</th>\n",
              "      <th>199</th>\n",
              "      <th>label</th>\n",
              "    </tr>\n",
              "  </thead>\n",
              "  <tbody>\n",
              "    <tr>\n",
              "      <th>0</th>\n",
              "      <td>0.589647</td>\n",
              "      <td>-0.032969</td>\n",
              "      <td>1.577858</td>\n",
              "      <td>-0.261099</td>\n",
              "      <td>-0.816928</td>\n",
              "      <td>1.169729</td>\n",
              "      <td>-0.045591</td>\n",
              "      <td>0.105004</td>\n",
              "      <td>-1.654137</td>\n",
              "      <td>0.374675</td>\n",
              "      <td>...</td>\n",
              "      <td>-1.184555</td>\n",
              "      <td>-0.482295</td>\n",
              "      <td>-1.474492</td>\n",
              "      <td>1.697958</td>\n",
              "      <td>0.375751</td>\n",
              "      <td>0.555185</td>\n",
              "      <td>0.375916</td>\n",
              "      <td>0.981808</td>\n",
              "      <td>-1.704464</td>\n",
              "      <td>2</td>\n",
              "    </tr>\n",
              "    <tr>\n",
              "      <th>1</th>\n",
              "      <td>0.169849</td>\n",
              "      <td>-0.948463</td>\n",
              "      <td>-1.936053</td>\n",
              "      <td>0.370609</td>\n",
              "      <td>-0.218172</td>\n",
              "      <td>0.135423</td>\n",
              "      <td>1.503564</td>\n",
              "      <td>-0.821239</td>\n",
              "      <td>0.996892</td>\n",
              "      <td>-1.880665</td>\n",
              "      <td>...</td>\n",
              "      <td>0.341622</td>\n",
              "      <td>-0.482107</td>\n",
              "      <td>0.355359</td>\n",
              "      <td>-0.834764</td>\n",
              "      <td>0.591695</td>\n",
              "      <td>-1.615025</td>\n",
              "      <td>-1.132158</td>\n",
              "      <td>0.398693</td>\n",
              "      <td>0.635384</td>\n",
              "      <td>1</td>\n",
              "    </tr>\n",
              "    <tr>\n",
              "      <th>2</th>\n",
              "      <td>0.049207</td>\n",
              "      <td>-0.055259</td>\n",
              "      <td>1.162899</td>\n",
              "      <td>0.103344</td>\n",
              "      <td>-0.585705</td>\n",
              "      <td>0.272081</td>\n",
              "      <td>-0.464852</td>\n",
              "      <td>0.505787</td>\n",
              "      <td>-0.900250</td>\n",
              "      <td>0.626195</td>\n",
              "      <td>...</td>\n",
              "      <td>-0.431760</td>\n",
              "      <td>0.167611</td>\n",
              "      <td>-0.705386</td>\n",
              "      <td>1.139312</td>\n",
              "      <td>0.352743</td>\n",
              "      <td>0.562127</td>\n",
              "      <td>0.703678</td>\n",
              "      <td>0.562917</td>\n",
              "      <td>-0.809697</td>\n",
              "      <td>2</td>\n",
              "    </tr>\n",
              "    <tr>\n",
              "      <th>3</th>\n",
              "      <td>0.049207</td>\n",
              "      <td>-0.055259</td>\n",
              "      <td>1.162899</td>\n",
              "      <td>0.103344</td>\n",
              "      <td>-0.585705</td>\n",
              "      <td>0.272081</td>\n",
              "      <td>-0.464852</td>\n",
              "      <td>0.505787</td>\n",
              "      <td>-0.900250</td>\n",
              "      <td>0.626195</td>\n",
              "      <td>...</td>\n",
              "      <td>-0.431760</td>\n",
              "      <td>0.167611</td>\n",
              "      <td>-0.705386</td>\n",
              "      <td>1.139312</td>\n",
              "      <td>0.352743</td>\n",
              "      <td>0.562127</td>\n",
              "      <td>0.703678</td>\n",
              "      <td>0.562917</td>\n",
              "      <td>-0.809697</td>\n",
              "      <td>2</td>\n",
              "    </tr>\n",
              "    <tr>\n",
              "      <th>4</th>\n",
              "      <td>0.284075</td>\n",
              "      <td>0.624841</td>\n",
              "      <td>0.282875</td>\n",
              "      <td>-0.772059</td>\n",
              "      <td>0.575722</td>\n",
              "      <td>0.398152</td>\n",
              "      <td>-0.181389</td>\n",
              "      <td>-0.392350</td>\n",
              "      <td>-0.220285</td>\n",
              "      <td>0.273051</td>\n",
              "      <td>...</td>\n",
              "      <td>-0.438284</td>\n",
              "      <td>-0.567406</td>\n",
              "      <td>0.195598</td>\n",
              "      <td>-0.231363</td>\n",
              "      <td>-0.827963</td>\n",
              "      <td>0.422755</td>\n",
              "      <td>-0.221953</td>\n",
              "      <td>-0.709832</td>\n",
              "      <td>-0.015067</td>\n",
              "      <td>2</td>\n",
              "    </tr>\n",
              "    <tr>\n",
              "      <th>...</th>\n",
              "      <td>...</td>\n",
              "      <td>...</td>\n",
              "      <td>...</td>\n",
              "      <td>...</td>\n",
              "      <td>...</td>\n",
              "      <td>...</td>\n",
              "      <td>...</td>\n",
              "      <td>...</td>\n",
              "      <td>...</td>\n",
              "      <td>...</td>\n",
              "      <td>...</td>\n",
              "      <td>...</td>\n",
              "      <td>...</td>\n",
              "      <td>...</td>\n",
              "      <td>...</td>\n",
              "      <td>...</td>\n",
              "      <td>...</td>\n",
              "      <td>...</td>\n",
              "      <td>...</td>\n",
              "      <td>...</td>\n",
              "      <td>...</td>\n",
              "    </tr>\n",
              "    <tr>\n",
              "      <th>17635</th>\n",
              "      <td>1.421210</td>\n",
              "      <td>3.128096</td>\n",
              "      <td>0.114922</td>\n",
              "      <td>-2.611097</td>\n",
              "      <td>3.436417</td>\n",
              "      <td>-1.410561</td>\n",
              "      <td>-0.976095</td>\n",
              "      <td>-1.382296</td>\n",
              "      <td>0.751334</td>\n",
              "      <td>1.908477</td>\n",
              "      <td>...</td>\n",
              "      <td>0.470704</td>\n",
              "      <td>0.420560</td>\n",
              "      <td>1.974974</td>\n",
              "      <td>-2.383461</td>\n",
              "      <td>-3.285148</td>\n",
              "      <td>2.407402</td>\n",
              "      <td>-1.522504</td>\n",
              "      <td>-3.361125</td>\n",
              "      <td>1.637426</td>\n",
              "      <td>1</td>\n",
              "    </tr>\n",
              "    <tr>\n",
              "      <th>17636</th>\n",
              "      <td>-2.929913</td>\n",
              "      <td>-1.509963</td>\n",
              "      <td>-1.346306</td>\n",
              "      <td>1.939351</td>\n",
              "      <td>-0.224151</td>\n",
              "      <td>-1.337806</td>\n",
              "      <td>-1.937517</td>\n",
              "      <td>2.330764</td>\n",
              "      <td>2.523358</td>\n",
              "      <td>0.509626</td>\n",
              "      <td>...</td>\n",
              "      <td>2.653045</td>\n",
              "      <td>2.623997</td>\n",
              "      <td>2.299301</td>\n",
              "      <td>-1.443935</td>\n",
              "      <td>1.025284</td>\n",
              "      <td>-1.089208</td>\n",
              "      <td>2.151263</td>\n",
              "      <td>-0.149006</td>\n",
              "      <td>2.373927</td>\n",
              "      <td>1</td>\n",
              "    </tr>\n",
              "    <tr>\n",
              "      <th>17637</th>\n",
              "      <td>-0.958356</td>\n",
              "      <td>-0.204796</td>\n",
              "      <td>-0.415086</td>\n",
              "      <td>0.642472</td>\n",
              "      <td>0.206285</td>\n",
              "      <td>-0.827741</td>\n",
              "      <td>-0.794551</td>\n",
              "      <td>0.744620</td>\n",
              "      <td>0.938180</td>\n",
              "      <td>0.443751</td>\n",
              "      <td>...</td>\n",
              "      <td>0.945847</td>\n",
              "      <td>0.975964</td>\n",
              "      <td>0.969092</td>\n",
              "      <td>-0.477760</td>\n",
              "      <td>0.025019</td>\n",
              "      <td>-0.080705</td>\n",
              "      <td>0.633886</td>\n",
              "      <td>-0.314003</td>\n",
              "      <td>0.856739</td>\n",
              "      <td>1</td>\n",
              "    </tr>\n",
              "    <tr>\n",
              "      <th>17638</th>\n",
              "      <td>0.524655</td>\n",
              "      <td>-1.013381</td>\n",
              "      <td>-2.308306</td>\n",
              "      <td>0.158416</td>\n",
              "      <td>-0.202552</td>\n",
              "      <td>0.506964</td>\n",
              "      <td>2.059501</td>\n",
              "      <td>-1.338397</td>\n",
              "      <td>1.018989</td>\n",
              "      <td>-2.423215</td>\n",
              "      <td>...</td>\n",
              "      <td>0.114741</td>\n",
              "      <td>-0.998798</td>\n",
              "      <td>0.224538</td>\n",
              "      <td>-0.922002</td>\n",
              "      <td>0.580955</td>\n",
              "      <td>-1.963623</td>\n",
              "      <td>-1.629168</td>\n",
              "      <td>0.435039</td>\n",
              "      <td>0.590974</td>\n",
              "      <td>1</td>\n",
              "    </tr>\n",
              "    <tr>\n",
              "      <th>17639</th>\n",
              "      <td>0.759523</td>\n",
              "      <td>0.627998</td>\n",
              "      <td>-0.269104</td>\n",
              "      <td>-0.375059</td>\n",
              "      <td>0.683213</td>\n",
              "      <td>-0.262889</td>\n",
              "      <td>0.564891</td>\n",
              "      <td>-0.862586</td>\n",
              "      <td>0.073697</td>\n",
              "      <td>-0.056642</td>\n",
              "      <td>...</td>\n",
              "      <td>0.178904</td>\n",
              "      <td>0.041351</td>\n",
              "      <td>0.028916</td>\n",
              "      <td>-0.403917</td>\n",
              "      <td>-0.590287</td>\n",
              "      <td>0.353710</td>\n",
              "      <td>-0.896975</td>\n",
              "      <td>-0.327168</td>\n",
              "      <td>0.057265</td>\n",
              "      <td>1</td>\n",
              "    </tr>\n",
              "  </tbody>\n",
              "</table>\n",
              "<p>17640 rows × 201 columns</p>\n",
              "</div>\n",
              "      <button class=\"colab-df-convert\" onclick=\"convertToInteractive('df-3f9889ae-002d-4f55-a6a8-8743eec5a4fd')\"\n",
              "              title=\"Convert this dataframe to an interactive table.\"\n",
              "              style=\"display:none;\">\n",
              "        \n",
              "  <svg xmlns=\"http://www.w3.org/2000/svg\" height=\"24px\"viewBox=\"0 0 24 24\"\n",
              "       width=\"24px\">\n",
              "    <path d=\"M0 0h24v24H0V0z\" fill=\"none\"/>\n",
              "    <path d=\"M18.56 5.44l.94 2.06.94-2.06 2.06-.94-2.06-.94-.94-2.06-.94 2.06-2.06.94zm-11 1L8.5 8.5l.94-2.06 2.06-.94-2.06-.94L8.5 2.5l-.94 2.06-2.06.94zm10 10l.94 2.06.94-2.06 2.06-.94-2.06-.94-.94-2.06-.94 2.06-2.06.94z\"/><path d=\"M17.41 7.96l-1.37-1.37c-.4-.4-.92-.59-1.43-.59-.52 0-1.04.2-1.43.59L10.3 9.45l-7.72 7.72c-.78.78-.78 2.05 0 2.83L4 21.41c.39.39.9.59 1.41.59.51 0 1.02-.2 1.41-.59l7.78-7.78 2.81-2.81c.8-.78.8-2.07 0-2.86zM5.41 20L4 18.59l7.72-7.72 1.47 1.35L5.41 20z\"/>\n",
              "  </svg>\n",
              "      </button>\n",
              "      \n",
              "  <style>\n",
              "    .colab-df-container {\n",
              "      display:flex;\n",
              "      flex-wrap:wrap;\n",
              "      gap: 12px;\n",
              "    }\n",
              "\n",
              "    .colab-df-convert {\n",
              "      background-color: #E8F0FE;\n",
              "      border: none;\n",
              "      border-radius: 50%;\n",
              "      cursor: pointer;\n",
              "      display: none;\n",
              "      fill: #1967D2;\n",
              "      height: 32px;\n",
              "      padding: 0 0 0 0;\n",
              "      width: 32px;\n",
              "    }\n",
              "\n",
              "    .colab-df-convert:hover {\n",
              "      background-color: #E2EBFA;\n",
              "      box-shadow: 0px 1px 2px rgba(60, 64, 67, 0.3), 0px 1px 3px 1px rgba(60, 64, 67, 0.15);\n",
              "      fill: #174EA6;\n",
              "    }\n",
              "\n",
              "    [theme=dark] .colab-df-convert {\n",
              "      background-color: #3B4455;\n",
              "      fill: #D2E3FC;\n",
              "    }\n",
              "\n",
              "    [theme=dark] .colab-df-convert:hover {\n",
              "      background-color: #434B5C;\n",
              "      box-shadow: 0px 1px 3px 1px rgba(0, 0, 0, 0.15);\n",
              "      filter: drop-shadow(0px 1px 2px rgba(0, 0, 0, 0.3));\n",
              "      fill: #FFFFFF;\n",
              "    }\n",
              "  </style>\n",
              "\n",
              "      <script>\n",
              "        const buttonEl =\n",
              "          document.querySelector('#df-3f9889ae-002d-4f55-a6a8-8743eec5a4fd button.colab-df-convert');\n",
              "        buttonEl.style.display =\n",
              "          google.colab.kernel.accessAllowed ? 'block' : 'none';\n",
              "\n",
              "        async function convertToInteractive(key) {\n",
              "          const element = document.querySelector('#df-3f9889ae-002d-4f55-a6a8-8743eec5a4fd');\n",
              "          const dataTable =\n",
              "            await google.colab.kernel.invokeFunction('convertToInteractive',\n",
              "                                                     [key], {});\n",
              "          if (!dataTable) return;\n",
              "\n",
              "          const docLinkHtml = 'Like what you see? Visit the ' +\n",
              "            '<a target=\"_blank\" href=https://colab.research.google.com/notebooks/data_table.ipynb>data table notebook</a>'\n",
              "            + ' to learn more about interactive tables.';\n",
              "          element.innerHTML = '';\n",
              "          dataTable['output_type'] = 'display_data';\n",
              "          await google.colab.output.renderOutput(dataTable, element);\n",
              "          const docLink = document.createElement('div');\n",
              "          docLink.innerHTML = docLinkHtml;\n",
              "          element.appendChild(docLink);\n",
              "        }\n",
              "      </script>\n",
              "    </div>\n",
              "  </div>\n",
              "  "
            ]
          },
          "metadata": {},
          "execution_count": 30
        }
      ],
      "source": [
        "def clean_dataset(df):\n",
        "    assert isinstance(df, pd.DataFrame), \"df needs to be a pd.DataFrame\"\n",
        "    df.dropna(inplace=True)\n",
        "    indices_to_keep = ~df.isin([np.nan, np.inf, -np.inf]).any(1)\n",
        "    return df[indices_to_keep].astype(np.float64)\n",
        "\n",
        "clean_dataset(W2v_df_dataTraining)\n",
        "W2v_df_dataTraining"
      ]
    },
    {
      "cell_type": "code",
      "execution_count": 31,
      "metadata": {
        "colab": {
          "base_uri": "https://localhost:8080/"
        },
        "id": "BLF9FU_Ezdl5",
        "outputId": "2572d2a5-5ab8-4a66-fa77-8ceccb3d1b22"
      },
      "outputs": [
        {
          "output_type": "execute_result",
          "data": {
            "text/plain": [
              "array([[ 0.5896474 , -0.0329686 ,  1.57785791, ...,  0.37591602,\n",
              "         0.98180843, -1.70446447],\n",
              "       [ 0.16984885, -0.94846334, -1.93605267, ..., -1.13215766,\n",
              "         0.39869305,  0.635384  ],\n",
              "       [ 0.04920737, -0.05525941,  1.16289923, ...,  0.70367819,\n",
              "         0.56291684, -0.80969728],\n",
              "       ...,\n",
              "       [-0.95835596, -0.2047959 , -0.41508558, ...,  0.63388551,\n",
              "        -0.31400326,  0.85673897],\n",
              "       [ 0.5246552 , -1.01338077, -2.30830572, ..., -1.62916827,\n",
              "         0.43503892,  0.59097428],\n",
              "       [ 0.75952328,  0.62799785, -0.26910375, ..., -0.89697514,\n",
              "        -0.32716766,  0.057265  ]])"
            ]
          },
          "metadata": {},
          "execution_count": 31
        }
      ],
      "source": [
        "X = W2v_df_dataTraining.drop(\"label\",axis=1).to_numpy()\n",
        "X"
      ]
    },
    {
      "cell_type": "code",
      "source": [
        "W2v_df_dataTraining['label'].value_counts()"
      ],
      "metadata": {
        "colab": {
          "base_uri": "https://localhost:8080/"
        },
        "id": "J9CIr5YC5gQE",
        "outputId": "c5c6c067-b01c-49e3-e53c-0706e4941602"
      },
      "execution_count": 32,
      "outputs": [
        {
          "output_type": "execute_result",
          "data": {
            "text/plain": [
              "2    7783\n",
              "1    7736\n",
              "0    2121\n",
              "Name: label, dtype: int64"
            ]
          },
          "metadata": {},
          "execution_count": 32
        }
      ]
    },
    {
      "cell_type": "code",
      "source": [
        "# W2v_df_dataTraining.to_csv(r'dataBersih.csv', index = False, header = True,index_label=None)"
      ],
      "metadata": {
        "id": "r_P7RI1j61Pr"
      },
      "execution_count": null,
      "outputs": []
    },
    {
      "cell_type": "code",
      "execution_count": 33,
      "metadata": {
        "id": "ZJn8W3dtCDmh"
      },
      "outputs": [],
      "source": [
        "y = W2v_df_dataTraining['label'].to_numpy()\n",
        "X = W2v_df_dataTraining.drop(\"label\",axis=1).to_numpy()"
      ]
    },
    {
      "cell_type": "code",
      "execution_count": 34,
      "metadata": {
        "id": "PTV3AdcX0uHR"
      },
      "outputs": [],
      "source": [
        "W2v_df_dataTraining['label'] = pd.to_numeric(W2v_df_dataTraining['label'])"
      ]
    },
    {
      "cell_type": "code",
      "execution_count": 35,
      "metadata": {
        "colab": {
          "base_uri": "https://localhost:8080/"
        },
        "id": "bj6DfTMsz7jA",
        "outputId": "6ba366fb-ce29-4650-d7c3-dc6277560175"
      },
      "outputs": [
        {
          "output_type": "execute_result",
          "data": {
            "text/plain": [
              "array([2, 1, 2, 2, 2])"
            ]
          },
          "metadata": {},
          "execution_count": 35
        }
      ],
      "source": [
        "y = W2v_df_dataTraining[\"label\"].to_numpy()\n",
        "y[0:5]"
      ]
    },
    {
      "cell_type": "code",
      "source": [
        "from sklearn.model_selection import train_test_split\n",
        "X_train, X_test, y_train, y_test = train_test_split(X, y,test_size = 0.2, stratify=y, random_state=30)"
      ],
      "metadata": {
        "id": "GxQUmLk-5CkL"
      },
      "execution_count": 36,
      "outputs": []
    },
    {
      "cell_type": "code",
      "source": [
        "print(X_train.shape)\n",
        "print(y_train.shape)\n",
        "print(X_test.shape)\n",
        "print(y_test.shape)"
      ],
      "metadata": {
        "colab": {
          "base_uri": "https://localhost:8080/"
        },
        "id": "eDokGTfT5D0F",
        "outputId": "7cef2616-52a6-4496-fe1a-27214f1ae52f"
      },
      "execution_count": 37,
      "outputs": [
        {
          "output_type": "stream",
          "name": "stdout",
          "text": [
            "(14112, 200)\n",
            "(14112,)\n",
            "(3528, 200)\n",
            "(3528,)\n"
          ]
        }
      ]
    },
    {
      "cell_type": "markdown",
      "metadata": {
        "id": "7GeHCF5Ky93x"
      },
      "source": [
        "# **RANDOM** **FOREST**"
      ]
    },
    {
      "cell_type": "code",
      "execution_count": 38,
      "metadata": {
        "id": "l27ic694zWp6"
      },
      "outputs": [],
      "source": [
        "from sklearn.model_selection import train_test_split\n",
        "from sklearn.metrics import accuracy_score\n",
        "from sklearn import tree\n",
        "from sklearn.metrics import confusion_matrix,classification_report\n",
        "from sklearn.tree import DecisionTreeClassifier, plot_tree, export_graphviz\n",
        "from sklearn import metrics\n",
        "from sklearn.metrics import roc_auc_score, roc_curve  \n",
        "from sklearn.impute import SimpleImputer\n",
        "from sklearn.pipeline import make_pipeline\n",
        "from sklearn.ensemble import RandomForestClassifier\n",
        "rf = RandomForestClassifier()"
      ]
    },
    {
      "cell_type": "code",
      "execution_count": 39,
      "metadata": {
        "id": "2t7MhjjgzXoT",
        "colab": {
          "base_uri": "https://localhost:8080/"
        },
        "outputId": "ee35797e-94ff-471e-885b-1bf052497335"
      },
      "outputs": [
        {
          "output_type": "stream",
          "name": "stdout",
          "text": [
            "Akurasi Model Yang Dihasilkan: 89.62585034013605\n",
            "              precision    recall  f1-score   support\n",
            "\n",
            "           0       0.90      0.55      0.69       424\n",
            "           1       0.92      0.93      0.93      1547\n",
            "           2       0.87      0.95      0.91      1557\n",
            "\n",
            "    accuracy                           0.90      3528\n",
            "   macro avg       0.90      0.81      0.84      3528\n",
            "weighted avg       0.90      0.90      0.89      3528\n",
            "\n",
            "[[ 235   66  123]\n",
            " [  12 1445   90]\n",
            " [  14   61 1482]]\n"
          ]
        }
      ],
      "source": [
        "clf = RandomForestClassifier(n_estimators=200, max_depth=13, criterion='entropy')\n",
        "clf.fit(X,y)\n",
        "\n",
        "predikcld = clf.predict(X_test)\n",
        "accuracy = accuracy_score(y_test, predikcld)\n",
        "print('Akurasi Model Yang Dihasilkan:', 100*accuracy)\n",
        "print (classification_report(y_test,predikcld))\n",
        "print (confusion_matrix(y_test,predikcld))"
      ]
    },
    {
      "cell_type": "code",
      "execution_count": 40,
      "metadata": {
        "colab": {
          "base_uri": "https://localhost:8080/"
        },
        "id": "0OcE4uLHza4w",
        "outputId": "94514e5b-5ef4-42e9-fc22-71b02389c48a"
      },
      "outputs": [
        {
          "output_type": "stream",
          "name": "stdout",
          "text": [
            "Random Forest Accuracy:  0.8962585034013606\n",
            "Random Forest Precision:  0.8971439243564101\n",
            "Random Forest Recall:  0.8962585034013606\n",
            "Random Forest f1_score:  0.891000048537258\n"
          ]
        }
      ],
      "source": [
        "from sklearn.metrics import accuracy_score, precision_score, recall_score, f1_score\n",
        "from sklearn.metrics import classification_report\n",
        "\n",
        "print(\"Random Forest Accuracy: \", accuracy_score(y_test, predikcld))\n",
        "print(\"Random Forest Precision: \", precision_score(y_test, predikcld,  average='weighted'))\n",
        "print(\"Random Forest Recall: \", recall_score(y_test, predikcld, average='weighted'))\n",
        "print(\"Random Forest f1_score: \", f1_score(y_test, predikcld, average='weighted'))"
      ]
    },
    {
      "cell_type": "markdown",
      "metadata": {
        "id": "JJULK14jzBwb"
      },
      "source": [
        "# **XGBOOST**"
      ]
    },
    {
      "cell_type": "code",
      "source": [
        "import xgboost as xgb"
      ],
      "metadata": {
        "id": "Iz9NplQvtR59"
      },
      "execution_count": 41,
      "outputs": []
    },
    {
      "cell_type": "code",
      "source": [
        "# Membuat model XGBoost\n",
        "model = xgb.XGBClassifier(max_depth=6, n_estimators=200, learning_rate=0.05)\n",
        "model.fit(X_train, y_train)\n",
        "\n",
        "# Memprediksi sentimen pada data uji\n",
        "y_pred = model.predict(X_test)\n",
        "\n",
        "# Menghitung akurasi\n",
        "accuracy = accuracy_score(y_test, y_pred)\n",
        "print('Akurasi:', accuracy)"
      ],
      "metadata": {
        "colab": {
          "base_uri": "https://localhost:8080/"
        },
        "id": "VSD05w85tiZS",
        "outputId": "4fc8e86d-5c90-49fb-8e63-a85a05633214"
      },
      "execution_count": 42,
      "outputs": [
        {
          "output_type": "stream",
          "name": "stdout",
          "text": [
            "Akurasi: 0.8069727891156463\n"
          ]
        }
      ]
    },
    {
      "cell_type": "code",
      "source": [
        "print(\"Hasil Klasifikasi : \\n\\n\", classification_report(y_test, y_pred))"
      ],
      "metadata": {
        "colab": {
          "base_uri": "https://localhost:8080/"
        },
        "id": "MCMud9iZ7ZwT",
        "outputId": "6fd8d133-5500-41ab-98be-2106c0a4bd5f"
      },
      "execution_count": 43,
      "outputs": [
        {
          "output_type": "stream",
          "name": "stdout",
          "text": [
            "Hasil Klasifikasi : \n",
            "\n",
            "               precision    recall  f1-score   support\n",
            "\n",
            "           0       0.59      0.28      0.38       424\n",
            "           1       0.84      0.88      0.86      1547\n",
            "           2       0.81      0.87      0.84      1557\n",
            "\n",
            "    accuracy                           0.81      3528\n",
            "   macro avg       0.74      0.68      0.69      3528\n",
            "weighted avg       0.79      0.81      0.79      3528\n",
            "\n"
          ]
        }
      ]
    },
    {
      "cell_type": "markdown",
      "metadata": {
        "id": "vaY9VqEDzHCi"
      },
      "source": [
        "# **SVM**"
      ]
    },
    {
      "cell_type": "code",
      "execution_count": 47,
      "metadata": {
        "id": "HyA8YXHotBRV"
      },
      "outputs": [],
      "source": [
        "from sklearn import svm"
      ]
    },
    {
      "cell_type": "code",
      "source": [
        "svm = svm.SVC(class_weight=None, C=10, gamma=0.001, kernel='linear', random_state=0, probability=True)\n",
        "svm.fit(X_train, y_train)\n",
        "\n",
        "y_pred_svm = svm.predict(X_test)"
      ],
      "metadata": {
        "id": "vq8wuYgcBeI5"
      },
      "execution_count": 48,
      "outputs": []
    },
    {
      "cell_type": "code",
      "execution_count": 49,
      "metadata": {
        "colab": {
          "base_uri": "https://localhost:8080/"
        },
        "id": "ZvKwBzyVtJfz",
        "outputId": "01923b40-97f0-4483-c7d0-f62198319ec2"
      },
      "outputs": [
        {
          "output_type": "stream",
          "name": "stdout",
          "text": [
            "Hasil Klasifikasi : \n",
            "\n",
            "               precision    recall  f1-score   support\n",
            "\n",
            "           0       0.64      0.33      0.44       424\n",
            "           1       0.85      0.89      0.87      1547\n",
            "           2       0.82      0.89      0.85      1557\n",
            "\n",
            "    accuracy                           0.82      3528\n",
            "   macro avg       0.77      0.71      0.72      3528\n",
            "weighted avg       0.81      0.82      0.81      3528\n",
            "\n"
          ]
        }
      ],
      "source": [
        "print(\"Hasil Klasifikasi : \\n\\n\", classification_report(y_test, y_pred_svm))"
      ]
    },
    {
      "cell_type": "markdown",
      "source": [
        "# **SOFT** **VOTING**"
      ],
      "metadata": {
        "id": "6ZpVsEJKaHHF"
      }
    },
    {
      "cell_type": "code",
      "source": [
        "from sklearn.ensemble import VotingClassifier\n",
        "\n",
        "# Menggabungkan model dengan VotingClassifier dan menentukan bobot untuk setiap model\n",
        "voting_clf = VotingClassifier(estimators=[('rf', clf), ('xgb', model), ('svm', svm)],\n",
        "                              voting='soft', weights=[0.4, 0.2, 0.4])\n",
        "\n",
        "# Melatih model VotingClassifier\n",
        "voting_clf.fit(X_train, y_train)\n",
        "\n",
        "# Membuat prediksi menggunakan model VotingClassifier\n",
        "y_pred = voting_clf.predict(X_test)"
      ],
      "metadata": {
        "id": "V2RuB4TMaSML"
      },
      "execution_count": 52,
      "outputs": []
    },
    {
      "cell_type": "code",
      "source": [
        "# Compute the accuracy of the model\n",
        "accuracy = accuracy_score(y_test, y_pred)\n",
        "print(\"Accuracy:\", accuracy)"
      ],
      "metadata": {
        "colab": {
          "base_uri": "https://localhost:8080/"
        },
        "id": "LECWLbaegNld",
        "outputId": "ceea0842-7f6a-44b0-b3c7-c11846069ed6"
      },
      "execution_count": 53,
      "outputs": [
        {
          "output_type": "stream",
          "name": "stdout",
          "text": [
            "Accuracy: 0.8183106575963719\n"
          ]
        }
      ]
    },
    {
      "cell_type": "code",
      "source": [
        "print(\"Hasil Klasifikasi : \\n\\n\", classification_report(y_test, y_pred))"
      ],
      "metadata": {
        "colab": {
          "base_uri": "https://localhost:8080/"
        },
        "id": "8oEOe00LaS8k",
        "outputId": "de6bee4e-82bb-4c16-d8f5-e345f2c083ef"
      },
      "execution_count": 54,
      "outputs": [
        {
          "output_type": "stream",
          "name": "stdout",
          "text": [
            "Hasil Klasifikasi : \n",
            "\n",
            "               precision    recall  f1-score   support\n",
            "\n",
            "           0       0.66      0.29      0.41       424\n",
            "           1       0.84      0.89      0.87      1547\n",
            "           2       0.81      0.89      0.85      1557\n",
            "\n",
            "    accuracy                           0.82      3528\n",
            "   macro avg       0.77      0.69      0.71      3528\n",
            "weighted avg       0.81      0.82      0.80      3528\n",
            "\n"
          ]
        }
      ]
    }
  ],
  "metadata": {
    "colab": {
      "collapsed_sections": [
        "JJULK14jzBwb",
        "vaY9VqEDzHCi"
      ],
      "provenance": [],
      "toc_visible": true,
      "include_colab_link": true
    },
    "kernelspec": {
      "display_name": "Python 3",
      "name": "python3"
    },
    "language_info": {
      "name": "python"
    }
  },
  "nbformat": 4,
  "nbformat_minor": 0
}